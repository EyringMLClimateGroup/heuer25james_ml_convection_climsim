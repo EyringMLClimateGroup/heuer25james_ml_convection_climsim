{
 "cells": [
  {
   "cell_type": "code",
   "execution_count": 1,
   "id": "09f44b36-96d1-4436-b1ee-0403a5189337",
   "metadata": {},
   "outputs": [],
   "source": [
    "import numpy as np\n",
    "import matplotlib.pyplot as plt\n",
    "import pandas as pd\n",
    "from io import StringIO\n",
    "import seaborn as sns"
   ]
  },
  {
   "cell_type": "markdown",
   "id": "6a6bccba-5598-4d68-bd43-0efde8a3628f",
   "metadata": {},
   "source": [
    "# Get metrics"
   ]
  },
  {
   "cell_type": "code",
   "execution_count": 2,
   "id": "2a128531-6c8a-48c4-903f-0f616c8e597a",
   "metadata": {},
   "outputs": [
    {
     "data": {
      "text/plain": [
       "183"
      ]
     },
     "execution_count": 2,
     "metadata": {},
     "output_type": "execute_result"
    }
   ],
   "source": [
    "import os\n",
    "import pandas as pd\n",
    "import matplotlib.pyplot as plt\n",
    "import re\n",
    "\n",
    "base_path = '/work/bd1179/b309215/MyIconEval/Metrics/'\n",
    "metric_files = [f for f in sorted(os.listdir(base_path)) if 'trueerror' not in f]# and 'pinn' not in f]\n",
    "# metric_files = [f for f in metric_files if '10p0_20p1' in f or '10p0_90p1' in f or '80p0_90p1' in f or 'baseline' in f]\n",
    "len(metric_files)"
   ]
  },
  {
   "cell_type": "code",
   "execution_count": 3,
   "id": "fedb6278-3e18-4cf9-bc14-a9dffe1127ad",
   "metadata": {},
   "outputs": [],
   "source": [
    "baseline_file = metric_files[0]"
   ]
  },
  {
   "cell_type": "code",
   "execution_count": 4,
   "id": "116b467e-5e68-4297-b007-20c6b98a191e",
   "metadata": {},
   "outputs": [],
   "source": [
    "def p0p1_to_mlweight_naiv(p0, p1):\n",
    "    return p0/100 + (p1-p0)/2/100"
   ]
  },
  {
   "cell_type": "code",
   "execution_count": 5,
   "id": "552b2277-3f1d-4c14-b146-899898a4b698",
   "metadata": {},
   "outputs": [
    {
     "data": {
      "text/plain": [
       "182"
      ]
     },
     "execution_count": 5,
     "metadata": {},
     "output_type": "execute_result"
    }
   ],
   "source": [
    "all_metrics = {}\n",
    "pinn_counts = {}\n",
    "pinn_counts['0'] = 0\n",
    "\n",
    "for f in metric_files:\n",
    "    pinnweight = None\n",
    "    # all_metrics[f.replace('.csv', '')] = pd.read_csv(os.path.join(base_path, f))\n",
    "    p0p1 = re.search(r'(\\d*p0_\\d*p1)', f)\n",
    "    pinn = re.search(r'_pinn385weight(\\d*\\.\\d*).csv', f)\n",
    "    p0 = '0'\n",
    "    p1 = '0'\n",
    "    if p0p1:\n",
    "        p0p1 = p0p1.group(1)\n",
    "        # if '10p0_20p1' in p0p1:\n",
    "        #     print(f)\n",
    "        p0 = float(re.search(r'(\\d*)p0.*', p0p1).group(1))\n",
    "        p1 = float(re.search(r'.*?(\\d*)p1.*', p0p1).group(1))\n",
    "        ml_weight_naiv = p0p1_to_mlweight_naiv(p0, p1)\n",
    "        # ml_weight_naiv.append(3)\n",
    "        # key = p0p1\n",
    "        key = f'Mixed:{int(p0)}-{int(p1)}'\n",
    "    elif 'baseline' in f:\n",
    "        key = 'Tiedtke'\n",
    "        ml_weight_naiv = 0\n",
    "        pinnweight = 'Tiedtke'\n",
    "    elif 'fullml' in f:\n",
    "        key = 'Pure ML'\n",
    "        ml_weight_naiv = 1\n",
    "    else:\n",
    "        raise Exception()\n",
    "    if pinn:\n",
    "        if 'fullml' in f:\n",
    "            continue\n",
    "        pinnweight = pinn.group(1)\n",
    "        # key += f'_pinn{pinnweight}'\n",
    "        key += f'_{float(pinnweight):.2f}$\\\\alpha$'\n",
    "        if not pinn.group(1) in pinn_counts.keys():\n",
    "            pinn_counts[pinnweight] = 1\n",
    "        else:\n",
    "            pinn_counts[pinnweight] += 1\n",
    "        # if pinn.group(1) == '0.1':\n",
    "        #     print(f)\n",
    "    elif not 'baseline' in f:\n",
    "        pinn_counts['0'] += 1\n",
    "        if not 'fullml' in f:\n",
    "            key += f'_0.00$\\\\alpha$'\n",
    "        if pinnweight is None:\n",
    "            pinnweight = '0'\n",
    "    # if pinnweight == '0':\n",
    "    #     print(f)\n",
    "    #     bla += 1\n",
    "        \n",
    "    all_metrics[key] = pd.read_csv(os.path.join(base_path, f))\n",
    "    all_metrics[key]['ml_weight_naiv'] = ml_weight_naiv\n",
    "    all_metrics[key]['pinnweight'] = pinnweight\n",
    "    all_metrics[key]['expname'] = f\n",
    "    all_metrics[key]['p0'] = p0\n",
    "    all_metrics[key]['p1'] = p1\n",
    "\n",
    "len(all_metrics)"
   ]
  },
  {
   "cell_type": "code",
   "execution_count": 6,
   "id": "7a1c382a-df91-4dc3-9afc-563313b0f1cd",
   "metadata": {},
   "outputs": [
    {
     "data": {
      "text/html": [
       "<div>\n",
       "<style scoped>\n",
       "    .dataframe tbody tr th:only-of-type {\n",
       "        vertical-align: middle;\n",
       "    }\n",
       "\n",
       "    .dataframe tbody tr th {\n",
       "        vertical-align: top;\n",
       "    }\n",
       "\n",
       "    .dataframe thead th {\n",
       "        text-align: right;\n",
       "    }\n",
       "</style>\n",
       "<table border=\"1\" class=\"dataframe\">\n",
       "  <thead>\n",
       "    <tr style=\"text-align: right;\">\n",
       "      <th></th>\n",
       "      <th>pr_mean_icon</th>\n",
       "      <th>pr_mean_gpcp</th>\n",
       "      <th>pr_bias_gpcp</th>\n",
       "      <th>pr_rmse_gpcp</th>\n",
       "      <th>pr_r2_gpcp</th>\n",
       "      <th>tas_mean_icon</th>\n",
       "      <th>tas_mean_era5</th>\n",
       "      <th>tas_bias_era5</th>\n",
       "      <th>tas_rmse_era5</th>\n",
       "      <th>tas_r2_era5</th>\n",
       "      <th>...</th>\n",
       "      <th>E_mean_residual</th>\n",
       "      <th>m_mean_residual</th>\n",
       "      <th>u_mean_residual</th>\n",
       "      <th>v_mean_residual</th>\n",
       "      <th>ml_weight_naiv</th>\n",
       "      <th>pinnweight</th>\n",
       "      <th>expname</th>\n",
       "      <th>p0</th>\n",
       "      <th>p1</th>\n",
       "      <th>label</th>\n",
       "    </tr>\n",
       "  </thead>\n",
       "  <tbody>\n",
       "    <tr>\n",
       "      <th>0</th>\n",
       "      <td>2.488060</td>\n",
       "      <td>2.721314</td>\n",
       "      <td>-0.233255</td>\n",
       "      <td>2.303083</td>\n",
       "      <td>0.307155</td>\n",
       "      <td>287.142877</td>\n",
       "      <td>288.122508</td>\n",
       "      <td>-0.979631</td>\n",
       "      <td>5.156249</td>\n",
       "      <td>0.879274</td>\n",
       "      <td>...</td>\n",
       "      <td>-0.004807</td>\n",
       "      <td>-2.734608e-14</td>\n",
       "      <td>-4.046070e-12</td>\n",
       "      <td>1.447074e-11</td>\n",
       "      <td>0.00</td>\n",
       "      <td>Tiedtke</td>\n",
       "      <td>heuer_atm_amip_R2B4_vlvl60_baseline.csv</td>\n",
       "      <td>0</td>\n",
       "      <td>0</td>\n",
       "      <td>Tiedtke</td>\n",
       "    </tr>\n",
       "    <tr>\n",
       "      <th>0</th>\n",
       "      <td>2.309037</td>\n",
       "      <td>2.721314</td>\n",
       "      <td>-0.412277</td>\n",
       "      <td>2.000138</td>\n",
       "      <td>0.351400</td>\n",
       "      <td>286.919188</td>\n",
       "      <td>288.122508</td>\n",
       "      <td>-1.203319</td>\n",
       "      <td>5.468991</td>\n",
       "      <td>0.883521</td>\n",
       "      <td>...</td>\n",
       "      <td>18.636816</td>\n",
       "      <td>-2.422990e-07</td>\n",
       "      <td>-1.506788e-03</td>\n",
       "      <td>-4.873045e-04</td>\n",
       "      <td>0.15</td>\n",
       "      <td>0</td>\n",
       "      <td>heuer_atm_amip_R2B4_vlvl60_nonconservative_nn0...</td>\n",
       "      <td>10.0</td>\n",
       "      <td>20.0</td>\n",
       "      <td>Mixed:10-20_0.00$\\alpha$</td>\n",
       "    </tr>\n",
       "    <tr>\n",
       "      <th>0</th>\n",
       "      <td>2.306197</td>\n",
       "      <td>2.721314</td>\n",
       "      <td>-0.415117</td>\n",
       "      <td>2.077817</td>\n",
       "      <td>0.210167</td>\n",
       "      <td>286.877842</td>\n",
       "      <td>288.122508</td>\n",
       "      <td>-1.244666</td>\n",
       "      <td>5.587121</td>\n",
       "      <td>0.877459</td>\n",
       "      <td>...</td>\n",
       "      <td>33.068153</td>\n",
       "      <td>-3.373733e-06</td>\n",
       "      <td>-4.356172e-03</td>\n",
       "      <td>-7.448004e-04</td>\n",
       "      <td>0.50</td>\n",
       "      <td>0</td>\n",
       "      <td>heuer_atm_amip_R2B4_vlvl60_nonconservative_nn0...</td>\n",
       "      <td>10.0</td>\n",
       "      <td>90.0</td>\n",
       "      <td>Mixed:10-90_0.00$\\alpha$</td>\n",
       "    </tr>\n",
       "    <tr>\n",
       "      <th>0</th>\n",
       "      <td>2.318717</td>\n",
       "      <td>2.721314</td>\n",
       "      <td>-0.402597</td>\n",
       "      <td>2.121830</td>\n",
       "      <td>0.200653</td>\n",
       "      <td>286.924630</td>\n",
       "      <td>288.122508</td>\n",
       "      <td>-1.197878</td>\n",
       "      <td>5.775682</td>\n",
       "      <td>0.873346</td>\n",
       "      <td>...</td>\n",
       "      <td>28.990456</td>\n",
       "      <td>-8.310051e-07</td>\n",
       "      <td>-2.542775e-03</td>\n",
       "      <td>-6.853089e-04</td>\n",
       "      <td>0.30</td>\n",
       "      <td>0</td>\n",
       "      <td>heuer_atm_amip_R2B4_vlvl60_nonconservative_nn0...</td>\n",
       "      <td>20.0</td>\n",
       "      <td>40.0</td>\n",
       "      <td>Mixed:20-40_0.00$\\alpha$</td>\n",
       "    </tr>\n",
       "    <tr>\n",
       "      <th>0</th>\n",
       "      <td>2.276979</td>\n",
       "      <td>2.721314</td>\n",
       "      <td>-0.444336</td>\n",
       "      <td>2.126226</td>\n",
       "      <td>0.167369</td>\n",
       "      <td>286.997479</td>\n",
       "      <td>288.122508</td>\n",
       "      <td>-1.125029</td>\n",
       "      <td>5.552165</td>\n",
       "      <td>0.883234</td>\n",
       "      <td>...</td>\n",
       "      <td>32.218350</td>\n",
       "      <td>-1.774368e-06</td>\n",
       "      <td>-3.375264e-03</td>\n",
       "      <td>-7.589161e-04</td>\n",
       "      <td>0.45</td>\n",
       "      <td>0</td>\n",
       "      <td>heuer_atm_amip_R2B4_vlvl60_nonconservative_nn0...</td>\n",
       "      <td>20.0</td>\n",
       "      <td>70.0</td>\n",
       "      <td>Mixed:20-70_0.00$\\alpha$</td>\n",
       "    </tr>\n",
       "  </tbody>\n",
       "</table>\n",
       "<p>5 rows × 56 columns</p>\n",
       "</div>"
      ],
      "text/plain": [
       "   pr_mean_icon  pr_mean_gpcp  pr_bias_gpcp  pr_rmse_gpcp  pr_r2_gpcp  \\\n",
       "0      2.488060      2.721314     -0.233255      2.303083    0.307155   \n",
       "0      2.309037      2.721314     -0.412277      2.000138    0.351400   \n",
       "0      2.306197      2.721314     -0.415117      2.077817    0.210167   \n",
       "0      2.318717      2.721314     -0.402597      2.121830    0.200653   \n",
       "0      2.276979      2.721314     -0.444336      2.126226    0.167369   \n",
       "\n",
       "   tas_mean_icon  tas_mean_era5  tas_bias_era5  tas_rmse_era5  tas_r2_era5  \\\n",
       "0     287.142877     288.122508      -0.979631       5.156249     0.879274   \n",
       "0     286.919188     288.122508      -1.203319       5.468991     0.883521   \n",
       "0     286.877842     288.122508      -1.244666       5.587121     0.877459   \n",
       "0     286.924630     288.122508      -1.197878       5.775682     0.873346   \n",
       "0     286.997479     288.122508      -1.125029       5.552165     0.883234   \n",
       "\n",
       "   ...  E_mean_residual  m_mean_residual  u_mean_residual  v_mean_residual  \\\n",
       "0  ...        -0.004807    -2.734608e-14    -4.046070e-12     1.447074e-11   \n",
       "0  ...        18.636816    -2.422990e-07    -1.506788e-03    -4.873045e-04   \n",
       "0  ...        33.068153    -3.373733e-06    -4.356172e-03    -7.448004e-04   \n",
       "0  ...        28.990456    -8.310051e-07    -2.542775e-03    -6.853089e-04   \n",
       "0  ...        32.218350    -1.774368e-06    -3.375264e-03    -7.589161e-04   \n",
       "\n",
       "   ml_weight_naiv  pinnweight  \\\n",
       "0            0.00     Tiedtke   \n",
       "0            0.15           0   \n",
       "0            0.50           0   \n",
       "0            0.30           0   \n",
       "0            0.45           0   \n",
       "\n",
       "                                             expname    p0    p1  \\\n",
       "0            heuer_atm_amip_R2B4_vlvl60_baseline.csv     0     0   \n",
       "0  heuer_atm_amip_R2B4_vlvl60_nonconservative_nn0...  10.0  20.0   \n",
       "0  heuer_atm_amip_R2B4_vlvl60_nonconservative_nn0...  10.0  90.0   \n",
       "0  heuer_atm_amip_R2B4_vlvl60_nonconservative_nn0...  20.0  40.0   \n",
       "0  heuer_atm_amip_R2B4_vlvl60_nonconservative_nn0...  20.0  70.0   \n",
       "\n",
       "                      label  \n",
       "0                   Tiedtke  \n",
       "0  Mixed:10-20_0.00$\\alpha$  \n",
       "0  Mixed:10-90_0.00$\\alpha$  \n",
       "0  Mixed:20-40_0.00$\\alpha$  \n",
       "0  Mixed:20-70_0.00$\\alpha$  \n",
       "\n",
       "[5 rows x 56 columns]"
      ]
     },
     "execution_count": 6,
     "metadata": {},
     "output_type": "execute_result"
    }
   ],
   "source": [
    "df = pd.concat(all_metrics.values())\n",
    "df['label'] = all_metrics.keys()\n",
    "df.head()"
   ]
  },
  {
   "cell_type": "code",
   "execution_count": 7,
   "id": "c8c396dd-9f52-401a-8db2-29924eaa02f8",
   "metadata": {},
   "outputs": [
    {
     "data": {
      "text/plain": [
       "{'0': 37, '0.01': 36, '0.1': 36, '0.5': 36, '0.9': 36}"
      ]
     },
     "execution_count": 7,
     "metadata": {},
     "output_type": "execute_result"
    }
   ],
   "source": [
    "pinn_counts"
   ]
  },
  {
   "cell_type": "code",
   "execution_count": 8,
   "id": "89934da5-5703-41f7-a666-d8b42afabb6c",
   "metadata": {},
   "outputs": [
    {
     "name": "stdout",
     "output_type": "stream",
     "text": [
      "Possible metrics:  Index(['pr_mean_icon', 'pr_mean_gpcp', 'pr_bias_gpcp', 'pr_rmse_gpcp',\n",
      "       'pr_r2_gpcp', 'tas_mean_icon', 'tas_mean_era5', 'tas_bias_era5',\n",
      "       'tas_rmse_era5', 'tas_r2_era5', 'prw_mean_icon', 'prw_mean_multi',\n",
      "       'prw_bias_multi', 'prw_rmse_multi', 'prw_r2_multi', 'clt_mean_icon',\n",
      "       'clt_mean_multi', 'clt_bias_multi', 'clt_rmse_multi', 'clt_r2_multi',\n",
      "       'cl_mean_icon', 'cl_mean_era5', 'cl_bias_era5', 'cl_rmse_era5',\n",
      "       'cl_r2_era5', 'lwcre_mean_icon', 'lwcre_mean_multi', 'lwcre_bias_multi',\n",
      "       'lwcre_rmse_multi', 'lwcre_r2_multi', 'swcre_mean_icon',\n",
      "       'swcre_mean_multi', 'swcre_bias_multi', 'swcre_rmse_multi',\n",
      "       'swcre_r2_multi', 'pr_zon_rmse_obs', 'pr_zon_mae_obs',\n",
      "       'pr_zon_bias_obs', 'pr_zon_rmse_era5', 'pr_zon_mae_era5',\n",
      "       'pr_zon_bias_era5', 'ml_weight', 'E_meanabs_residual',\n",
      "       'm_meanabs_residual', 'u_meanabs_residual', 'v_meanabs_residual',\n",
      "       'E_mean_residual', 'm_mean_residual', 'u_mean_residual',\n",
      "       'v_mean_residual', 'ml_weight_naiv', 'pinnweight', 'expname', 'p0',\n",
      "       'p1'],\n",
      "      dtype='object')\n"
     ]
    }
   ],
   "source": [
    "print('Possible metrics: ', list(all_metrics.values())[0].columns)"
   ]
  },
  {
   "cell_type": "code",
   "execution_count": 9,
   "id": "e1f2d709-8c09-4bb7-88e5-a72949c90c5b",
   "metadata": {},
   "outputs": [],
   "source": [
    "# all_metrics"
   ]
  },
  {
   "cell_type": "code",
   "execution_count": 10,
   "id": "112a2837-e3ee-4587-9ac7-018f9735c99a",
   "metadata": {},
   "outputs": [],
   "source": [
    "# metric = 'tas_rmse_era5'\n",
    "# metric = 'tas_r2_era5'\n",
    "# metric = 'tas_bias_era5'\n",
    "# metric = 'pr_rmse_gpcp'\n",
    "# metric = 'pr_r2_gpcp'\n",
    "# metric = 'pr_bias_gpcp'\n",
    "# metric = 'prw_rmse_multi'\n",
    "# metric = 'prw_r2_multi'\n",
    "# metric = 'prw_bias_multi'\n",
    "# metric = 'clt_rmse_multi'\n",
    "# metric = 'clt_r2_multi'\n",
    "# metric = 'cl_r2_era5'\n",
    "# metric = 'cl_rmse_era5'\n",
    "# metric = 'lwcre_r2_multi'\n",
    "# metric = 'lwcre_rmse_multi'\n",
    "# metric = 'swcre_r2_multi'\n",
    "# metric = 'swcre_rmse_multi'\n",
    "# metric = 'pr_zon_rmse_obs'\n",
    "# metric = 'pr_zon_bias_obs'\n",
    "metric = 'E_meanabs_residual'\n",
    "# metric = 'E_mean_residual'\n",
    "\n",
    "# result = {}\n",
    "# # ml_weights = {}\n",
    "# for i, (k, v) in enumerate(all_metrics.items()):\n",
    "#     result[k] = [v['ml_weight'].item(), v['ml_weight_naiv'], v[metric].item()]\n",
    "#     # ml_weights[k] = v['ml_weight'].item()\n",
    "\n",
    "# # result = sorted(result, key=result.get)\n",
    "# result = dict(sorted(result.items(), key=lambda item: item[1][2]))"
   ]
  },
  {
   "cell_type": "code",
   "execution_count": 11,
   "id": "90cdbcab-41bf-4c4b-a132-544950536152",
   "metadata": {},
   "outputs": [],
   "source": [
    "# df[df['label'] == 'tiedtke']"
   ]
  },
  {
   "cell_type": "code",
   "execution_count": 12,
   "id": "8ab18b2c-89c0-48ee-8a4f-0c2b28ad0ab9",
   "metadata": {},
   "outputs": [
    {
     "data": {
      "image/png": "[encoded data removed]",
      "text/plain": [
       "<Figure size 1920x480 with 2 Axes>"
      ]
     },
     "metadata": {},
     "output_type": "display_data"
    }
   ],
   "source": [
    "# x = list(result.keys())\n",
    "# y = [r[2] for r in result.values()]\n",
    "# mlweights = [r[0] for r in result.values()]\n",
    "# mlweights_naiv = [r[1] for r in result.values()]\n",
    "\n",
    "df = df.sort_values(metric)\n",
    "# df.plot(x='label', y=metric, kind='bar')\n",
    "\n",
    "fig, ax = plt.subplots(constrained_layout=True, figsize=(6.4*3,4.8))\n",
    "\n",
    "ax.bar([xx for xx in range(len(df))], df[metric], width=0.4)\n",
    "ax2 = plt.gca().twinx()\n",
    "ax2.bar([xx+0.3 for xx in range(len(df))], df['ml_weight'], width=0.2, color='orange')\n",
    "# ax.set_ylabel('Score/RMSE/Residual')\n",
    "ax.set_ylabel('Residual')\n",
    "# ax2.bar([xx+0.45 for xx in range(len(x))], mlweights_naiv, width=0.05, color='orange')\n",
    "\n",
    "# ax.set_xticks(range(len(x)), [f'{l} ({round(mlw,2)})' for l,mlw in zip(x, mlweights)], rotation=90)\n",
    "# ax.set_xticks(range(len(x)), [l for l,mlw in zip(x, mlweights)], rotation=90)\n",
    "ax.set_xticks(range(len(df[metric])), df['label'], rotation=90)\n",
    "# ax.set_title(metric)\n",
    "ax.set_title(\"Mean Absolute Enthalpy residual (W m$^{-2}$)\")\n",
    "ax2.set_ylabel('< ML_weight >', color='orange')\n",
    "\n",
    "ax.set_xlim(-1, len(df))\n",
    "# ax.set_ylim(-3, 3)\n",
    "# ax.set_ylim(0, 1.1)\n",
    "# ax.set_ylim(-1, 1)\n",
    "# plt.savefig(f'Figures/ScoreComparison_{metric}.pdf')#, dpi=300)\n",
    "\n",
    "plt.show()"
   ]
  },
  {
   "cell_type": "code",
   "execution_count": 13,
   "id": "59831d06-db0c-4b4b-90a6-7ad2dab83d59",
   "metadata": {},
   "outputs": [
    {
     "data": {
      "text/html": [
       "<div>\n",
       "<style scoped>\n",
       "    .dataframe tbody tr th:only-of-type {\n",
       "        vertical-align: middle;\n",
       "    }\n",
       "\n",
       "    .dataframe tbody tr th {\n",
       "        vertical-align: top;\n",
       "    }\n",
       "\n",
       "    .dataframe thead th {\n",
       "        text-align: right;\n",
       "    }\n",
       "</style>\n",
       "<table border=\"1\" class=\"dataframe\">\n",
       "  <thead>\n",
       "    <tr style=\"text-align: right;\">\n",
       "      <th></th>\n",
       "      <th>pr_mean_icon</th>\n",
       "      <th>pr_mean_gpcp</th>\n",
       "      <th>pr_bias_gpcp</th>\n",
       "      <th>pr_rmse_gpcp</th>\n",
       "      <th>pr_r2_gpcp</th>\n",
       "      <th>tas_mean_icon</th>\n",
       "      <th>tas_mean_era5</th>\n",
       "      <th>tas_bias_era5</th>\n",
       "      <th>tas_rmse_era5</th>\n",
       "      <th>tas_r2_era5</th>\n",
       "      <th>...</th>\n",
       "      <th>E_mean_residual</th>\n",
       "      <th>m_mean_residual</th>\n",
       "      <th>u_mean_residual</th>\n",
       "      <th>v_mean_residual</th>\n",
       "      <th>ml_weight_naiv</th>\n",
       "      <th>pinnweight</th>\n",
       "      <th>expname</th>\n",
       "      <th>p0</th>\n",
       "      <th>p1</th>\n",
       "      <th>label</th>\n",
       "    </tr>\n",
       "  </thead>\n",
       "  <tbody>\n",
       "    <tr>\n",
       "      <th>0</th>\n",
       "      <td>2.769025</td>\n",
       "      <td>2.721314</td>\n",
       "      <td>0.047711</td>\n",
       "      <td>2.349262</td>\n",
       "      <td>0.167063</td>\n",
       "      <td>285.159395</td>\n",
       "      <td>288.122508</td>\n",
       "      <td>-2.963113</td>\n",
       "      <td>7.753891</td>\n",
       "      <td>0.803314</td>\n",
       "      <td>...</td>\n",
       "      <td>0.417053</td>\n",
       "      <td>4.328487e-08</td>\n",
       "      <td>0.002008</td>\n",
       "      <td>0.000303</td>\n",
       "      <td>0.35</td>\n",
       "      <td>0.1</td>\n",
       "      <td>heuer_atm_amip_R2B4_vlvl60_nonconservative_nn0...</td>\n",
       "      <td>10.0</td>\n",
       "      <td>60.0</td>\n",
       "      <td>Mixed:10-60_0.10$\\alpha$</td>\n",
       "    </tr>\n",
       "  </tbody>\n",
       "</table>\n",
       "<p>1 rows × 56 columns</p>\n",
       "</div>"
      ],
      "text/plain": [
       "   pr_mean_icon  pr_mean_gpcp  pr_bias_gpcp  pr_rmse_gpcp  pr_r2_gpcp  \\\n",
       "0      2.769025      2.721314      0.047711      2.349262    0.167063   \n",
       "\n",
       "   tas_mean_icon  tas_mean_era5  tas_bias_era5  tas_rmse_era5  tas_r2_era5  \\\n",
       "0     285.159395     288.122508      -2.963113       7.753891     0.803314   \n",
       "\n",
       "   ...  E_mean_residual  m_mean_residual  u_mean_residual  v_mean_residual  \\\n",
       "0  ...         0.417053     4.328487e-08         0.002008         0.000303   \n",
       "\n",
       "   ml_weight_naiv  pinnweight  \\\n",
       "0            0.35         0.1   \n",
       "\n",
       "                                             expname    p0    p1  \\\n",
       "0  heuer_atm_amip_R2B4_vlvl60_nonconservative_nn0...  10.0  60.0   \n",
       "\n",
       "                      label  \n",
       "0  Mixed:10-60_0.10$\\alpha$  \n",
       "\n",
       "[1 rows x 56 columns]"
      ]
     },
     "execution_count": 13,
     "metadata": {},
     "output_type": "execute_result"
    }
   ],
   "source": [
    "# df_plot['label'].str.contains(r'Mixed:10-60_0.01$\\alpha$')\n",
    "# r'Mixed:10-60_0.10$\\alpha$' in set(df_plot['label'])\n",
    "df[df['label'] == r'Mixed:10-60_0.10$\\alpha$']"
   ]
  },
  {
   "cell_type": "code",
   "execution_count": 14,
   "id": "73378d89-a331-44e5-a09f-e48fc1b97231",
   "metadata": {},
   "outputs": [],
   "source": [
    "def add_missing_models(df, df_plot, metric, missing_labels):\n",
    "    # display(df.head())\n",
    "    new_entries = []\n",
    "    for label in missing_labels:\n",
    "        if label not in set(df_plot['label']):\n",
    "            new_entry = df[df['label'] == label]\n",
    "            new_entry = new_entry[[metric,'ml_weight','label']]\n",
    "            new_entries.append(new_entry)\n",
    "    new_entries = pd.concat(new_entries)\n",
    "    return pd.concat([df_plot, new_entries])"
   ]
  },
  {
   "cell_type": "code",
   "execution_count": null,
   "id": "10f40477-c5e6-4941-8a70-bf56117b57c8",
   "metadata": {},
   "outputs": [],
   "source": []
  },
  {
   "cell_type": "code",
   "execution_count": 15,
   "id": "3c36d5e8-72f3-4e6a-99c6-4ecc714a24ad",
   "metadata": {},
   "outputs": [
    {
     "data": {
      "image/png": "[encoded data removed]",
      "text/plain": [
       "<Figure size 640x480 with 2 Axes>"
      ]
     },
     "metadata": {},
     "output_type": "display_data"
    }
   ],
   "source": [
    "from setup_mpl_tex import setup_mpl_tex\n",
    "import matplotlib as mpl\n",
    "\n",
    "mpl.rcParams['text.latex.preamble'] = r\"\\usepackage{amsmath}\"\n",
    "\n",
    "setup_mpl_tex()\n",
    "# x = list(result.keys())\n",
    "# y = [r[2] for r in result.values()]\n",
    "# mlweights = [r[0] for r in result.values()]\n",
    "# mlweights_naiv = [r[1] for r in result.values()]\n",
    "\n",
    "ntopflop = 10\n",
    "nthmiddle = 8\n",
    "\n",
    "mark_used_models = True\n",
    "\n",
    "# df = df.sort_values(metric)\n",
    "df_plot = df[[metric,'ml_weight','label']]\n",
    "df_plot = pd.concat([df_plot.iloc[:ntopflop], df_plot.iloc[ntopflop:-ntopflop:nthmiddle], df_plot.iloc[-ntopflop:]])\n",
    "\n",
    "if mark_used_models:\n",
    "    df_plot = add_missing_models(df, df_plot, metric, [r'Mixed:10-60_0.10$\\alpha$', r'Mixed:10-70_0.10$\\alpha$', r'Mixed:10-80_0.10$\\alpha$'])\n",
    "\n",
    "df_plot = df_plot.sort_values(metric)\n",
    "\n",
    "df_plot = df_plot.set_index(np.arange(len(df_plot)))\n",
    "df_plot['index'] = range(len(df_plot))\n",
    "df_plot.loc[ntopflop:,'index'] = df_plot.loc[ntopflop:,'index'] + 1\n",
    "df_plot.loc[len(df_plot)-ntopflop:,'index'] = df_plot.loc[len(df_plot)-ntopflop:,'index'] + 1\n",
    "# df.plot(x='label', y=metric, kind='bar')\n",
    "\n",
    "fig, ax = plt.subplots(constrained_layout=True, figsize=(6.4*1,4.8))\n",
    "\n",
    "ax.bar(df_plot['index'], df_plot[metric], width=0.4)\n",
    "ax2 = plt.gca().twinx()\n",
    "ax2.bar(df_plot['index']+0.3, df_plot['ml_weight'], width=0.2, color='purple')\n",
    "# ax.set_ylabel('Score/RMSE/Residual')\n",
    "# ax.set_ylabel('Residual')\n",
    "# ax2.bar([xx+0.45 for xx in range(len(x))], mlweights_naiv, width=0.05, color='orange')\n",
    "\n",
    "# ax.set_xticks(range(len(x)), [f'{l} ({round(mlw,2)})' for l,mlw in zip(x, mlweights)], rotation=90)\n",
    "# ax.set_xticks(range(len(x)), [l for l,mlw in zip(x, mlweights)], rotation=90)\n",
    "ticklabels = []\n",
    "for s in df_plot['label']:\n",
    "    label = s.replace('Mixed:', '')\n",
    "    if mark_used_models:\n",
    "        if label in ['Tiedtke', 'Pure ML', r'10-60_0.10$\\alpha$', r'10-70_0.10$\\alpha$', r'10-80_0.10$\\alpha$']:\n",
    "            label = r\"\\bf{\" + str(label).replace(r'\\alpha', r'\\boldsymbol{\\alpha}') + \"}\"\n",
    "    ticklabels.append(label)\n",
    "\n",
    "ax.set_xticks(df_plot['index'], ticklabels, rotation=90)\n",
    "# ax.set_xticks(df_plot['index'], [s.replace('Mixed:', '') for s in df_plot['label']], rotation=90)\n",
    "\n",
    "# ax.set_title(metric)\n",
    "ax.set_ylabel(\"Mean Absolute Enthalpy Residual (W m$^{-2}$)\")\n",
    "ax2.set_ylabel('$\\\\langle\\\\lambda\\\\rangle$', color='purple')\n",
    "\n",
    "ax.axvline(ntopflop+0.15, ls=':', color='black')\n",
    "ax.axvline(len(df_plot)-ntopflop+1+0.15, ls=':', color='black')\n",
    "\n",
    "ax.set_xlim(-1, df_plot['index'].iloc[-1]+1)\n",
    "# ax.grid()\n",
    "# ax.set_ylim(-3, 3)\n",
    "# ax.set_ylim(0, 1.1)\n",
    "# ax.set_ylim(-1, 1)\n",
    "# plt.savefig(f'Figures/ScoreComparison_{metric}_ntopflop{ntopflop}_nthmiddle{nthmiddle}_nomixedlabel_boldused.pdf')\n",
    "\n",
    "plt.show()"
   ]
  },
  {
   "cell_type": "code",
   "execution_count": 14,
   "id": "a2d9f186",
   "metadata": {},
   "outputs": [
    {
     "data": {
      "text/plain": [
       "Series([], Name: ml_weight, dtype: float64)"
      ]
     },
     "execution_count": 14,
     "metadata": {},
     "output_type": "execute_result"
    }
   ],
   "source": [
    "df[df['label']=='Mixed:10-60_0.1$\\\\alpha$']['ml_weight']"
   ]
  },
  {
   "cell_type": "code",
   "execution_count": 15,
   "id": "ec3e7602-20b3-456e-86ba-4e77ab1e8cbb",
   "metadata": {},
   "outputs": [],
   "source": [
    "def is_pareto_efficient_simple(costs):\n",
    "    \"\"\"\n",
    "    Find the pareto-efficient points\n",
    "    :param costs: An (n_points, n_costs) array\n",
    "    :return: A (n_points, ) boolean array, indicating whether each point is Pareto efficient\n",
    "    \"\"\"\n",
    "    is_efficient = np.ones(costs.shape[0], dtype = bool)\n",
    "    for i, c in enumerate(costs):\n",
    "        if is_efficient[i]:\n",
    "            is_efficient[is_efficient] = np.any(costs[is_efficient]<c, axis=1)  # Keep any point with a lower cost\n",
    "            is_efficient[i] = True  # And keep self\n",
    "    return is_efficient\n",
    "\n",
    "def get_sorted_pareto_front(metrics):\n",
    "    pareto_front = is_pareto_efficient_simple(np.stack(metrics, axis=1))\n",
    "    metrics_pareto = [m[pareto_front] for m in metrics]\n",
    "    sorted_idx = np.argsort(metrics_pareto[0])\n",
    "    metrics_pareto = [m[sorted_idx] for m in metrics_pareto]\n",
    "    return metrics_pareto, pareto_front"
   ]
  },
  {
   "cell_type": "code",
   "execution_count": 16,
   "id": "0f2b65e5-c042-435f-b20d-c0efc44314ce",
   "metadata": {},
   "outputs": [],
   "source": [
    "import matplotlib as mpl\n",
    "from cycler import cycler\n",
    "\n",
    "CB_color_cycle = ['#377eb8', '#ff7f00', '#4daf4a',\n",
    "                  '#f781bf', '#a65628', '#984ea3',\n",
    "                  '#999999', '#e41a1c', '#dede00']\n",
    "\n",
    "# mpl.rcParams['axes.prop_cycle'] = cycler('color', ['#1f77b4', '#ff7f0e', '#2ca02c', '#d62728', '#9467bd', '#8c564b', '#e377c2', '#7f7f7f', '#bcbd22', '#17becf'])\n",
    "mpl.rcParams['axes.prop_cycle'] = cycler(color=CB_color_cycle)\n",
    "# mpl.rcParams['axes.prop_cycle'] = cycler(color='bgrcmyk') # default"
   ]
  },
  {
   "cell_type": "code",
   "execution_count": 17,
   "id": "58755033-68e6-4281-85de-143681b4030f",
   "metadata": {},
   "outputs": [],
   "source": [
    "df = df.iloc[::-1]\n",
    "df.reset_index(inplace=True)"
   ]
  },
  {
   "cell_type": "code",
   "execution_count": 18,
   "id": "293e648b-70d7-4e37-bdb4-fe2150e535dc",
   "metadata": {},
   "outputs": [
    {
     "data": {
      "text/plain": [
       "0    Pure ML\n",
       "Name: pinnweight, dtype: object"
      ]
     },
     "execution_count": 18,
     "metadata": {},
     "output_type": "execute_result"
    }
   ],
   "source": [
    "# Set pinnweight of Pure ML model to \"Pure ML\" for plotting\n",
    "df.loc[df['expname'] == 'heuer_atm_amip_R2B4_vlvl60_nonconservative_nn0.54M_ncorr42_pr1H_fullml.csv','pinnweight'] = 'Pure ML'\n",
    "df[df['expname'] == 'heuer_atm_amip_R2B4_vlvl60_nonconservative_nn0.54M_ncorr42_pr1H_fullml.csv']['pinnweight']"
   ]
  },
  {
   "cell_type": "code",
   "execution_count": 19,
   "id": "1cfce695-1220-49fc-980f-7b2ebff700b7",
   "metadata": {},
   "outputs": [
    {
     "name": "stdout",
     "output_type": "stream",
     "text": [
      "['Tiedtke' 'Pure ML' '0.9' '0.5' '0.1' '0.01' '0']\n"
     ]
    },
    {
     "data": {
      "image/png": "[encoded data removed]",
      "text/plain": [
       "<Figure size 531.178x480 with 1 Axes>"
      ]
     },
     "metadata": {},
     "output_type": "display_data"
    }
   ],
   "source": [
    "import seaborn as sns\n",
    "sns.reset_defaults()\n",
    "# plt.style.use('default')\n",
    "setup_mpl_tex()\n",
    "# sns.set_style(\"ticks\")\n",
    "\n",
    "pinnweights_uniq = np.unique(df['pinnweight'])[::-1]\n",
    "print(pinnweights_uniq)\n",
    "\n",
    "# todo:change here\n",
    "# m1 = 'pr_zon_rmse_obs'\n",
    "# # m1 = 'pr_r2_gpcp'\n",
    "m1 = 'prw_r2_multi'\n",
    "# # m2 = 'E_residual'\n",
    "m2 = 'pr_r2_gpcp'\n",
    "#---\n",
    "# m1 = 'pr_zon_rmse_obs'\n",
    "# # m2 = 'clt_r2_multi'\n",
    "# m2 = 'tas_r2_era5'\n",
    "# # m2 = 'cl_r2_era5'\n",
    "\n",
    "n_pinnweights = len(df['pinnweight'].unique())\n",
    "\n",
    "# plt.scatter(df[m1], df[m2], color=df['pinnweight'])\n",
    "# df.plot.scatter(x=m1, y=m2, c='pinnweight')\n",
    "\n",
    "# ax = sns.lmplot(x=m1, y=m2, data=df, hue='pinnweight', fit_reg=False, hue_order=pinnweights_uniq,\n",
    "#                 legend=False, height=4.8, aspect=1.333*2/3,\n",
    "#                 markers=['x']+['o' for _ in range(len(df['pinnweight'].unique())-1)],\n",
    "#                 palette=CB_color_cycle,\n",
    "#                 scatter_kws={\"s\": 10})\n",
    "\n",
    "p = sns.relplot(x=m1, y=m2, data=df, hue='pinnweight', hue_order=pinnweights_uniq,\n",
    "                legend=True, height=4.8, aspect=1.333*2/3,\n",
    "                palette=CB_color_cycle[:n_pinnweights],\n",
    "                style='pinnweight', markers=['P','^','o','d','s','p','X'], style_order=pinnweights_uniq,\n",
    "                size='pinnweight', sizes=[60 for _ in range(n_pinnweights-1)]+[150])\n",
    "\n",
    "# fig, ax = plt.subplots(figsize=[6.4*2/3,4.8], constrained_layout=True)\n",
    "# ax = sns.scatterplot(x=m1, y=m2, data=df, hue='pinnweight', hue_order=pinnweights_uniq,\n",
    "#                 legend=True, ax=ax,\n",
    "#                 markers=['x']+['o' for _ in range(n_pinnweights-1)],\n",
    "#                 palette=CB_color_cycle[:n_pinnweights],\n",
    "#                 hue_sizes=[10 for _ in range(n_pinnweights)])\n",
    "\n",
    "#todo:change here\n",
    "(m1_pareto, m2_pareto), pareto_mask = get_sorted_pareto_front([-df[m1].values, -df[m2].values])\n",
    "m1_pareto = -m1_pareto\n",
    "m2_pareto = -m2_pareto\n",
    "\n",
    "#todo:change here\n",
    "xlim = (0.7, 1)\n",
    "ylim = (0,0.5)\n",
    "# ---\n",
    "# xlim = (0,2)\n",
    "# ylim = (0.75,1)\n",
    "\n",
    "#todo:change here\n",
    "m1_pareto_plot = np.concatenate([[m1_pareto[0]],m1_pareto,[xlim[0]]])\n",
    "#---\n",
    "# m1_pareto_plot = np.concatenate([[m1_pareto[0]],m1_pareto,[xlim[-1]]])\n",
    "m2_pareto_plot = np.concatenate([[ylim[0]],m2_pareto,[m2_pareto[-1]]])\n",
    "# m1_pareto_plot = m1_pareto\n",
    "# m2_pareto_plot = m2_pareto\n",
    "\n",
    "test = plt.step(m1_pareto_plot, m2_pareto_plot, color='red', zorder=1, where='post', ls='--', lw=1)\n",
    "\n",
    "# Shade pareto suboptimal area\n",
    "xlims = plt.gca().get_xlim()\n",
    "ylims = plt.gca().get_ylim()\n",
    "pareto_vertices = test[0].get_path().vertices\n",
    "plt.fill_between(pareto_vertices[:,0], ylims[0], pareto_vertices[:,1], alpha=0.1, color='red')\n",
    "\n",
    "# plt.yscale('log')\n",
    "\n",
    "# plt.ylim(0,1)\n",
    "\n",
    "# plt.xlim(0.4, 1.0)\n",
    "# plt.ylim(0.8,1)\n",
    "\n",
    "# plt.ylim(0,10)\n",
    "\n",
    "# plt.xlim(0.0, 1)\n",
    "plt.xlim(xlim)\n",
    "plt.ylim(ylim)\n",
    "\n",
    "sns.despine(top=False, right=False)\n",
    "\n",
    "#todo:change here\n",
    "sns.move_legend(p, \"center left\", frameon=True, title=None, bbox_to_anchor=(0,0.5), bbox_transform=plt.gca().transAxes)#, ncol=3, title=None, frameon=False)\n",
    "#---\n",
    "# sns.move_legend(p, \"lower right\", frameon=True, title=None, bbox_to_anchor=(1,0), bbox_transform=plt.gca().transAxes)#, ncol=3, title=None, frameon=False)\n",
    "# sns.move_legend(ax, \"center right\")\n",
    "# plt.gca().legend()#loc='lower right')\n",
    "\n",
    "# Change float numbers to alpha=<float number>\n",
    "for llabel in p._legend.texts:\n",
    "    text = llabel.get_text()\n",
    "    if text.replace('.','',1).isnumeric():\n",
    "        llabel.set_text(f'$\\\\alpha = {text}$')\n",
    "\n",
    "plt.grid()\n",
    "#todo:change here\n",
    "plt.xlabel('$R^2$ of CWV w.r.t. OBS', size='large')\n",
    "plt.ylabel('$R^2$ of Precip w.r.t. GPCP', size='large')\n",
    "#---\n",
    "# plt.xlabel('RMSE of Zonal Mean Precip w.r.t. GPCP\\n(mm day$^{-1}$)', size='large')\n",
    "# plt.ylabel('$R^2$ of $T_{2m}$ w.r.t. ERA5', size='large')\n",
    "\n",
    "# plt.savefig(f\"Figures/Pareto-{m1}-{m2}.pdf\", bbox_inches='tight')#, dpi=300)\n",
    "plt.show()"
   ]
  },
  {
   "cell_type": "code",
   "execution_count": 20,
   "id": "2680c03a-b902-4abd-b796-c2c69f58157c",
   "metadata": {},
   "outputs": [],
   "source": [
    "# grouped.mean('E_meanabs_residual')\n",
    "# grouped.mean()\n",
    "# df_alpha\n",
    "# grouped.mean()"
   ]
  },
  {
   "cell_type": "code",
   "execution_count": 59,
   "id": "ebb0b3a2-dd79-486e-9d15-d9e831657f58",
   "metadata": {},
   "outputs": [
    {
     "name": "stderr",
     "output_type": "stream",
     "text": [
      "/work/bd1179/b309215/mambaforge/envs/climlab/lib/python3.11/site-packages/numpy/core/fromnumeric.py:3504: RuntimeWarning: Mean of empty slice.\n",
      "  return _methods._mean(a, axis=axis, dtype=dtype,\n",
      "/work/bd1179/b309215/mambaforge/envs/climlab/lib/python3.11/site-packages/numpy/core/_methods.py:129: RuntimeWarning: invalid value encountered in scalar divide\n",
      "  ret = ret.dtype.type(ret / rcount)\n"
     ]
    },
    {
     "data": {
      "image/png": "[encoded data removed]",
      "text/plain": [
       "<Figure size 640x480 with 2 Axes>"
      ]
     },
     "metadata": {},
     "output_type": "display_data"
    }
   ],
   "source": [
    "def get_averagevar_per_bin2d(var, binvar1, binvar2, bin_edges1, bin_edges2):\n",
    "    result = np.empty((len(bin_edges1)-1, len(bin_edges2)-1))\n",
    "    counts = np.empty((len(bin_edges1)-1, len(bin_edges2)-1))\n",
    "    for i,(le1,he1) in enumerate(zip(bin_edges1[:-1], bin_edges1[1:])):\n",
    "        for j,(le2,he2) in enumerate(zip(bin_edges2[:-1], bin_edges2[1:])):\n",
    "            mask = (binvar1 >= le1) & (binvar1 <= he1) & (binvar2 >= le2) & (binvar2 <= he2)\n",
    "            counts[i,j] = mask.sum()\n",
    "            result[i,j] = np.mean(var[mask])\n",
    "\n",
    "    counts[counts==0] = np.nan\n",
    "    return result[:,:], counts\n",
    "\n",
    "ml_weight_max = df_alpha['ml_weight'].values.max()\n",
    "ml_weight_min = df_alpha['ml_weight'].values.min()\n",
    "pinnweight_max = df_alpha['pinnweight'].values.max()\n",
    "pinnweight_min = df_alpha['pinnweight'].values.min()\n",
    "\n",
    "edges_mlweight = np.linspace(ml_weight_min, ml_weight_max, 5)\n",
    "edges_pinnweight = np.linspace(pinnweight_min, pinnweight_max, 4)\n",
    "mids_mlweight = (edges_mlweight[1:] + edges_mlweight[:-1]) / 2\n",
    "mids_pinnweight = (edges_pinnweight[1:] + edges_pinnweight[:-1]) / 2\n",
    "\n",
    "E_meanabs_2dbins, E_meanabs_2dcounts = get_averagevar_per_bin2d(df_alpha['E_meanabs_residual'].values,\n",
    "                                                                df_alpha['ml_weight'].values,\n",
    "                                                                df_alpha['pinnweight'].values,\n",
    "                                                                edges_mlweight,\n",
    "                                                                edges_pinnweight)\n",
    "\n",
    "p12 = plt.pcolormesh(mids_mlweight, mids_pinnweight, E_meanabs_2dbins.T)#, cmap=cmap_counts)\n",
    "plt.xlabel('ml_weight')\n",
    "plt.ylabel('pinnweight')\n",
    "plt.colorbar()\n",
    "\n",
    "plt.show()"
   ]
  },
  {
   "cell_type": "code",
   "execution_count": 50,
   "id": "cda3bb51-dc18-4eb3-95ce-ed2b8b849d59",
   "metadata": {},
   "outputs": [
    {
     "data": {
      "text/plain": [
       "array([0.  , 0.25, 0.5 , 0.75, 1.  ])"
      ]
     },
     "execution_count": 50,
     "metadata": {},
     "output_type": "execute_result"
    }
   ],
   "source": [
    "np.linspace(0,1,5)"
   ]
  },
  {
   "cell_type": "code",
   "execution_count": 51,
   "id": "64f6708a-f18e-4904-816c-8510868fa23d",
   "metadata": {},
   "outputs": [
    {
     "data": {
      "text/plain": [
       "array([[        nan,         nan,         nan,         nan],\n",
       "       [ 8.12112047,  1.70307175,  1.70307175,  2.91167757],\n",
       "       [12.0316265 ,  4.67776165,  4.67776165, 19.23240846],\n",
       "       [19.35836778, 12.40710712, 12.40710712,         nan]])"
      ]
     },
     "execution_count": 51,
     "metadata": {},
     "output_type": "execute_result"
    }
   ],
   "source": [
    "E_meanabs_2dbins"
   ]
  },
  {
   "cell_type": "code",
   "execution_count": 34,
   "id": "70ef57a0-2e02-452a-b1b2-e927933e31d9",
   "metadata": {},
   "outputs": [
    {
     "data": {
      "image/png": "[encoded data removed]",
      "text/plain": [
       "<Figure size 640x480 with 2 Axes>"
      ]
     },
     "metadata": {},
     "output_type": "display_data"
    }
   ],
   "source": [
    "df_alpha = df[df['pinnweight'].str.replace('.','',1).str.isnumeric()]\n",
    "df_alpha = df_alpha[['p0','p1','pinnweight','E_meanabs_residual','ml_weight']]\n",
    "df_alpha['pinnweight'] = df_alpha['pinnweight'].astype(np.float64)\n",
    "\n",
    "# Group by the two parameter columns\n",
    "grouped = df_alpha.groupby(['p0', 'p1'])\n",
    "\n",
    "# Plot each group\n",
    "plt.figure()#figsize=(10, 6))\n",
    "\n",
    "for (param1_val, param2_val), group in grouped:\n",
    "    if param1_val == 10 and param2_val == 60:\n",
    "        # Sort by x to ensure a proper curve\n",
    "        group = group.sort_values('pinnweight')\n",
    "        label = f\"param1={param1_val}, param2={param2_val}\"\n",
    "        plt.plot(group['pinnweight'], group['E_meanabs_residual'], label=label)\n",
    "        ax2 = plt.gca().twinx()\n",
    "        ax2.plot(group['pinnweight'], group['ml_weight'], label=label)\n",
    "\n",
    "# plt.legend()\n",
    "\n",
    "# plt.plot(grouped.mean())\n",
    "plt.show()"
   ]
  },
  {
   "cell_type": "code",
   "execution_count": 29,
   "id": "d1cfaa56-07fb-48cf-973b-9da6f38314cf",
   "metadata": {},
   "outputs": [
    {
     "data": {
      "image/png": "[encoded data removed]",
      "text/plain": [
       "<Figure size 640x480 with 1 Axes>"
      ]
     },
     "metadata": {},
     "output_type": "display_data"
    }
   ],
   "source": [
    "grouped = df_alpha.groupby(['pinnweight'])\n",
    "# grouped = df_alpha.groupby([''])\n",
    "\n",
    "plt.plot(grouped.mean()['E_meanabs_residual'])\n",
    "plt.show()"
   ]
  },
  {
   "cell_type": "code",
   "execution_count": 127,
   "id": "a6764c35-c88c-43dc-8063-bb246800997e",
   "metadata": {},
   "outputs": [
    {
     "data": {
      "text/plain": [
       "(array([5.04390349, 2.96719696, 2.5086612 , 2.45725902, 2.43822211,\n",
       "        2.33893179]),\n",
       " array([-0.685929,  0.769225,  0.873141,  0.919801,  0.938592,  0.955112]))"
      ]
     },
     "execution_count": 127,
     "metadata": {},
     "output_type": "execute_result"
    }
   ],
   "source": []
  },
  {
   "cell_type": "code",
   "execution_count": null,
   "id": "430139d6-d5b5-45aa-9266-6061d38df88c",
   "metadata": {},
   "outputs": [
    {
     "data": {
      "text/plain": [
       "array(['10p0_20p1_pinn0.9', '10p0_30p1_pinn0.9', '10p0_40p1_pinn0.9',\n",
       "       '40p0_80p1_pinn0.1', '30p0_90p1_pinn0.1', '70p0_80p1_pinn0.1',\n",
       "       '10p0_20p1', '10p0_60p1', '20p0_50p1', '40p0_60p1',\n",
       "       '40p0_90p1_pinn0.9', '60p0_90p1'], dtype=object)"
      ]
     },
     "execution_count": 20,
     "metadata": {},
     "output_type": "execute_result"
    }
   ],
   "source": [
    "df['label'].values[pareto_mask]"
   ]
  },
  {
   "cell_type": "code",
   "execution_count": null,
   "id": "8ccf4655-9a9f-42b8-a7a6-aed87765b52a",
   "metadata": {},
   "outputs": [
    {
     "data": {
      "text/html": [
       "<div>\n",
       "<style scoped>\n",
       "    .dataframe tbody tr th:only-of-type {\n",
       "        vertical-align: middle;\n",
       "    }\n",
       "\n",
       "    .dataframe tbody tr th {\n",
       "        vertical-align: top;\n",
       "    }\n",
       "\n",
       "    .dataframe thead th {\n",
       "        text-align: right;\n",
       "    }\n",
       "</style>\n",
       "<table border=\"1\" class=\"dataframe\">\n",
       "  <thead>\n",
       "    <tr style=\"text-align: right;\">\n",
       "      <th></th>\n",
       "      <th>label</th>\n",
       "      <th>tas_r2_era5</th>\n",
       "    </tr>\n",
       "  </thead>\n",
       "  <tbody>\n",
       "    <tr>\n",
       "      <th>0</th>\n",
       "      <td>10p0_20p1_pinn0.9</td>\n",
       "      <td>0.924044</td>\n",
       "    </tr>\n",
       "    <tr>\n",
       "      <th>0</th>\n",
       "      <td>10p0_30p1_pinn0.9</td>\n",
       "      <td>0.905967</td>\n",
       "    </tr>\n",
       "    <tr>\n",
       "      <th>0</th>\n",
       "      <td>10p0_40p1_pinn0.9</td>\n",
       "      <td>0.898269</td>\n",
       "    </tr>\n",
       "    <tr>\n",
       "      <th>0</th>\n",
       "      <td>40p0_80p1_pinn0.1</td>\n",
       "      <td>0.929133</td>\n",
       "    </tr>\n",
       "    <tr>\n",
       "      <th>0</th>\n",
       "      <td>30p0_90p1_pinn0.1</td>\n",
       "      <td>0.950214</td>\n",
       "    </tr>\n",
       "    <tr>\n",
       "      <th>0</th>\n",
       "      <td>70p0_80p1_pinn0.1</td>\n",
       "      <td>0.936827</td>\n",
       "    </tr>\n",
       "    <tr>\n",
       "      <th>0</th>\n",
       "      <td>10p0_20p1</td>\n",
       "      <td>0.883521</td>\n",
       "    </tr>\n",
       "    <tr>\n",
       "      <th>0</th>\n",
       "      <td>10p0_60p1</td>\n",
       "      <td>0.882421</td>\n",
       "    </tr>\n",
       "    <tr>\n",
       "      <th>0</th>\n",
       "      <td>20p0_50p1</td>\n",
       "      <td>0.894439</td>\n",
       "    </tr>\n",
       "    <tr>\n",
       "      <th>0</th>\n",
       "      <td>40p0_60p1</td>\n",
       "      <td>0.884938</td>\n",
       "    </tr>\n",
       "    <tr>\n",
       "      <th>0</th>\n",
       "      <td>40p0_90p1_pinn0.9</td>\n",
       "      <td>0.955112</td>\n",
       "    </tr>\n",
       "    <tr>\n",
       "      <th>0</th>\n",
       "      <td>60p0_90p1</td>\n",
       "      <td>0.876695</td>\n",
       "    </tr>\n",
       "  </tbody>\n",
       "</table>\n",
       "</div>"
      ],
      "text/plain": [
       "               label  tas_r2_era5\n",
       "0  10p0_20p1_pinn0.9     0.924044\n",
       "0  10p0_30p1_pinn0.9     0.905967\n",
       "0  10p0_40p1_pinn0.9     0.898269\n",
       "0  40p0_80p1_pinn0.1     0.929133\n",
       "0  30p0_90p1_pinn0.1     0.950214\n",
       "0  70p0_80p1_pinn0.1     0.936827\n",
       "0          10p0_20p1     0.883521\n",
       "0          10p0_60p1     0.882421\n",
       "0          20p0_50p1     0.894439\n",
       "0          40p0_60p1     0.884938\n",
       "0  40p0_90p1_pinn0.9     0.955112\n",
       "0          60p0_90p1     0.876695"
      ]
     },
     "execution_count": 21,
     "metadata": {},
     "output_type": "execute_result"
    }
   ],
   "source": [
    "df[df['label'].isin(df['label'].values[pareto_mask])][['label', m1]]"
   ]
  },
  {
   "cell_type": "code",
   "execution_count": null,
   "id": "54689844-4d14-4610-a3cc-cef9215eb7bf",
   "metadata": {},
   "outputs": [],
   "source": []
  }
 ],
 "metadata": {
  "kernelspec": {
   "display_name": "Python (climlab)",
   "language": "python",
   "name": "climlab"
  },
  "language_info": {
   "codemirror_mode": {
    "name": "ipython",
    "version": 3
   },
   "file_extension": ".py",
   "mimetype": "text/x-python",
   "name": "python",
   "nbconvert_exporter": "python",
   "pygments_lexer": "ipython3",
   "version": "3.11.8"
  }
 },
 "nbformat": 4,
 "nbformat_minor": 5
}
