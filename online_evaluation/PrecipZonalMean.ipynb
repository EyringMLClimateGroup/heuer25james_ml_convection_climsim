{
 "cells": [
  {
   "cell_type": "code",
   "execution_count": 1,
   "id": "008ee599-07a2-4be8-a4a8-c8e41ace5318",
   "metadata": {
    "tags": []
   },
   "outputs": [],
   "source": [
    "import numpy as np\n",
    "import numpy.random as npr\n",
    "import matplotlib.pyplot as plt\n",
    "import xarray as xr\n",
    "from glob import glob\n",
    "from metpy.calc import dewpoint_from_specific_humidity, equivalent_potential_temperature, potential_temperature\n",
    "from metpy.units import units as munits\n",
    "from tqdm.auto import tqdm\n",
    "import os\n",
    "from numba import njit\n",
    "from pathlib import Path\n",
    "import re"
   ]
  },
  {
   "cell_type": "code",
   "execution_count": 2,
   "id": "faeba616-7a8f-4993-9080-532fb0dd689c",
   "metadata": {},
   "outputs": [],
   "source": [
    "rhoh2o = 1000 # kg m-3\n",
    "\n",
    "def get_pr_zonal_metrics(nc_paths):\n",
    "    result = {}\n",
    "\n",
    "    for p in tqdm(nc_paths):\n",
    "        evalname = re.match('.*/(heuer_atm_amip_R2B4_vlvl60.*?)/.*', str(p)).group(1)\n",
    "        expname = re.match('(heuer_atm_amip_R2B4_vlvl60.*)_\\d*_\\d*UTC', evalname).group(1)\n",
    "        result[expname] = {}\n",
    "\n",
    "        ds = xr.open_dataset(str(p))\n",
    "        icon_idx = [b'ICON' in v for v in ds.dataset.values].index(True)\n",
    "        era5_idx = [b'native6' in v for v in ds.dataset.values].index(True)\n",
    "        obs_idx = [b'OBS' in v for v in ds.dataset.values].index(True)\n",
    "\n",
    "        pr_icon = ds.pr.sel(dim0=icon_idx)\n",
    "        pr_era5 = ds.pr.sel(dim0=era5_idx)\n",
    "        pr_obs = ds.pr.sel(dim0=obs_idx)\n",
    "\n",
    "        result[expname]['pr_zon_rmse_obs'] = np.sqrt(np.mean((pr_icon - pr_obs).values**2))\n",
    "        result[expname]['pr_zon_mae_obs'] = np.mean(np.abs(pr_icon - pr_obs).values)\n",
    "        result[expname]['pr_zon_bias_obs'] = np.mean((pr_icon - pr_obs).values)\n",
    "        result[expname]['pr_zon_rmse_era5'] = np.sqrt(np.mean((pr_icon - pr_era5).values**2))\n",
    "        result[expname]['pr_zon_mae_era5'] = np.mean(np.abs(pr_icon - pr_era5).values)\n",
    "        result[expname]['pr_zon_bias_era5'] = np.mean((pr_icon - pr_era5).values)\n",
    "        result[expname]['pr_icon'] = pr_icon.values\n",
    "        result[expname]['pr_obs'] = pr_obs.values\n",
    "\n",
    "        # add ml weight\n",
    "        filepath1 = os.path.join('/work/bd1179/b309215/icon-a-ml/build_intel_rterrtmgp/experiments_project/', expname, 'extra_2d5_totalmean.nc')\n",
    "        filepath2 = os.path.join('/work/bd1179/b309215/icon-a-ml/build_intel_rterrtmgp/experiments/', expname, 'extra_2d5_totalmean.nc')\n",
    "        if os.path.exists(filepath1):\n",
    "            filepath = filepath1\n",
    "        elif os.path.exists(filepath2):\n",
    "            filepath = filepath2\n",
    "        else:\n",
    "            print('no ml_weight for ', expname)\n",
    "            continue\n",
    "\n",
    "        ds = xr.open_dataset(filepath)\n",
    "        \n",
    "        result[expname]['ml_weight'] = ds.extra_2d5.values.squeeze()\n",
    "\n",
    "    return result"
   ]
  },
  {
   "cell_type": "code",
   "execution_count": 3,
   "id": "ad32b2e4-3fec-4843-9e6b-c3fa64048cc9",
   "metadata": {},
   "outputs": [
    {
     "data": {
      "text/plain": [
       "222"
      ]
     },
     "execution_count": 3,
     "metadata": {},
     "output_type": "execute_result"
    }
   ],
   "source": [
    "pr_nc_paths = [Path(p) for p in sorted(glob('/work/bd1179/b309215/MyIconEval/WorkEvalBackup/**/work/zonal_means_pr/plot/variable_vs_lat_ambiguous_exp_pr_ambiguous_dataset_Amon.nc', recursive=True))]\n",
    "# pr_nc_paths = [Path(p) for p in sorted(glob('/work/bd1179/b309215/MyIconEval/WorkEvalBackup/*1979*/**/work/zonal_means_pr/plot/variable_vs_lat_ambiguous_exp_pr_ambiguous_dataset_Amon.nc', recursive=True))]\n",
    "# pr_nc_paths = [Path(p) for p in sorted(glob('/scratch/b/b309215/MyIconEval/WorkEvalBackup/**/work/zonal_means_pr/plot/variable_vs_lat_ambiguous_exp_pr_ambiguous_dataset_Amon.nc', recursive=True))]\n",
    "# pr_nc_paths = [Path(p) for p in sorted(glob('/scratch/b/b309215/MyIconEval/WorkEvalBackup/*1979*/**/work/zonal_means_pr/plot/variable_vs_lat_ambiguous_exp_pr_ambiguous_dataset_Amon.nc', recursive=True))]\n",
    "len(pr_nc_paths)"
   ]
  },
  {
   "cell_type": "code",
   "execution_count": 4,
   "id": "1cc88901-27ad-48dc-bee7-6e6c690d4fd1",
   "metadata": {},
   "outputs": [
    {
     "data": {
      "text/plain": [
       "[PosixPath('/work/bd1179/b309215/MyIconEval/WorkEvalBackup/Test/heuer_atm_amip_R2B4_vlvl60_nonconservative_nn0.54M_ncorr42_fullml_1979_noise0.01_20250728_212646UTC/recipe_basics_zonal_mean_lines_20250728_213702/work/zonal_means_pr/plot/variable_vs_lat_ambiguous_exp_pr_ambiguous_dataset_Amon.nc'),\n",
       " PosixPath('/work/bd1179/b309215/MyIconEval/WorkEvalBackup/Test/heuer_atm_amip_R2B4_vlvl60_nonconservative_nn0.54M_ncorr42_fullml_1979_noise0.03_20250728_080501UTC/recipe_basics_zonal_mean_lines_20250728_081904/work/zonal_means_pr/plot/variable_vs_lat_ambiguous_exp_pr_ambiguous_dataset_Amon.nc'),\n",
       " PosixPath('/work/bd1179/b309215/MyIconEval/WorkEvalBackup/Test/heuer_atm_amip_R2B4_vlvl60_nonconservative_nn0.54M_ncorr42_fullml_1979_noise0.04_20250728_200737UTC/recipe_basics_zonal_mean_lines_20250728_200930/work/zonal_means_pr/plot/variable_vs_lat_ambiguous_exp_pr_ambiguous_dataset_Amon.nc')]"
      ]
     },
     "execution_count": 4,
     "metadata": {},
     "output_type": "execute_result"
    }
   ],
   "source": [
    "pr_nc_paths[:3]"
   ]
  },
  {
   "cell_type": "code",
   "execution_count": 5,
   "id": "6e067c8a-d348-4da7-8201-a08b3bee0852",
   "metadata": {},
   "outputs": [],
   "source": [
    "test_ds = xr.open_dataset(pr_nc_paths[0])"
   ]
  },
  {
   "cell_type": "code",
   "execution_count": 6,
   "id": "6e9ab85a-786d-4294-a684-b87bb156b2be",
   "metadata": {},
   "outputs": [
    {
     "data": {
      "application/vnd.jupyter.widget-view+json": {
       "model_id": "216fe3fc15834497aae5ae96bc61b69d",
       "version_major": 2,
       "version_minor": 0
      },
      "text/plain": [
       "  0%|          | 0/222 [00:00<?, ?it/s]"
      ]
     },
     "metadata": {},
     "output_type": "display_data"
    },
    {
     "name": "stdout",
     "output_type": "stream",
     "text": [
      "no ml_weight for  heuer_atm_amip_R2B4_vlvl60_nonconservative_nn0.54M_ncorr42_fullml_1979_noise0.01\n",
      "no ml_weight for  heuer_atm_amip_R2B4_vlvl60_nonconservative_nn0.54M_ncorr42_fullml_1979_noise0.03\n",
      "no ml_weight for  heuer_atm_amip_R2B4_vlvl60_nonconservative_nn0.54M_ncorr42_fullml_1979_noise0.04\n",
      "no ml_weight for  heuer_atm_amip_R2B4_vlvl60_baseline_1979\n",
      "no ml_weight for  heuer_atm_amip_R2B4_vlvl60_nonconservative_nn0.54M_ncorr42_10p0_60p1_pinnweight0.1_1979_noise0.05\n",
      "no ml_weight for  heuer_atm_amip_R2B4_vlvl60_nonconservative_nn0.54M_ncorr42_10p0_60p1_pinnweight0.1_1979_noise0.2\n",
      "no ml_weight for  heuer_atm_amip_R2B4_vlvl60_nonconservative_nn0.54M_ncorr42_10p0_60p1_pinnweight0.1_1979_noise0.2\n",
      "no ml_weight for  heuer_atm_amip_R2B4_vlvl60_nonconservative_nn0.54M_ncorr42_10p0_60p1_pinnweight0.1_1979_noise0.2_extra2d5fix\n",
      "no ml_weight for  heuer_atm_amip_R2B4_vlvl60_nonconservative_nn0.54M_ncorr42_10p0_60p1_pinnweight0.1_1979_noise0.2_extra2d5fix\n",
      "no ml_weight for  heuer_atm_amip_R2B4_vlvl60_nonconservative_nn0.54M_ncorr42_10p0_80p1_pinnweight0.1_1979_noise0.2\n",
      "no ml_weight for  heuer_atm_amip_R2B4_vlvl60_nonconservative_nn0.54M_ncorr42_10p0_80p1_pinnweight0.1_1979_noise0.2_extra2d5fix\n",
      "no ml_weight for  heuer_atm_amip_R2B4_vlvl60_nonconservative_nn0.54M_ncorr42_10p0_80p1_pinnweight0.1_1979_noise0.2_extra2d5fix\n",
      "no ml_weight for  heuer_atm_amip_R2B4_vlvl60_nonconservative_nn0.54M_ncorr42_fullml_1979_noise0.01\n",
      "no ml_weight for  heuer_atm_amip_R2B4_vlvl60_nonconservative_nn0.54M_ncorr42_fullml_1979_noise0.03\n",
      "no ml_weight for  heuer_atm_amip_R2B4_vlvl60_nonconservative_nn0.54M_ncorr42_fullml_1979_noise0.04\n",
      "no ml_weight for  heuer_atm_amip_R2B4_vlvl60_nonconservative_nn0.54M_ncorr42_fullml_1979_noise0.05\n",
      "no ml_weight for  heuer_atm_amip_R2B4_vlvl60_nonconservative_nn0.54M_ncorr42_fullml_1979_noise0.05\n",
      "no ml_weight for  heuer_atm_amip_R2B4_vlvl60_nonconservative_nn0.54M_ncorr42_fullml_1979_noise0.05\n",
      "no ml_weight for  heuer_atm_amip_R2B4_vlvl60_nonconservative_nn0.54M_ncorr42_fullml_1979_noise0.05_2\n",
      "no ml_weight for  heuer_atm_amip_R2B4_vlvl60_nonconservative_nn0.54M_ncorr42_fullml_1979_noise0.05_2\n",
      "no ml_weight for  heuer_atm_amip_R2B4_vlvl60_nonconservative_nn0.54M_ncorr42_fullml_1979_noise0.06\n",
      "no ml_weight for  heuer_atm_amip_R2B4_vlvl60_nonconservative_nn0.54M_ncorr42_fullml_1979_noise0.07\n",
      "no ml_weight for  heuer_atm_amip_R2B4_vlvl60_nonconservative_nn0.54M_ncorr42_fullml_1979_noise0.08_2\n",
      "no ml_weight for  heuer_atm_amip_R2B4_vlvl60_nonconservative_nn0.54M_ncorr42_fullml_1979_noise0.12\n",
      "no ml_weight for  heuer_atm_amip_R2B4_vlvl60_nonconservative_nn0.54M_ncorr42_fullml_1979_noise0.15\n",
      "no ml_weight for  heuer_atm_amip_R2B4_vlvl60_nonconservative_nn0.54M_ncorr42_fullml_1979_noise0.16\n",
      "no ml_weight for  heuer_atm_amip_R2B4_vlvl60_nonconservative_nn0.54M_ncorr42_fullml_1979_noise0.25\n",
      "no ml_weight for  heuer_atm_amip_R2B4_vlvl60_nonconservative_nn0.54M_ncorr42_fullml_1979_noise0.2\n",
      "no ml_weight for  heuer_atm_amip_R2B4_vlvl60_nonconservative_nn0.54M_ncorr42_fullml_1979_noise0.2\n",
      "no ml_weight for  heuer_atm_amip_R2B4_vlvl60_nonconservative_nn0.54M_ncorr42_fullml_1979_noise0.2\n",
      "no ml_weight for  heuer_atm_amip_R2B4_vlvl60_nonconservative_nn0.54M_ncorr42_fullml_1979_noise0.2\n",
      "no ml_weight for  heuer_atm_amip_R2B4_vlvl60_nonconservative_nn0.54M_ncorr42_fullml_1979_noise0.3\n",
      "no ml_weight for  heuer_atm_amip_R2B4_vlvl60_nonconservative_nn0.54M_ncorr42_fullml_pinn385weight0.1_1979\n",
      "no ml_weight for  heuer_atm_amip_R2B4_vlvl60_nonconservative_nn0.54M_ncorr42_fullml_pinn385weight0.1_1979_noise0.03\n",
      "no ml_weight for  heuer_atm_amip_R2B4_vlvl60_nonconservative_nn0.54M_ncorr42_pr1H_fullml_pinn385weight0.01_noise0.05\n"
     ]
    }
   ],
   "source": [
    "pr_metrics = get_pr_zonal_metrics(pr_nc_paths)"
   ]
  },
  {
   "cell_type": "code",
   "execution_count": 7,
   "id": "99e91574-b511-4f3f-88de-4cfcbba995dc",
   "metadata": {},
   "outputs": [
    {
     "data": {
      "text/plain": [
       "['heuer_atm_amip_R2B4_vlvl60_nonconservative_nn0.54M_ncorr42_fullml_1979_noise0.01',\n",
       " 'heuer_atm_amip_R2B4_vlvl60_nonconservative_nn0.54M_ncorr42_fullml_1979_noise0.03',\n",
       " 'heuer_atm_amip_R2B4_vlvl60_nonconservative_nn0.54M_ncorr42_fullml_1979_noise0.04',\n",
       " 'heuer_atm_amip_R2B4_vlvl60_nonconservative_nn0.54M_ncorr42_fullml_1979_noise0.05',\n",
       " 'heuer_atm_amip_R2B4_vlvl60_nonconservative_nn0.54M_ncorr42_fullml_1979_noise0.05_2',\n",
       " 'heuer_atm_amip_R2B4_vlvl60_nonconservative_nn0.54M_ncorr42_fullml_1979_noise0.06',\n",
       " 'heuer_atm_amip_R2B4_vlvl60_nonconservative_nn0.54M_ncorr42_fullml_1979_noise0.07',\n",
       " 'heuer_atm_amip_R2B4_vlvl60_nonconservative_nn0.54M_ncorr42_fullml_1979_noise0.08_2',\n",
       " 'heuer_atm_amip_R2B4_vlvl60_nonconservative_nn0.54M_ncorr42_fullml_1979_noise0.12',\n",
       " 'heuer_atm_amip_R2B4_vlvl60_nonconservative_nn0.54M_ncorr42_fullml_1979_noise0.15',\n",
       " 'heuer_atm_amip_R2B4_vlvl60_nonconservative_nn0.54M_ncorr42_fullml_1979_noise0.16',\n",
       " 'heuer_atm_amip_R2B4_vlvl60_nonconservative_nn0.54M_ncorr42_fullml_1979_noise0.25',\n",
       " 'heuer_atm_amip_R2B4_vlvl60_nonconservative_nn0.54M_ncorr42_fullml_1979_noise0.2',\n",
       " 'heuer_atm_amip_R2B4_vlvl60_nonconservative_nn0.54M_ncorr42_fullml_1979_noise0.3',\n",
       " 'heuer_atm_amip_R2B4_vlvl60_nonconservative_nn0.54M_ncorr42_fullml_pinn385weight0.1_1979',\n",
       " 'heuer_atm_amip_R2B4_vlvl60_nonconservative_nn0.54M_ncorr42_fullml_pinn385weight0.1_1979_noise0.03',\n",
       " 'heuer_atm_amip_R2B4_vlvl60_nonconservative_nn0.54M_ncorr42_pr1H_fullml',\n",
       " 'heuer_atm_amip_R2B4_vlvl60_nonconservative_nn0.54M_ncorr42_pr1H_fullml_pinn385weight0.01',\n",
       " 'heuer_atm_amip_R2B4_vlvl60_nonconservative_nn0.54M_ncorr42_pr1H_fullml_pinn385weight0.01_noise0.05']"
      ]
     },
     "execution_count": 7,
     "metadata": {},
     "output_type": "execute_result"
    }
   ],
   "source": [
    "list(pr_metrics.keys())[:5]\n",
    "[f for f in list(pr_metrics.keys()) if 'fullml' in f]"
   ]
  },
  {
   "cell_type": "markdown",
   "id": "ebede49e-27ad-43b5-b253-5e8d773ac7a9",
   "metadata": {},
   "source": [
    "## Load ClimSim Precip"
   ]
  },
  {
   "cell_type": "code",
   "execution_count": 8,
   "id": "76dad181-1aae-4ca4-9ecd-390a1fcba8fd",
   "metadata": {},
   "outputs": [],
   "source": [
    "# # cs_files = np.array(sorted(glob('/scratch/b/b309215/LEAP/ClimSim_high-res/only_out/**/*.mlo.*.nc', recursive=True)))\n",
    "# cs_files = np.array(sorted(glob('/scratch/b/b309215/LEAP/ClimSim_low-res/only_out/**/*.mlo.*.nc', recursive=True)))\n",
    "# print(len(cs_files))\n",
    "\n",
    "# da_pr_list = []\n",
    "# da_ps_list = []\n",
    "# for f in tqdm(cs_files):\n",
    "#     try:\n",
    "#         ds = xr.open_dataset(f)\n",
    "#         da_pr_list.append(ds.cam_out_PRECC)\n",
    "#         da_ps_list.append(ds.cam_out_PRECSC)\n",
    "#     except:\n",
    "#         print(f)\n",
    "        \n",
    "# da_pr_cs = xr.concat(da_pr_list, dim='time')*rhoh2o\n",
    "# da_ps_cs = xr.concat(da_ps_list, dim='time')*rhoh2o\n",
    "\n",
    "# da_pr_cs_compute = da_pr_cs.compute()\n",
    "# da_ps_cs_compute = da_ps_cs.compute()\n",
    "\n",
    "# # da_pr_cs_compute.to_netcdf(f'./precip_cs_da_1stday_allyear_pr.nc')\n",
    "# # da_ps_cs_compute.to_netcdf(f'./precip_cs_da_1stday_allyear_ps.nc')\n",
    "# da_pr_cs_compute.to_netcdf(f'./precip_cs_da_1stday_allyear_lowres_pr.nc')\n",
    "# da_ps_cs_compute.to_netcdf(f'./precip_cs_da_1stday_allyear_lowres_ps.nc')"
   ]
  },
  {
   "cell_type": "code",
   "execution_count": 9,
   "id": "017e4a9e-5043-473a-a6d9-93bbaec7648e",
   "metadata": {},
   "outputs": [],
   "source": [
    "da_pr_cs_compute = xr.open_dataarray(f'./precip_cs_da_1stday_allyear_pr.nc')\n",
    "da_ps_cs_compute = xr.open_dataarray(f'./precip_cs_da_1stday_allyear_ps.nc')\n",
    "# da_pr_cs_compute = xr.open_dataarray(f'./precip_cs_da_1stday_allyear_lowres_pr.nc')\n",
    "# da_ps_cs_compute = xr.open_dataarray(f'./precip_cs_da_1stday_allyear_lowres_ps.nc')\n",
    "\n",
    "precip_cs = da_pr_cs_compute + da_ps_cs_compute\n",
    "precip_cs = precip_cs.mean('time')\n",
    "\n",
    "cs_grid_path = '/scratch/b/b309215/LEAP/ClimSim_high-res/ClimSim_high-res_grid-info.nc'\n",
    "# cs_grid_path = '/scratch/b/b309215/LEAP/ClimSim_low-res/ClimSim_low-res_grid-info.nc'\n",
    "cs_grid = xr.open_dataset(cs_grid_path)"
   ]
  },
  {
   "cell_type": "code",
   "execution_count": 10,
   "id": "bf5e76d2-de4a-47df-bf15-c6a4a8f02ad6",
   "metadata": {},
   "outputs": [],
   "source": [
    "# precip_cs_da = xr.open_dataarray('./precip_cs_da_365cs_days.nc')\n",
    "# precip_cs_np = precip_cs_da.values\n",
    "# cs_cells = precip_cs_np.shape[-1]\n",
    "# cs_days = 365\n",
    "# precip_cs_np = precip_cs_np.reshape(cs_days, 24, 3, cs_cells)#cs_cells, cs_days, 24, 3)#\n",
    "# precip_cs = xr.DataArray(precip_cs_np, dims=('day','hour','third','ncol'))\n",
    "# precip_cs = precip_cs.mean(('third', 'hour', 'day'))\n",
    "\n",
    "# cs_grid_path = '/scratch/b/b309215/LEAP/ClimSim_high-res/ClimSim_high-res_grid-info.nc'\n",
    "# cs_grid = xr.open_dataset(cs_grid_path)"
   ]
  },
  {
   "cell_type": "code",
   "execution_count": 11,
   "id": "cd6fdd80-e4d4-4b2b-9b65-80afa7c276fa",
   "metadata": {},
   "outputs": [],
   "source": [
    "def get_zonal_means(precip, lats, nlatbins):\n",
    "    result = np.empty(nlatbins)\n",
    "    bin_edges = np.linspace(-90, 90, nlatbins+1)\n",
    "    # print(bin_edges)\n",
    "    for i,(l1,l2) in enumerate(zip(bin_edges[:-1], bin_edges[1:])):\n",
    "        lat_mask = (lats > l1) & (lats < l2)\n",
    "        # print(lat_mask.sum())\n",
    "        result[i] = np.mean(precip[lat_mask])\n",
    "    return result, (bin_edges[1:] + bin_edges[:-1])/2"
   ]
  },
  {
   "cell_type": "code",
   "execution_count": 12,
   "id": "bddea8c4-a805-4b6d-a37d-564fff08d0cf",
   "metadata": {},
   "outputs": [],
   "source": [
    "unit_conv = 1e3*3600*24/rhoh2o # m3 kg-1 * mm m-1 * s d-1\n",
    "precip_zonal_climsim, lats_climsim = get_zonal_means(precip_cs.values, cs_grid.lat.values, 90)\n",
    "# precip_zonal_climsim, lats_climsim = get_zonal_means(precip_cs.values, cs_grid.lat.values, 18)#90)\n",
    "precip_zonal_climsim *= unit_conv"
   ]
  },
  {
   "cell_type": "markdown",
   "id": "bb306021-8476-4a09-8c02-3a39a0055554",
   "metadata": {},
   "source": [
    "## Plot results"
   ]
  },
  {
   "cell_type": "code",
   "execution_count": 13,
   "id": "a4507a4e-4461-44f9-a451-87831051988a",
   "metadata": {},
   "outputs": [],
   "source": [
    "def calc_assymetrie_index(lats, pr):\n",
    "    lats_interp = np.linspace(lats[0], lats[-1], 180)\n",
    "    pr_interp = np.interp(lats_interp, lats, pr)\n",
    "    \n",
    "    north_mask = (lats_interp > 0) & (lats_interp < 20)\n",
    "    south_mask = (lats_interp > -20) & (lats_interp < 0)\n",
    "\n",
    "    # print(north_mask)\n",
    "    # print(south_mask)\n",
    "    # print(north_mask | south_mask)\n",
    "    return (np.mean(pr_interp[north_mask]) - np.mean(pr_interp[south_mask])) / np.mean(pr_interp[north_mask | south_mask])\n",
    "\n",
    "def calc_eq_precip_index(lats, pr):\n",
    "    lats_interp = np.linspace(lats[0], lats[-1], 180)\n",
    "    pr_interp = np.interp(lats_interp, lats, pr)\n",
    "    \n",
    "    eq_mask = (lats_interp > -2) & (lats_interp < 2)\n",
    "    trop_mask = (lats_interp > -20) & (lats_interp < 20)\n",
    "    # plt.figure()\n",
    "    # plt.plot(lats_interp, pr_interp)\n",
    "\n",
    "    # print(np.mean(pr[eq_mask]) , np.mean(pr[trop_mask]))\n",
    "    return np.mean(pr_interp[eq_mask]) / np.mean(pr_interp[trop_mask])"
   ]
  },
  {
   "cell_type": "code",
   "execution_count": 14,
   "id": "be3ecdb0-3f95-4241-8724-d26d3dc6974a",
   "metadata": {},
   "outputs": [
    {
     "data": {
      "text/plain": [
       "['heuer_atm_amip_R2B4_vlvl60_baseline_1979',\n",
       " 'heuer_atm_amip_R2B4_vlvl60_baseline']"
      ]
     },
     "execution_count": 14,
     "metadata": {},
     "output_type": "execute_result"
    }
   ],
   "source": [
    "[m for m in pr_metrics.keys() if 'baseline' in m]"
   ]
  },
  {
   "cell_type": "code",
   "execution_count": 19,
   "id": "bd610977-5b89-495a-9bd1-e117684bfc93",
   "metadata": {},
   "outputs": [
    {
     "name": "stdout",
     "output_type": "stream",
     "text": [
      "A_P index obs:  0.4544982813261035\n",
      "E_P index obs:  0.9200140560499772\n",
      "A_P index cs:  0.2678659869213042\n",
      "E_P index cs:  0.9727916251940321\n",
      "TPAI-bias cs:  -0.18663229440479928\n",
      "EPI-bias cs :  0.05277756914405485\n",
      "pr_zon_rmse cs :  0.884470750313558\n",
      "pr_zon_mae cs :  0.7051713010413362\n",
      "---\n",
      "heuer_atm_amip_R2B4_vlvl60_nonconservative_nn0.54M_ncorr42_pr1H_fullml\n",
      "pr_zon_rmse_obs:  0.6000186551518518\n",
      "pr_zon_mae_obs:  0.44653258836931653\n",
      "TPAI:  0.2534240492861504\n",
      "TPAI-bias:  -0.20107423203995306\n",
      "EPI:  0.7160720465440195\n",
      "EPI-bias:  -0.20394200950595776\n",
      "---\n",
      "heuer_atm_amip_R2B4_vlvl60_nonconservative_nn0.54M_ncorr42_pr1H_10p0_60p1_pinn385weight0.1\n",
      "pr_zon_rmse_obs:  0.38733544441363965\n",
      "pr_zon_mae_obs:  0.29952952133284677\n",
      "TPAI:  0.45107493741013444\n",
      "TPAI-bias:  -0.003423343915969046\n",
      "EPI:  0.9113629460049372\n",
      "EPI-bias:  -0.008651110045040045\n",
      "---\n",
      "heuer_atm_amip_R2B4_vlvl60_baseline\n",
      "pr_zon_rmse_obs:  0.49108442873456915\n",
      "pr_zon_mae_obs:  0.3905255557762252\n",
      "TPAI:  0.4165794965077136\n",
      "TPAI-bias:  -0.037918784818389895\n",
      "EPI:  0.8482026342654599\n",
      "EPI-bias:  -0.07181142178451727\n"
     ]
    },
    {
     "data": {
      "image/png": "[encoded data removed]",
      "text/plain": [
       "<Figure size 320x320 with 1 Axes>"
      ]
     },
     "metadata": {},
     "output_type": "display_data"
    }
   ],
   "source": [
    "from setup_mpl_tex import setup_mpl_tex\n",
    "\n",
    "setup_mpl_tex()\n",
    "\n",
    "# todo: change for 2nd plot\n",
    "expnames = ['heuer_atm_amip_R2B4_vlvl60_nonconservative_nn0.54M_ncorr42_pr1H_fullml',\n",
    "            # 'heuer_atm_amip_R2B4_vlvl60_nonconservative_nn0.54M_ncorr42_pr1H_fullml_pinn385weight0.01',\n",
    "            'heuer_atm_amip_R2B4_vlvl60_nonconservative_nn0.54M_ncorr42_pr1H_10p0_60p1_pinn385weight0.1',\n",
    "            'heuer_atm_amip_R2B4_vlvl60_baseline'\n",
    "            # 'heuer_atm_amip_R2B4_vlvl60_baseline_1979'\n",
    "]\n",
    "#---\n",
    "# expnames = [\n",
    "#     # 'heuer_atm_amip_R2B4_vlvl60_nonconservative_nn0.54M_ncorr42_fullml_1979_noise0.03',\n",
    "#     # 'heuer_atm_amip_R2B4_vlvl60_nonconservative_nn0.54M_ncorr42_10p0_60p1_pinnweight0.1_1979_noise0.05',\n",
    "#     # 'heuer_atm_amip_R2B4_vlvl60_nonconservative_nn0.54M_ncorr42_10p0_80p1_pinnweight0.1_1979_noise0.1',\n",
    "#     'heuer_atm_amip_R2B4_vlvl60_nonconservative_nn0.54M_ncorr42_fullml_1979_noise0.2',\n",
    "#     'heuer_atm_amip_R2B4_vlvl60_nonconservative_nn0.54M_ncorr42_10p0_60p1_pinnweight0.1_1979_noise0.2_extra2d5fix',\n",
    "#     # 'heuer_atm_amip_R2B4_vlvl60_nonconservative_nn0.54M_ncorr42_10p0_60p1_pinnweight0.1_1979_noise0.05',\n",
    "#     # 'heuer_atm_amip_R2B4_vlvl60_nonconservative_nn0.54M_ncorr42_10p0_70p1_pinnweight0.1_1979_noise0.05',\n",
    "#     'heuer_atm_amip_R2B4_vlvl60_nonconservative_nn0.54M_ncorr42_10p0_80p1_pinnweight0.1_1979_noise0.2_extra2d5fix',\n",
    "#     'heuer_atm_amip_R2B4_vlvl60_baseline_1979'\n",
    "# ]\n",
    "\n",
    "# linestyles = ['-' for _ in range(len(expnames))]\n",
    "linestyles = ['-', '--', '--', '-']\n",
    "\n",
    "cmap = plt.get_cmap('tab10')\n",
    "# colors = [cmap(0.1), cmap(0.3), cmap(0.2)]\n",
    "colors = [cmap(0.1), cmap(0.3), cmap(0.2), cmap(0.4), cmap(0.5), cmap(0.6)]\n",
    "\n",
    "# todo: change for 2nd plot\n",
    "labels = [\n",
    "          'Pure ML',\n",
    "          'Mixed:10-60',\n",
    "          'Tiedtke']\n",
    "#---\n",
    "# labels = [# '$10p_0\\_60p_1\\_0.1\\\\alpha$',\n",
    "#           'Pure ML',\n",
    "#           # 'Pure ML2',\n",
    "#           'Mixed:10-60',\n",
    "#           # 'Mixed:10-70',\n",
    "#           'Mixed:10-80',\n",
    "#           'Tiedtke']\n",
    "\n",
    "xs = test_ds.lat.values\n",
    "\n",
    "# todo: change for 2nd plot\n",
    "fig, ax = plt.subplots(constrained_layout=True, figsize=(6.4/2, 4.8*2/3))\n",
    "#---\n",
    "# fig, ax = plt.subplots(constrained_layout=True)\n",
    "pr_obs = pr_metrics[expnames[-1]]['pr_obs']\n",
    "# pr_obs = pr_metrics['heuer_atm_amip_R2B4_vlvl60_baseline_1979']['pr_obs']\n",
    "\n",
    "obs_tpai = calc_assymetrie_index(xs, pr_obs)\n",
    "obs_epi = calc_eq_precip_index(xs, pr_obs)\n",
    "print('A_P index obs: ', obs_tpai)\n",
    "print('E_P index obs: ', obs_epi)\n",
    "cs_tpai = calc_assymetrie_index(lats_climsim, precip_zonal_climsim)\n",
    "cs_epi = calc_eq_precip_index(lats_climsim, precip_zonal_climsim)\n",
    "print('A_P index cs: ', cs_tpai)\n",
    "print('E_P index cs: ', cs_epi)\n",
    "print('TPAI-bias cs: ', cs_tpai - obs_tpai)\n",
    "print('EPI-bias cs : ', cs_epi - obs_epi)\n",
    "print('pr_zon_rmse cs : ', np.sqrt(np.mean((precip_zonal_climsim - pr_obs)**2)))\n",
    "print('pr_zon_mae cs : ', np.mean(np.abs(precip_zonal_climsim - pr_obs)))\n",
    "\n",
    "for i,(expname,plot_label) in enumerate(zip(expnames,labels)):\n",
    "    ax.plot(xs, pr_metrics[expname]['pr_icon'], label=plot_label, color=colors[i], ls=linestyles[i])\n",
    "    print('---')\n",
    "    print(expname)\n",
    "    print('pr_zon_rmse_obs: ', pr_metrics[expname]['pr_zon_rmse_obs'])\n",
    "    print('pr_zon_mae_obs: ', pr_metrics[expname]['pr_zon_mae_obs'])\n",
    "    print('TPAI: ', calc_assymetrie_index(xs, pr_metrics[expname]['pr_icon']))\n",
    "    print('TPAI-bias: ', calc_assymetrie_index(xs, pr_metrics[expname]['pr_icon']) - obs_tpai)\n",
    "    print('EPI: ', calc_eq_precip_index(xs, pr_metrics[expname]['pr_icon']))\n",
    "    print('EPI-bias: ', calc_eq_precip_index(xs, pr_metrics[expname]['pr_icon']) - obs_epi)\n",
    "\n",
    "# ax.plot(xs, pr_metrics[expnames[-1]]['pr_obs'], label='GPCP', color='black', lw=1, ls='--')\n",
    "ax.plot(xs, pr_obs, label='GPCP', color='black', lw=1, ls='--')\n",
    "\n",
    "ax.plot(lats_climsim, precip_zonal_climsim, label='ClimSim', color='black', lw=1, ls=':')\n",
    "\n",
    "ax.set_ylabel('Precipitation (mm d$^{-1}$)')\n",
    "ax.set_xlabel('Latitude (°N)')\n",
    "ax.legend(ncol=1, fontsize='small', loc='upper left')\n",
    "ax.grid()\n",
    "\n",
    "# inset Axes....\n",
    "# x1, x2, y1, y2 = -1, 17, 4.5, 7  # subregion of the original image\n",
    "x1, x2, y1, y2 = -16, 18, 1.8, 8.2  # subregion of the original image\n",
    "axins = ax.inset_axes(\n",
    "    [0.62, 0.5, 0.36, 0.48],\n",
    "    xlim=(x1, x2), ylim=(y1, y2), xticklabels=[], yticklabels=[])\n",
    "# axins.imshow(Z2, extent=extent, origin=\"lower\")\n",
    "for i,(expname,plot_label) in enumerate(zip(expnames,labels)):\n",
    "    axins.plot(xs, pr_metrics[expname]['pr_icon'], color=colors[i], ls=linestyles[i])\n",
    "axins.plot(xs, pr_obs, label='GPCP', color='black', lw=1, ls='--')\n",
    "axins.plot(lats_climsim, precip_zonal_climsim, label='ClimSim', color='black', lw=1, ls=':')\n",
    "axins.grid()\n",
    "ax.indicate_inset_zoom(axins, edgecolor=\"black\")\n",
    "\n",
    "# todo: change for 2nd plot\n",
    "# fig.savefig('Figures/Zonal_Mean_Precip_vs_GPCP_inset.pdf')#_half-page.pdf')\n",
    "#---\n",
    "# fig.savefig('Figures/20y_Zonal_Mean_Precip_vs_GPCP_climsimlowres.pdf')#_half-page.pdf')\n",
    "# fig.savefig('Figures/20y_Zonal_Mean_Precip_vs_GPCP_climsimold.pdf')#_half-page.pdf')\n",
    "# fig.savefig('Figures/20y_Zonal_Mean_Precip_vs_GPCP.pdf')#_half-page.pdf')\n",
    "\n",
    "plt.show()"
   ]
  },
  {
   "cell_type": "code",
   "execution_count": null,
   "id": "d7af1df0-47d3-4041-888a-9fddb492f73e",
   "metadata": {},
   "outputs": [],
   "source": [
    "# one year\n",
    "A_P index obs:  0.4544982813261035\n",
    "E_P index obs:  0.9200140560499772\n",
    "A_P index cs:  0.20189623775175738\n",
    "E_P index cs:  1.2833513475828242\n",
    "TPAI-bias cs:  -0.2526020435743461\n",
    "EPI-bias cs :  0.363337291532847\n",
    "---\n",
    "heuer_atm_amip_R2B4_vlvl60_nonconservative_nn0.54M_ncorr42_pr1H_fullml\n",
    "pr_zon_rmse_obs:  0.6000186551518518\n",
    "pr_zon_mae_obs:  0.44653258836931653\n",
    "TPAI:  0.2534240492861504\n",
    "TPAI-bias:  -0.20107423203995306\n",
    "EPI:  0.7160720465440195\n",
    "EPI-bias:  -0.20394200950595776\n",
    "---\n",
    "heuer_atm_amip_R2B4_vlvl60_nonconservative_nn0.54M_ncorr42_pr1H_10p0_60p1_pinn385weight0.1\n",
    "pr_zon_rmse_obs:  0.38733544441363965\n",
    "pr_zon_mae_obs:  0.29952952133284677\n",
    "TPAI:  0.45107493741013444\n",
    "TPAI-bias:  -0.003423343915969046\n",
    "EPI:  0.9113629460049372\n",
    "EPI-bias:  -0.008651110045040045\n",
    "---\n",
    "heuer_atm_amip_R2B4_vlvl60_baseline\n",
    "pr_zon_rmse_obs:  0.49108442873456915\n",
    "pr_zon_mae_obs:  0.3905255557762252\n",
    "TPAI:  0.4165794965077136\n",
    "TPAI-bias:  -0.037918784818389895\n",
    "EPI:  0.8482026342654599\n",
    "EPI-bias:  -0.07181142178451727\n",
    "\n",
    "# 20 years\n",
    "A_P index obs:  0.1882225955988089\n",
    "E_P index obs:  1.1626439758129867\n",
    "A_P index cs:  0.20189623775175738\n",
    "E_P index cs:  1.2833513475828242\n",
    "TPAI-bias cs:  0.013673642152948473\n",
    "EPI-bias cs :  0.12070737176983748\n",
    "pr_zon_rmse cs :  0.9044686030538048\n",
    "pr_zon_mae cs :  0.7139715500697292\n",
    "---\n",
    "heuer_atm_amip_R2B4_vlvl60_nonconservative_nn0.54M_ncorr42_fullml_1979_noise0.2\n",
    "pr_zon_rmse_obs:  0.45861030199983965\n",
    "pr_zon_mae_obs:  0.3472183167934418\n",
    "TPAI:  0.25731248871671286\n",
    "TPAI-bias:  0.06908989311790395\n",
    "EPI:  0.9236477214008314\n",
    "EPI-bias:  -0.23899625441215533\n",
    "---\n",
    "heuer_atm_amip_R2B4_vlvl60_nonconservative_nn0.54M_ncorr42_10p0_60p1_pinnweight0.1_1979_noise0.2_extra2d5fix\n",
    "pr_zon_rmse_obs:  0.3804335967906432\n",
    "pr_zon_mae_obs:  0.29492453965875837\n",
    "TPAI:  0.2747332333693326\n",
    "TPAI-bias:  0.08651063777052367\n",
    "EPI:  0.9008694334980191\n",
    "EPI-bias:  -0.26177454231496766\n",
    "---\n",
    "heuer_atm_amip_R2B4_vlvl60_nonconservative_nn0.54M_ncorr42_10p0_80p1_pinnweight0.1_1979_noise0.2_extra2d5fix\n",
    "pr_zon_rmse_obs:  0.3753166583733337\n",
    "pr_zon_mae_obs:  0.28894645108116995\n",
    "TPAI:  0.27917557427106615\n",
    "TPAI-bias:  0.09095297867225724\n",
    "EPI:  0.9018758123306138\n",
    "EPI-bias:  -0.26076816348237297\n",
    "---\n",
    "heuer_atm_amip_R2B4_vlvl60_baseline_1979\n",
    "pr_zon_rmse_obs:  0.38210189122978394\n",
    "pr_zon_mae_obs:  0.2683737999863095\n",
    "TPAI:  0.24734782682224973\n",
    "TPAI-bias:  0.05912523122344082\n",
    "EPI:  0.9090081988122088\n",
    "EPI-bias:  -0.2536357770007779"
   ]
  },
  {
   "cell_type": "code",
   "execution_count": null,
   "id": "1c588f0a-a7b8-41f2-81d1-32ade5a291b1",
   "metadata": {},
   "outputs": [],
   "source": []
  }
 ],
 "metadata": {
  "kernelspec": {
   "display_name": "Python (climlab)",
   "language": "python",
   "name": "climlab"
  },
  "language_info": {
   "codemirror_mode": {
    "name": "ipython",
    "version": 3
   },
   "file_extension": ".py",
   "mimetype": "text/x-python",
   "name": "python",
   "nbconvert_exporter": "python",
   "pygments_lexer": "ipython3",
   "version": "3.11.8"
  }
 },
 "nbformat": 4,
 "nbformat_minor": 5
}
