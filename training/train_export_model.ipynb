{
 "cells": [
  {
   "cell_type": "code",
   "execution_count": 1,
   "id": "2d73e7b2-cbce-43b5-98fe-673b9cb8bbf4",
   "metadata": {
    "tags": []
   },
   "outputs": [],
   "source": [
    "import mlflow\n",
    "import torch\n",
    "import os\n",
    "# os.environ[\"TORCH_CPP_LOG_LEVEL\"]=\"INFO\"\n",
    "# os.environ[\"TORCH_DISTRIBUTED_DEBUG\"] = \"DETAIL\"\n",
    "import numpy as np\n",
    "import pandas as pd\n",
    "import matplotlib.pyplot as plt\n",
    "import torch\n",
    "from tqdm import tqdm\n",
    "from torch import nn, optim\n",
    "import torch.nn.functional as F\n",
    "from torch.utils.data import Dataset, IterableDataset, DataLoader, RandomSampler\n",
    "from pytorch_lightning import LightningModule, Trainer\n",
    "from pytorch_lightning.callbacks import ModelCheckpoint, LearningRateMonitor, EarlyStopping\n",
    "import numpy.random as npr\n",
    "from glob import glob\n",
    "from torch_ema import ExponentialMovingAverage\n",
    "# from pytorch_optimizer import SOAP\n",
    "\n",
    "import sys\n",
    "import re\n",
    "\n",
    "# # non-interactive\n",
    "# prog_bar = False\n",
    "# interactive\n",
    "sys.argv[1] = \"1\" # set this to 1 so that if notebook is converted to script, it can actually be used\n",
    "sys.argv[2] = \"0\" # set this to 0 so that if notebook is converted to script, it can actually be used\n",
    "prog_bar = True\n",
    "\n",
    "argv1 = int(sys.argv[1])\n",
    "argv2 = int(sys.argv[2])\n",
    "\n",
    "# SEED = argv1\n",
    "SEED = npr.randint(100)#29#234834#8483#\n",
    "torch.manual_seed(SEED)\n",
    "if torch.cuda.is_available():\n",
    "    DEVICE = \"cuda\"\n",
    "else:\n",
    "    DEVICE = \"cpu\"#\"cuda:2\"\n",
    "\n",
    "# DEVICE = \"cuda\""
   ]
  },
  {
   "cell_type": "code",
   "execution_count": 3,
   "id": "0bfcb359-2430-44a0-ac5c-018b031af44e",
   "metadata": {
    "tags": []
   },
   "outputs": [],
   "source": [
    "NUM_VAL=4000\n",
    "\n",
    "def setup_mlflow_tracking(experiment_name, run_name, params, uri=\"http://127.0.0.1:5000\"):\n",
    "    mlflow.end_run()\n",
    "    mlflow.set_tracking_uri(uri)\n",
    "    mlflow.set_experiment(experiment_name)\n",
    "    mlflow.pytorch.autolog(log_models=False, log_datasets=False, checkpoint=False)\n",
    "    mlflow.start_run(run_name=run_name)\n",
    "    for k,v in params.items():\n",
    "        mlflow.log_param(str(k), str(v))\n",
    "\n",
    "NUM_EPOCHS = 200\n",
    "# BATCH_SIZE = 512 # 1000 #1024\n",
    "LEARNING_RATE = 1e-3\n",
    "ERR = 1e-6\n",
    "NLEV = 42\n",
    "NLEV_ORIG = 60\n",
    "# # \"engression\"\n",
    "# if argv1 == 0:\n",
    "#     NOISE_LVL = 0.5\n",
    "# elif argv1 == 1:\n",
    "#     NOISE_LVL = 0.75\n",
    "# elif argv1 == 2:\n",
    "#     NOISE_LVL = 1\n",
    "# elif argv1 == 3:\n",
    "#     NOISE_LVL = 2\n",
    "\n",
    "def r2_score(y_pred:torch.Tensor, y_true:torch.Tensor) -> float:\n",
    "    ss_res = torch.sum((y_true - y_pred) ** 2)\n",
    "    ss_tot = torch.sum((y_true - torch.mean(y_true)) ** 2)\n",
    "    \n",
    "    r2 = 1 - ss_res / ss_tot\n",
    "    \n",
    "    return r2.item()"
   ]
  },
  {
   "cell_type": "code",
   "execution_count": 4,
   "id": "41146daf-ec07-405b-bbae-91b2e43911cd",
   "metadata": {},
   "outputs": [],
   "source": [
    "# BATCH_SIZE = 384*6*3\n",
    "BATCH_SIZE = 256 #1000 #512 #1000\n",
    "SCHEDULER_PATIENCE = 6\n",
    "SCHEDULER_FACTOR = 10**(-0.2)"
   ]
  },
  {
   "cell_type": "code",
   "execution_count": 5,
   "id": "d0ec5c34-968e-4b01-987e-fa0b48a13512",
   "metadata": {
    "tags": []
   },
   "outputs": [
    {
     "name": "stdout",
     "output_type": "stream",
     "text": [
      "757\n"
     ]
    }
   ],
   "source": [
    "n_column_features = 18#15\n",
    "n_scalar_features = 1#14#16#4\n",
    "n_features = n_column_features*NLEV+n_scalar_features\n",
    "print(n_features)"
   ]
  },
  {
   "cell_type": "code",
   "execution_count": 6,
   "id": "6a362208",
   "metadata": {
    "tags": []
   },
   "outputs": [
    {
     "name": "stdout",
     "output_type": "stream",
     "text": [
      "254\n"
     ]
    }
   ],
   "source": [
    "n_column_targets = 6#6\n",
    "n_scalar_targets = 2#8\n",
    "n_targets = n_column_targets*NLEV+n_scalar_targets\n",
    "print(n_targets)"
   ]
  },
  {
   "cell_type": "code",
   "execution_count": 7,
   "id": "86806912-e8f1-4a75-83ed-facccb3ece4e",
   "metadata": {},
   "outputs": [],
   "source": [
    "# notpfull_mask = np.ones(916, dtype=bool)\n",
    "# notpfull_mask[840:900] = False\n",
    "\n",
    "# n_column_features = 14\n",
    "# n_features = n_column_features*NLEV+n_scalar_features"
   ]
  },
  {
   "cell_type": "code",
   "execution_count": 8,
   "id": "3286b6a6-aeaa-4257-a7d1-57c858a7bdf4",
   "metadata": {},
   "outputs": [],
   "source": [
    "class DaskDataset(Dataset):\n",
    "    def __init__(self, x, y):\n",
    "        \"\"\"\n",
    "        Initialize with NumPy arrays.\n",
    "        \"\"\"\n",
    "        assert x.shape[0] == y.shape[0], \"Features and labels must have the same number of samples\"\n",
    "        \n",
    "        new_xshape0 = x.shape[0] - x.shape[0]%BATCH_SIZE\n",
    "        x = x[:new_xshape0,:-2].reshape(new_xshape0//BATCH_SIZE, BATCH_SIZE, x.shape[1])\n",
    "        x = x.rechunk((1, BATCH_SIZE, x.shape[1]))\n",
    "\n",
    "        new_yshape0 = y.shape[0] - y.shape[0]%BATCH_SIZE\n",
    "        y = y[:new_yshape0,:].reshape(new_yshape0//BATCH_SIZE, BATCH_SIZE, y.shape[1])\n",
    "        y = y.rechunk((1, BATCH_SIZE, y.shape[1]))\n",
    "        self.x = x\n",
    "        self.y = y\n",
    "\n",
    "    def __len__(self):\n",
    "        \"\"\"\n",
    "        Total number of samples.\n",
    "        \"\"\"\n",
    "        return self.x.shape[0]\n",
    "    \n",
    "\n",
    "    def __getitem__(self, index):\n",
    "        \"\"\"\n",
    "        Generate one sample of data.\n",
    "        \"\"\"\n",
    "        # chunk_start = index * self.x.chunks[0][0]\n",
    "        # chunk_end = chunk_start + self.x.chunks[0][0]\n",
    "        # x = torch.from_numpy(self.x[chunk_start:chunk_end].compute()).float()\n",
    "        # y = torch.from_numpy(self.y[chunk_start:chunk_end].compute()).float()\n",
    "        x = torch.from_numpy(self.x[index].compute()).float()\n",
    "        y = torch.from_numpy(self.y[index].compute()).float()\n",
    "        # y = torch.tensor(self.y[index]).float()#.to(DEVICE)\n",
    "        x = torch.cat(\n",
    "            [\n",
    "                x[:,:n_column_features*NLEV].reshape(BATCH_SIZE, n_column_features, NLEV).permute(0, 2, 1),\n",
    "                x[:,n_column_features*NLEV:].unsqueeze(1).repeat(1, NLEV, 1).view(BATCH_SIZE, NLEV, n_scalar_features),\n",
    "            ],\n",
    "            -1,\n",
    "        )\n",
    "        # x[:,:n_column_features*NLEV].reshape(BATCH_SIZE, n_column_features, NLEV).permute(0, 2, 1)\n",
    "        \n",
    "        x = x.to(torch.float32)\n",
    "        y = y.to(torch.float32)\n",
    "        return x, y"
   ]
  },
  {
   "cell_type": "code",
   "execution_count": 9,
   "id": "0d702e34-0afa-4bac-a658-c71fdf0aa890",
   "metadata": {},
   "outputs": [],
   "source": [
    "# To ablate all 2d variables except pressure (t0,t-1) and clat,slat\n",
    "only_ps_lat_2d_mask = np.ones(1096, dtype=bool)\n",
    "only_ps_lat_2d_mask[1081:1090] = False\n",
    "only_ps_lat_2d_mask[1091:1094] = False\n",
    "no_lat_mask = np.ones(1096, dtype=bool)\n",
    "no_lat_mask[1094:1096] = False\n",
    "only_ps_lat_2d_mask[1081:1090] = False\n",
    "only_3d_mask = np.ones(1096, dtype=bool)\n",
    "only_3d_mask[1080:] = False\n",
    "no_ps_tm1_mask = np.ones(1096, dtype=bool)\n",
    "no_ps_tm1_mask[1091] = False\n",
    "only_ps_mask = np.ones(1096, dtype=bool)\n",
    "only_ps_mask[1081:] = False\n",
    "vertical_inmask = np.ones(1096, dtype=bool)\n",
    "vertical_outmask = np.ones(362, dtype=bool)\n",
    "for i in range(n_column_features):\n",
    "    vertical_inmask[i*NLEV_ORIG:i*NLEV_ORIG+NLEV_ORIG-NLEV] = False\n",
    "for i in range(n_column_targets):\n",
    "    vertical_outmask[i*NLEV_ORIG:i*NLEV_ORIG+NLEV_ORIG-NLEV] = False\n",
    "\n",
    "combined_in_mask = (vertical_inmask & only_ps_mask)\n",
    "# combined_in_mask = (vertical_inmask & no_lat_mask & no_ps_tm1_mask)\n",
    "# combined_in_mask = (vertical_inmask & no_ps_tm1_mask)"
   ]
  },
  {
   "cell_type": "code",
   "execution_count": 10,
   "id": "f7c2cb60-27e6-4bd7-9baa-8126b9037d36",
   "metadata": {
    "tags": []
   },
   "outputs": [
    {
     "name": "stdout",
     "output_type": "stream",
     "text": [
      "Train shape (10000, 757) (10000, 254)\n",
      "Validaiton shape (10000, 757) (10000, 254)\n"
     ]
    }
   ],
   "source": [
    "class NumpyDataset(Dataset):\n",
    "    def __init__(self, x, y, std=0, mask=None):\n",
    "        \"\"\"\n",
    "        Initialize with NumPy arrays.\n",
    "        \"\"\"\n",
    "        assert x.shape[0] == y.shape[0], \"Features and labels must have the same number of samples\"\n",
    "        self.x = x\n",
    "        self.y = y\n",
    "        self.mask = mask\n",
    "        self.std = std\n",
    "        if self.mask is not None:\n",
    "            print('Attention: Using mask for inputs')\n",
    "\n",
    "    def __len__(self):\n",
    "        \"\"\"\n",
    "        Total number of samples.\n",
    "        \"\"\"\n",
    "        return self.x.shape[0]\n",
    "    \n",
    "\n",
    "    def __getitem__(self, index):\n",
    "        \"\"\"\n",
    "        Generate one sample of data.\n",
    "        \"\"\"\n",
    "        # Convert the data to tensors when requested\n",
    "        x = torch.from_numpy(self.x[index]).float()#.to(DEVICE)\n",
    "\n",
    "        # Add noise to inputs\n",
    "        # Generate Gaussian noise with mean=0 and std=sqrt(variance)\n",
    "        if self.std > 0:\n",
    "            noise = torch.randn_like(x) * self.std\n",
    "            x = x * (1 + noise)\n",
    "        \n",
    "        # x = torch.tensor(self.x[index]).float()#.to(DEVICE)\n",
    "        if self.mask is not None:\n",
    "            x = x[~self.mask]\n",
    "        y = torch.from_numpy(self.y[index]).float()#.to(DEVICE)\n",
    "        # y = torch.tensor(self.y[index]).float()#.to(DEVICE)\n",
    "        \n",
    "        x = torch.cat(\n",
    "            [\n",
    "                x[:n_column_features*NLEV].reshape(n_column_features, NLEV).permute(1, 0),\n",
    "                x[n_column_features*NLEV:].unsqueeze(1).repeat(NLEV, 1).view(NLEV, n_scalar_features),\n",
    "            ],\n",
    "            -1,\n",
    "        )\n",
    "        # x[:n_column_features*NLEV].reshape(n_column_features, NLEV).permute(1, 0)\n",
    "        \n",
    "        x = x.to(torch.float32)\n",
    "        y = y.to(torch.float32)\n",
    "        return x, y\n",
    "\n",
    "# x_train_cs = np.load('/scratch/b/b309215/LEAP/ClimSim_high-res/expandcnv_postprocessed_qcqi/train/train_input_normed_25Msample.npy')\n",
    "x_train_cs = np.load('/scratch/b/b309215/LEAP/ClimSim_high-res/expandcnv_postprocessed_qcqi/train/train_input_normed_10ksample.npy')\n",
    "# x_train_cs = x_train_cs[:,:-2]\n",
    "# x_train_cs = x_train_cs[:,only_ps_lat_2d_mask]\n",
    "# x_train_cs = x_train_cs[:,(vertical_inmask & only_3d_mask)]\n",
    "x_train_cs = x_train_cs[:,combined_in_mask]\n",
    "# x_train_cs = x_train_cs[:,vertical_inmask]\n",
    "# x_train_cs = x_train_cs[:,notpfull_mask]\n",
    "# y_train_cs = np.load('/scratch/b/b309215/LEAP/ClimSim_high-res/expandcnv_postprocessed_qcqi/train/train_target_normed_25Msample.npy')\n",
    "y_train_cs = np.load('/scratch/b/b309215/LEAP/ClimSim_high-res/expandcnv_postprocessed_qcqi/train/train_target_normed_10ksample.npy')\n",
    "y_train_cs = y_train_cs[:,vertical_outmask]\n",
    "\n",
    "# For testing\n",
    "# x_val_cs = np.load('/scratch/b/b309215/LEAP/ClimSim_high-res/expandcnv_postprocessed_qcqi/test/test_input_normed_5Msample.npy')\n",
    "x_val_cs = np.load('/scratch/b/b309215/LEAP/ClimSim_high-res/expandcnv_postprocessed_qcqi/test/test_input_normed_10ksample.npy')\n",
    "# x_val_cs = x_val_cs[:,(vertical_inmask & only_3d_mask)]\n",
    "x_val_cs = x_val_cs[:,combined_in_mask]\n",
    "# x_val_cs = x_val_cs[:,vertical_inmask]\n",
    "# x_val_cs = x_val_cs[:,:-2]\n",
    "# x_val_cs = x_val_cs[:,only_ps_lat_2d_mask]\n",
    "# x_val_cs = x_val_cs[:,notpfull_mask]\n",
    "# # For testing\n",
    "# y_val_cs = np.load('/scratch/b/b309215/LEAP/ClimSim_high-res/expandcnv_postprocessed_qcqi/test/test_target_normed_5Msample.npy')\n",
    "y_val_cs = np.load('/scratch/b/b309215/LEAP/ClimSim_high-res/expandcnv_postprocessed_qcqi/test/test_target_normed_10ksample.npy')\n",
    "y_val_cs = y_val_cs[:,vertical_outmask]\n",
    "# y_val_cs = y_val_cs[:,:]\n",
    "\n",
    "# x_test = np.load('/scratch/b/b309215/LEAP/ClimSim_high-res/expandcnv_postprocessed/test_input_normed.npy')#, mmap_mode='r')\n",
    "# x_test = x_test[:,:-2]\n",
    "# y_test = np.load('/scratch/b/b309215/LEAP/ClimSim_high-res/expandcnv_postprocessed/test_target_normed.npy')#, mmap_mode='r')\n",
    "\n",
    "# npr.seed(4123)\n",
    "# x_train_cs, x_val_cs, y_train_cs, y_val_cs = train_test_split(x_train_cs, y_train_cs, test_size=0.1)\n",
    "print('Train shape', x_train_cs.shape, y_train_cs.shape)\n",
    "print('Validaiton shape', x_val_cs.shape, y_val_cs.shape)\n",
    "# Train shape (3000000, 916) (3000000, 302)\n",
    "# Validaiton shape (1512000, 916) (1512000, 302)"
   ]
  },
  {
   "cell_type": "code",
   "execution_count": 11,
   "id": "3fc481ac-c6be-4fa7-8ff0-56c6216a054a",
   "metadata": {},
   "outputs": [],
   "source": [
    "# x_train_cs = x_train_cs[:int(1e6)].copy()\n",
    "# y_train_cs = y_train_cs[:int(1e6)].copy()\n",
    "# x_val_cs = x_val_cs[:int(1e6)].copy()\n",
    "# y_val_cs = y_val_cs[:int(1e6)].copy()"
   ]
  },
  {
   "cell_type": "code",
   "execution_count": 12,
   "id": "f81607d3-81f4-4667-9972-4020aadcaaf4",
   "metadata": {},
   "outputs": [],
   "source": [
    "# no_2d_rad_flux_mask = np.ones(1096, dtype=bool)\n",
    "\n",
    "# no_2d_rad_flux_mask[1081:1084] = False # no LHFLX, SHFLX, TAUX, TAUY\n",
    "# no_2d_rad_flux_mask[1086:1090] = False # no albedos\n",
    "# no_2d_rad_flux_mask[1091:1092] = False # no tm_pbuf_LHFLX, tm_pbuf_SHFLX\n",
    "\n",
    "# x_train_cs = x_train_cs[:,no_2d_rad_flux_mask]\n",
    "# x_val_cs = x_val_cs[:,no_2d_rad_flux_mask]\n",
    "\n",
    "# print('Train shape', x_train_cs.shape, y_train_cs.shape)\n",
    "# print('Validaiton shape', x_val_cs.shape, y_val_cs.shape)"
   ]
  },
  {
   "cell_type": "code",
   "execution_count": 13,
   "id": "5192520e-8215-44f2-a54a-3039d519b5b1",
   "metadata": {},
   "outputs": [],
   "source": [
    "# Test transform with qn inputs\n",
    "\n",
    "# qn_train = x_train_cs[:,2*NLEV:3*NLEV] + x_train_cs[:,3*NLEV:4*NLEV]\n",
    "# tm_qn_phy_train = x_train_cs[:,9*NLEV:10*NLEV] + x_train_cs[:,10*NLEV:11*NLEV]\n",
    "# tmm_qn_phy_train = x_train_cs[:,14*NLEV:15*NLEV] + x_train_cs[:,15*NLEV:16*NLEV]\n",
    "# qn_phy_train = y_train_cs[:,2*NLEV:3*NLEV] + y_train_cs[:,3*NLEV:4*NLEV]\n",
    "\n",
    "# x_train_cs = np.concatenate([x_train_cs[:,:2*NLEV],\n",
    "#                              qn_train,\n",
    "#                              x_train_cs[:,4*NLEV:9*NLEV],\n",
    "#                              tm_qn_phy_train,\n",
    "#                              x_train_cs[:,11*NLEV:14*NLEV],\n",
    "#                              tmm_qn_phy_train,\n",
    "#                              x_train_cs[:,16*NLEV:-2],\n",
    "#                             ], axis=-1)\n",
    "\n",
    "# y_train_cs = np.concatenate([y_train_cs[:,:2*NLEV],\n",
    "#                              qn_phy_train,\n",
    "#                              y_train_cs[:,4*NLEV:]\n",
    "#                             ], axis=-1)\n",
    "\n",
    "\n",
    "# qn_val = x_val_cs[:,2*NLEV:3*NLEV] + x_val_cs[:,3*NLEV:4*NLEV]\n",
    "# tm_qn_phy_val = x_val_cs[:,9*NLEV:10*NLEV] + x_val_cs[:,10*NLEV:11*NLEV]\n",
    "# tmm_qn_phy_val = x_val_cs[:,14*NLEV:15*NLEV] + x_val_cs[:,15*NLEV:16*NLEV]\n",
    "# qn_phy_val = y_val_cs[:,2*NLEV:3*NLEV] + y_val_cs[:,3*NLEV:4*NLEV]\n",
    "\n",
    "\n",
    "# x_val_cs = np.concatenate([x_val_cs[:,:2*NLEV],\n",
    "#                              qn_val,\n",
    "#                              x_val_cs[:,4*NLEV:9*NLEV],\n",
    "#                              tm_qn_phy_val,\n",
    "#                              x_val_cs[:,11*NLEV:14*NLEV],\n",
    "#                              tmm_qn_phy_val,\n",
    "#                              x_val_cs[:,16*NLEV:-2],\n",
    "#                             ], axis=-1)\n",
    "\n",
    "# y_val_cs = np.concatenate([y_val_cs[:,:2*NLEV],\n",
    "#                              qn_phy_val,\n",
    "#                              y_val_cs[:,4*NLEV:]\n",
    "#                             ], axis=-1)"
   ]
  },
  {
   "cell_type": "code",
   "execution_count": 14,
   "id": "18af6ec1-c38d-4cc6-848b-8160d87215ee",
   "metadata": {},
   "outputs": [],
   "source": [
    "# x_train_cs_da = da.from_zarr('/scratch/b/b309215/LEAP/ClimSim_high-res/expandcnvcons_tropo_postprocessed/train_input_nols_normed.zarr/')#, mmap_mode='r')\n",
    "# x_train_cs_da = x_train_cs_da[:int(1/12*x_train_cs_da.shape[0]),:]\n",
    "# x_train_cs = x_train_cs_da.compute()\n",
    "# idx1e6 = npr.choice(x_train_cs.shape[0], size=int(1e6), replace=False)\n",
    "# x_train_cs = x_train_cs[idx1e6].copy()\n",
    "\n",
    "\n",
    "# y_train_cs_da = da.from_zarr('/scratch/b/b309215/LEAP/ClimSim_high-res/expandcnvcons_tropo_postprocessed/train_target_nols_normed.zarr/')#, mmap_mode='r')\n",
    "# y_train_cs_da = y_train_cs_da[:int(1/12*y_train_cs_da.shape[0]),:]\n",
    "# y_train_cs = y_train_cs_da.compute()\n",
    "# y_train_cs = y_train_cs[idx1e6].copy()\n",
    "\n",
    "# print('Train shape', x_train_cs.shape, y_train_cs.shape)\n",
    "# print('Val shape', x_val_cs.shape, y_val_cs.shape)"
   ]
  },
  {
   "cell_type": "code",
   "execution_count": 15,
   "id": "2980560c-5b01-422a-8173-6552767ff043",
   "metadata": {},
   "outputs": [
    {
     "data": {
      "text/plain": [
       "40"
      ]
     },
     "execution_count": 15,
     "metadata": {},
     "output_type": "execute_result"
    }
   ],
   "source": [
    "STEPS_PER_EPOCH = int(np.ceil(x_train_cs.shape[0]/BATCH_SIZE))\n",
    "STEPS_PER_EPOCH"
   ]
  },
  {
   "cell_type": "code",
   "execution_count": 16,
   "id": "c751e05f-d73f-4998-b1f4-02c98566543b",
   "metadata": {},
   "outputs": [],
   "source": [
    "val_dataset = NumpyDataset(x_val_cs, y_val_cs)#, mask=large_scale_forcing_mask)\n",
    "val_loader = DataLoader(val_dataset, batch_size=BATCH_SIZE, shuffle=False, num_workers=4)\n",
    "\n",
    "# - dask -\n",
    "# train_dataset = DaskDataset(x_train_cs, y_train_cs)#, mask=large_scale_forcing_mask)\n",
    "# # train_loader = DataLoader(train_dataset, batch_size=None, shuffle=True, num_workers=24)#, batch_sampler=batch_sampler)\n",
    "# sampler = torch.utils.data.RandomSampler(train_dataset, num_samples=int(1e3))\n",
    "# train_loader = DataLoader(train_dataset, batch_size=None, num_workers=24, sampler=sampler)#, batch_sampler=batch_sampler)\n",
    "# - numpy -\n",
    "train_dataset = NumpyDataset(x_train_cs, y_train_cs, std=0)#, mask=large_scale_forcing_mask)\n",
    "train_loader = DataLoader(train_dataset, batch_size=BATCH_SIZE, shuffle=True, num_workers=4)"
   ]
  },
  {
   "cell_type": "code",
   "execution_count": 17,
   "id": "750cb40b-c0b0-45bc-b9f8-c7509626c906",
   "metadata": {},
   "outputs": [],
   "source": [
    "# npr.seed(4123)\n",
    "\n",
    "# # x_train_icon = np.load('/scratch/b/b309215/LEAP/ClimSim_high-res/expandcnv_postprocessed_icon/train_input_nols_icon-pmid_normed_3Msample.npy')#, mmap_mode='r')\n",
    "# x_train_icon = np.load('/scratch/b/b309215/LEAP/ClimSim_high-res/expandcnv_postprocessed_icon/train_input_nols_pmidcommonnorm_normed_3Msample.npy')#, mmap_mode='r')\n",
    "# x_train_icon = x_train_icon[:,:-2]\n",
    "# # x_train_icon = x_train_icon[:,no_pmid_mask]\n",
    "# y_train_icon = np.load('/scratch/b/b309215/LEAP/ClimSim_high-res/expandcnv_postprocessed_icon/train_target_normed_3Msample.npy')#, mmap_mode='r')\n",
    "# # y_train_icon = y_train_icon[:,:]\n",
    "# # y_train_icon[:,std_mask_icon] = 0\n",
    "\n",
    "# # x_val_icon = np.load('/scratch/b/b309215/LEAP/ClimSim_high-res/expandcnv_postprocessed_icon/val_input_nols_icon-pmid_normed.npy')#, mmap_mode='r')\n",
    "# x_val_icon = np.load('/scratch/b/b309215/LEAP/ClimSim_high-res/expandcnv_postprocessed_icon/val_input_nols_pmidcommonnorm_normed.npy')#, mmap_mode='r')\n",
    "# x_val_icon = x_val_icon[:,:-2]\n",
    "# # x_val_icon = x_val_icon[:,no_pmid_mask]\n",
    "# y_val_icon = np.load('/scratch/b/b309215/LEAP/ClimSim_high-res/expandcnv_postprocessed_icon/val_target_normed.npy')#, mmap_mode='r')\n",
    "# rnd_idx = npr.choice(len(x_val_icon), size=len(x_val_cs), replace=False)\n",
    "# x_val_icon = x_val_icon[rnd_idx]\n",
    "# y_val_icon = y_val_icon[rnd_idx]\n",
    "\n",
    "# # x_test = np.load('/scratch/b/b309215/LEAP/ClimSim_high-res/expandcnv_postprocessed/test_input_normed.npy')#, mmap_mode='r')\n",
    "# # x_test = x_test[:,:-2]\n",
    "# # y_test = np.load('/scratch/b/b309215/LEAP/ClimSim_high-res/expandcnv_postprocessed/test_target_normed.npy')#, mmap_mode='r')\n",
    "\n",
    "# # npr.seed(4123)\n",
    "# # x_train_icon, x_val_icon, y_train_icon, y_val_icon = train_test_split(x_train_icon, y_train_icon, test_size=0.1)\n",
    "# print('Train shape', x_train_icon.shape, y_train_icon.shape)\n",
    "# print('Validaiton shape', x_val_icon.shape, y_val_icon.shape)"
   ]
  },
  {
   "cell_type": "code",
   "execution_count": 18,
   "id": "91de6c66-6cc3-4b95-b456-a97fc6e8a608",
   "metadata": {},
   "outputs": [],
   "source": [
    "# val_dataset_cs = NumpyDataset(x_val_cs, y_val_cs)#, mask=large_scale_forcing_mask)\n",
    "# val_loader_cs = DataLoader(val_dataset_cs, batch_size=BATCH_SIZE, shuffle=False, num_workers=4)\n",
    "\n",
    "# val_dataset_icon = NumpyDataset(x_val_icon, y_val_icon)#, mask=large_scale_forcing_mask)\n",
    "# val_loader_icon = DataLoader(val_dataset_icon, batch_size=BATCH_SIZE, shuffle=False, num_workers=4)\n",
    "\n",
    "# cs_frac = 0.5 # Climsim fraction of training data\n",
    "# train_size = int(3e6)\n",
    "# x_train = np.empty((train_size, 914))\n",
    "# y_train = np.empty((train_size, 302))\n",
    "# x_train[:int(cs_frac*train_size):,:] = x_train_cs[:int(cs_frac*train_size):,:]\n",
    "# x_train[int(cs_frac*train_size):,:] = x_train_icon[int(cs_frac*train_size):,:]\n",
    "# y_train[:int(cs_frac*train_size),:] = y_train_cs[:int(cs_frac*train_size),:]\n",
    "# y_train[int(cs_frac*train_size):,:] = y_train_icon[int(cs_frac*train_size):,:]\n",
    "\n",
    "# train_dataset = NumpyDataset(x_train, y_train)#, mask=large_scale_forcing_mask)\n",
    "# train_loader = DataLoader(train_dataset, batch_size=BATCH_SIZE, shuffle=True, num_workers=4)\n",
    "# # train_loader = DataLoader(train_dataset, batch_size=BATCH_SIZE, num_workers=4,\n",
    "# #                           sampler=torch.utils.data.RandomSampler(\n",
    "# #                               data_source=train_dataset,\n",
    "# #                               num_samples=int(2e6))\n",
    "# #                           )\n",
    "\n",
    "# del x_train_cs, x_train_icon, y_train_cs, y_train_icon\n",
    "# gc.collect()"
   ]
  },
  {
   "cell_type": "code",
   "execution_count": 19,
   "id": "6c248934-8ee8-459c-84f5-387d041b4c34",
   "metadata": {},
   "outputs": [],
   "source": [
    "# # Subsample data\n",
    "\n",
    "# # npr.seed(784672)\n",
    "# # train_sample_idx = npr.choice(x_train.shape[0], size=int(1e6), replace=False)\n",
    "# # val_sample_idx = npr.choice(x_val.shape[0], size=int(1e6), replace=False)\n",
    "\n",
    "# # x_train_sample = x_train[train_sample_idx]\n",
    "# # y_train_sample = y_train[train_sample_idx]\n",
    "# # x_val_sample = x_val[val_sample_idx]\n",
    "# # y_val_sample = y_val[val_sample_idx]\n",
    "\n",
    "# # x_train_sample.shape, y_train_sample.shape, x_val_sample.shape, y_val_sample.shape\n",
    "\n",
    "# # Torch variant\n",
    "# nsamples = len(train_dataset)#int(1e6)\n",
    "# train_loader_save = DataLoader(train_dataset, batch_size=nsamples, num_workers=0, shuffle=True)\n",
    "# for i,batch in enumerate(train_loader_save):\n",
    "#     x, y = batch\n",
    "#     print(x.shape, y.shape)\n",
    "#     torch.save(batch, \"/scratch/b/b309215/LEAP/ClimSim_high-res/expandcnv_postprocessed/train_nols_nolatlon_normed_3e6sample.pt\")\n",
    "    \n",
    "# nsamples = len(val_dataset)\n",
    "# val_loader_save = DataLoader(val_dataset, batch_size=nsamples, num_workers=0, shuffle=False)\n",
    "# for i,batch in enumerate(val_loader_save):\n",
    "#     x, y = batch\n",
    "#     print(x.shape, y.shape)\n",
    "#     torch.save(batch, \"/scratch/b/b309215/LEAP/ClimSim_high-res/expandcnv_postprocessed/val_nols_nolatlon_normed_1.5e6sample.pt\")\n",
    "    \n",
    "# nsamples = len(test_dataset)\n",
    "# test_loader_save = DataLoader(test_dataset, batch_size=nsamples, num_workers=0, shuffle=False)\n",
    "# for i,batch in enumerate(test_loader_save):\n",
    "#     x, y = batch\n",
    "#     print(x.shape, y.shape)\n",
    "#     torch.save(batch, \"/scratch/b/b309215/LEAP/ClimSim_high-res/expandcnv_postprocessed/test_nols_nolatlon_normed_1.5e6sample.pt\")"
   ]
  },
  {
   "cell_type": "code",
   "execution_count": 20,
   "id": "057feea9-3d9b-4e83-9862-50355d27d722",
   "metadata": {},
   "outputs": [],
   "source": [
    "# print('Saving np data into torch chunks')\n",
    "\n",
    "# # np variant\n",
    "\n",
    "# print('Saving training data into 4 chunks')\n",
    "# num_files = 4\n",
    "# samples_per_file = x_train.shape[0]//num_files\n",
    "# for i,j in enumerate(range(0,x_train.shape[0], samples_per_file)):\n",
    "#     start = j\n",
    "#     end = j + samples_per_file if i != num_files-1 else None\n",
    "#     print('Chunk: ', i)\n",
    "#     # print(start, end)\n",
    "#     np.save(f'/scratch/b/b309215/LEAP/ClimSim_high-res/expandcnv_postprocessed/train_input_nols_normed_chunk{i}.npy', x_train[start:end])\n",
    "#     np.save(f'/scratch/b/b309215/LEAP/ClimSim_high-res/expandcnv_postprocessed/train_target_nols_normed_chunk{i}.npy', y_train[start:end])\n",
    "    \n",
    "# Torch variant\n",
    "# samples_per_file = int(5e6)\n",
    "# train_loader_save = DataLoader(train_dataset, batch_size=samples_per_file, num_workers=0, shuffle=False)\n",
    "# for i,batch in enumerate(train_loader_save):\n",
    "#     x, y = batch\n",
    "#     print(x.shape, y.shape)\n",
    "#     torch.save(batch, f\"/scratch/b/b309215/LEAP/ClimSim_high-res/expandcnv_postprocessed/train_nols_nolatlon_normed_chunk{i}.pt\")\n",
    "    \n",
    "# val_loader_save = DataLoader(val_dataset, batch_size=samples_per_file, num_workers=0, shuffle=False)\n",
    "# for i,batch in enumerate(val_loader_save):\n",
    "#     x, y = batch\n",
    "#     print(x.shape, y.shape)\n",
    "#     torch.save(batch, f\"/scratch/b/b309215/LEAP/ClimSim_high-res/expandcnv_postprocessed/val_nols_nolatlon_normed_chunk{i}.pt\")"
   ]
  },
  {
   "cell_type": "code",
   "execution_count": 21,
   "id": "77f51f4f-eafb-474b-8988-16a918ec72b4",
   "metadata": {
    "scrolled": true,
    "tags": []
   },
   "outputs": [],
   "source": [
    "# class VariableBatchLoader(IterableDataset):\n",
    "#     def __init__(self, dataset):\n",
    "#         self.dataset = dataset\n",
    "\n",
    "#     def __iter__(self):\n",
    "#         # Iterate over all files in the dataset\n",
    "#         for file_batches in self.dataset:\n",
    "#             # print(file_batches)\n",
    "#             # print(\"In yield loop\")\n",
    "#             # print(x.shape)\n",
    "#             # print(y.shape)\n",
    "#             # Yield each variable-sized batch from the loaded file\n",
    "#             # yield file_batch\n",
    "#             for batch in zip(file_batches[0], file_batches[1]):\n",
    "#                 # print(batch)\n",
    "#                 yield batch  # Each batch can have a different size\n",
    "\n",
    "# # Create the custom dataset\n",
    "# class FileBasedDataset(Dataset):\n",
    "#     def __init__(self, files):\n",
    "#         self.files = files\n",
    "\n",
    "#     def __len__(self):\n",
    "#         return len(self.files)\n",
    "\n",
    "#     def __getitem__(self, index):\n",
    "#         # Load all batches from a file\n",
    "#         # print(\"Loading from file\")\n",
    "#         batches = torch.load(self.files[index])\n",
    "#         # print(\"batches[0].shape: \", batches[0].shape)\n",
    "#         # print(\"batches[1].shape: \", batches[1].shape)\n",
    "#         return batches  # Return all variable-sized batches\n",
    "\n",
    "# # Initialize the dataset and loader\n",
    "# train_files = sorted(glob(\"/scratch/b/b309215/LEAP/ClimSim_high-res/expandcnv_postprocessed/train_nols_nolatlon_normed_chunk*.pt\"))\n",
    "# print(len(train_files))\n",
    "# train_dataset = FileBasedDataset(files=train_files)\n",
    "# train_loader = DataLoader(VariableBatchLoader(train_dataset), batch_size=BATCH_SIZE, shuffle=False)\n",
    "\n",
    "# val_files = sorted(glob(\"/scratch/b/b309215/LEAP/ClimSim_high-res/expandcnv_postprocessed/val_nols_nolatlon_normed_chunk*.pt\"))\n",
    "# print(len(val_files))\n",
    "# val_dataset = FileBasedDataset(files=val_files)\n",
    "# val_loader = DataLoader(VariableBatchLoader(val_dataset), batch_size=BATCH_SIZE, shuffle=False)"
   ]
  },
  {
   "cell_type": "code",
   "execution_count": 22,
   "id": "13f3845f-50cd-44a8-8116-bf3958e157f5",
   "metadata": {},
   "outputs": [],
   "source": [
    "# n_column_features = 21#23\n",
    "# n_scalar_features = 16# With latlon\n",
    "# n_features = n_column_features*NLEV+n_scalar_features\n",
    "# print(n_features)\n",
    "# large_scale_forcing_mask = np.zeros(n_features, dtype=bool)\n",
    "# large_scale_forcing_mask[6*NLEV:12*NLEV] = True\n",
    "# print(large_scale_forcing_mask.shape)#, x_train.shape)\n",
    "\n",
    "# x_train_nols = x_train[:,~large_scale_forcing_mask]\n",
    "# x_val_nols = x_val[:,~large_scale_forcing_mask]\n",
    "# x_test_nols = x_test[:,~large_scale_forcing_mask]\n",
    "# print(x_train_nols.shape)\n",
    "# print(x_val_nols.shape)\n",
    "# print(x_test_nols.shape)\n",
    "# np.save('/scratch/b/b309215/LEAP/ClimSim_high-res/expandcnv_postprocessed/train_input_nols_normed.npy', x_train_nols)\n",
    "# np.save('/scratch/b/b309215/LEAP/ClimSim_high-res/expandcnv_postprocessed/val_input_nols_normed.npy', x_val_nols)\n",
    "# np.save('/scratch/b/b309215/LEAP/ClimSim_high-res/expandcnv_postprocessed/test_input_nols_normed.npy', x_val_nols)"
   ]
  },
  {
   "cell_type": "code",
   "execution_count": 23,
   "id": "8ee28d09-bb75-4561-9ab7-e9fc6e153245",
   "metadata": {
    "tags": []
   },
   "outputs": [],
   "source": [
    "# np.save('/scratch/b/b309215/LEAP/ClimSim_high-res/expandcnv_postprocessed/train_input_normed_4samples.npy', x_train[:4])\n",
    "# np.save('/scratch/b/b309215/LEAP/ClimSim_high-res/expandcnv_postprocessed/train_target_normed_4samples.npy', y_train[:4])"
   ]
  },
  {
   "cell_type": "code",
   "execution_count": 24,
   "id": "f45b5c4e-fdc0-4b94-af7a-2ca0059f20c2",
   "metadata": {
    "tags": []
   },
   "outputs": [
    {
     "data": {
      "text/plain": [
       "(torch.Size([254]), torch.Size([254]))"
      ]
     },
     "execution_count": 24,
     "metadata": {},
     "output_type": "execute_result"
    }
   ],
   "source": [
    "# Y_MEAN = torch.from_numpy(np.load('/scratch/b/b309215/LEAP/ClimSim_high-res/expandcnv_postprocessed/train_target_normed_my.npy'))\n",
    "# Y_STD = torch.from_numpy(np.load('/scratch/b/b309215/LEAP/ClimSim_high-res/expandcnv_postprocessed/train_target_normed_sy.npy'))\n",
    "# Y_MEAN = torch.from_numpy(np.load('/scratch/b/b309215/LEAP/ClimSim_high-res/expandcnv_postprocessed/train_target_normed_my.npy'))\n",
    "# Y_STD = torch.from_numpy(np.load('/scratch/b/b309215/LEAP/ClimSim_high-res/expandcnv_postprocessed/train_target_normed_sy.npy'))\n",
    "# Y_MEAN = torch.from_numpy(np.load('/scratch/b/b309215/LEAP/ClimSim_high-res/expandcnvcons_postprocessed/train_target_phalf_normed_my.npy'))\n",
    "# Y_STD = torch.from_numpy(np.load('/scratch/b/b309215/LEAP/ClimSim_high-res/expandcnvcons_postprocessed/train_target_phalf_normed_sy.npy'))\n",
    "# Y_MEAN = torch.from_numpy(np.load('/scratch/b/b309215/LEAP/ClimSim_high-res/expandcnvcons_postprocessed_qn/train_target_normed_my.npy'))\n",
    "# Y_STD = torch.from_numpy(np.load('/scratch/b/b309215/LEAP/ClimSim_high-res/expandcnvcons_postprocessed_qn/train_target_normed_sy.npy'))\n",
    "# Y_MEAN = torch.from_numpy(np.load('/scratch/b/b309215/LEAP/ClimSim_high-res/expandcnvcons_postprocessed_qnmodified/train_target_phalf_normed_my.npy'))\n",
    "# Y_STD = torch.from_numpy(np.load('/scratch/b/b309215/LEAP/ClimSim_high-res/expandcnvcons_postprocessed_qnmodified/train_target_phalf_normed_sy.npy'))\n",
    "# Y_MEAN = torch.from_numpy(np.load('/scratch/b/b309215/LEAP/ClimSim_high-res/expandcnv_postprocessed_newqcqi/train_target_my.npy'))\n",
    "# Y_STD = torch.from_numpy(np.load('/scratch/b/b309215/LEAP/ClimSim_high-res/expandcnv_postprocessed_newqcqi/train_target_sy.npy'))\n",
    "# Y_MEAN = torch.from_numpy(np.load('/scratch/b/b309215/LEAP/ClimSim_high-res/expandcnv_postprocessed_newqcqifromoutscale/train_target_my.npy'))\n",
    "# Y_STD = torch.from_numpy(np.load('/scratch/b/b309215/LEAP/ClimSim_high-res/expandcnv_postprocessed_newqcqifromoutscale/train_target_sy.npy'))\n",
    "# Y_MEAN = torch.from_numpy(np.load('/scratch/b/b309215/LEAP/ClimSim_high-res/expandcnv_postprocessed_newqcqi_radfix/train_target_my.npy'))\n",
    "# Y_STD = torch.from_numpy(np.load('/scratch/b/b309215/LEAP/ClimSim_high-res/expandcnv_postprocessed_newqcqi_radfix/train_target_sy.npy'))\n",
    "Y_MEAN = torch.from_numpy(np.load('/scratch/b/b309215/LEAP/ClimSim_high-res/expandcnv_postprocessed_qcqi/train/train_target_my.npy'))\n",
    "Y_STD = torch.from_numpy(np.load('/scratch/b/b309215/LEAP/ClimSim_high-res/expandcnv_postprocessed_qcqi/train/train_target_sy.npy'))\n",
    "Y_MEAN = Y_MEAN[vertical_outmask]\n",
    "Y_STD = Y_STD[vertical_outmask]\n",
    "Y_MEAN.shape, Y_STD.shape"
   ]
  },
  {
   "cell_type": "code",
   "execution_count": 25,
   "id": "79bbe4d1-d236-4848-981e-906931feed79",
   "metadata": {},
   "outputs": [],
   "source": [
    "# Function to add Gaussian noise\n",
    "def add_multiplicative_noise(x, noise_std):\n",
    "    noise = torch.randn_like(x) * noise_std\n",
    "    return x * (1 + noise)\n",
    "    \n",
    "def add_additive_noise(x, noise_std):\n",
    "    noise = torch.randn_like(x) * noise_std\n",
    "    return x + noise\n",
    "\n",
    "# Adaptive noise scheduler class\n",
    "class AdaptiveNoiseScheduler:\n",
    "    def __init__(self, initial_noise_std=0.5, threshold=0.75, increase_factor=1.1, decrease_factor=0.9):\n",
    "        \"\"\"\n",
    "        initial_noise_std: starting standard deviation for the noise.\n",
    "        threshold: performance threshold (e.g., 0.75 accuracy) on validation data.\n",
    "        increase_factor: factor to increase noise_std if performance is above threshold.\n",
    "        decrease_factor: factor to decrease noise_std if performance falls below threshold.\n",
    "        \"\"\"\n",
    "        self.noise_std = initial_noise_std\n",
    "        self.threshold = threshold\n",
    "        self.increase_factor = increase_factor\n",
    "        self.decrease_factor = decrease_factor\n",
    "\n",
    "    def step(self, current_val_metric):\n",
    "        if current_val_metric >= self.threshold:\n",
    "            # Increase noise if performance is above threshold\n",
    "            self.noise_std *= self.increase_factor\n",
    "            # print(f'{current_val_metric} >= {self.threshold} therefore increasing noise')\n",
    "        else:\n",
    "            # Decrease noise if performance falls below threshold\n",
    "            self.noise_std *= self.decrease_factor\n",
    "            # print(f'{current_val_metric} < {self.threshold} therefore decreasing noise')\n",
    "        return self.noise_std"
   ]
  },
  {
   "cell_type": "code",
   "execution_count": 26,
   "id": "3e67ddb4-513a-4fdf-a569-131327251562",
   "metadata": {},
   "outputs": [
    {
     "name": "stdout",
     "output_type": "stream",
     "text": [
      "zero_lvl:  0\n"
     ]
    }
   ],
   "source": [
    "zeroout_index = []\n",
    "zero_lvl = NLEV - NLEV_ORIG + 15\n",
    "zero_lvl = zero_lvl if zero_lvl > 0 else 0\n",
    "print('zero_lvl: ', zero_lvl)\n",
    "for i in range(1,6):\n",
    "    zeroout_index.extend(list(range(i*NLEV,i*NLEV+zero_lvl)))\n",
    "\n",
    "zeroout_index = torch.tensor(zeroout_index)"
   ]
  },
  {
   "cell_type": "code",
   "execution_count": 27,
   "id": "595d932b-cc12-4bec-b6f8-6225db8f9df6",
   "metadata": {
    "tags": []
   },
   "outputs": [],
   "source": [
    "def r2_score(y_pred, y_true):\n",
    "    ss_res = torch.sum((y_true - y_pred) ** 2)\n",
    "    ss_tot = torch.sum((y_true - torch.mean(y_true)) ** 2)\n",
    "    r2 = 1 - ss_res / ss_tot\n",
    "    return r2.item()"
   ]
  },
  {
   "cell_type": "code",
   "execution_count": 28,
   "id": "f5ba25ac-7588-4594-84c6-fc33b28c64f6",
   "metadata": {
    "tags": []
   },
   "outputs": [
    {
     "data": {
      "text/plain": [
       "[]"
      ]
     },
     "execution_count": 28,
     "metadata": {},
     "output_type": "execute_result"
    }
   ],
   "source": [
    "def count_parameters(model):\n",
    "    return sum(p.numel() for p in model.parameters() if p.requires_grad)\n",
    "\n",
    "available_gpus = [torch.cuda.device(i) for i in range(torch.cuda.device_count())]\n",
    "available_gpus"
   ]
  },
  {
   "cell_type": "code",
   "execution_count": 29,
   "id": "ec74b4f0-5787-4ed6-b505-b2d536a01ca1",
   "metadata": {},
   "outputs": [],
   "source": [
    "# argv2 = 2"
   ]
  },
  {
   "cell_type": "code",
   "execution_count": 30,
   "id": "a1a8db63-6512-4648-9518-5b685aa6023c",
   "metadata": {},
   "outputs": [],
   "source": [
    "# if argv1 == 0:\n",
    "#     ncorr_lvls=0\n",
    "#     vertical_weighting='none'\n",
    "#     pinn=False\n",
    "#     pinn_weight=None\n",
    "#     conservation=False\n",
    "# ncorr_lvls=35\n",
    "# vertical_weighting='none'\n",
    "# pinn=False\n",
    "# pinn_weight=None\n",
    "# conservation=False\n",
    "    \n",
    "if argv2 == 0:\n",
    "    ncorr_lvls=42\n",
    "    vertical_weighting='none'\n",
    "    pinn=False\n",
    "    pinn_weight=None\n",
    "    conservation=False\n",
    "if argv2 == 1:\n",
    "    # ncorr_lvls=35\n",
    "    # vertical_weighting='none'\n",
    "    # pinn=True\n",
    "    # pinn_weight=0.01\n",
    "    # conservation=True\n",
    "    ncorr_lvls=42\n",
    "    vertical_weighting='learned'\n",
    "    pinn=False\n",
    "    pinn_weight=None\n",
    "    conservation=True\n",
    "elif argv2 == 2:\n",
    "    ncorr_lvls=42\n",
    "    vertical_weighting='none'\n",
    "    pinn=True\n",
    "    pinn_weight=0.1\n",
    "    conservation=False\n",
    "elif argv2 == 3:\n",
    "    ncorr_lvls=42\n",
    "    vertical_weighting='none'\n",
    "    pinn=True\n",
    "    pinn_weight=0.3\n",
    "    conservation=False\n",
    "# elif argv2 == 2:\n",
    "#     ncorr_lvls=35\n",
    "#     vertical_weighting='none'\n",
    "#     pinn=True\n",
    "#     pinn_weight=0.25\n",
    "#     conservation=False\n",
    "# elif argv2 == 3:\n",
    "#     ncorr_lvls=35\n",
    "#     vertical_weighting='none'\n",
    "#     pinn=True\n",
    "#     pinn_weight=0.5\n",
    "#     conservation=False\n",
    "\n",
    "# ncorr_lvls=0\n",
    "# vertical_weighting='none'\n",
    "# pinn=False\n",
    "# pinn_weight=None\n",
    "# conservation=False"
   ]
  },
  {
   "cell_type": "code",
   "execution_count": 31,
   "id": "b57db1fe-d047-4ade-910d-0a71fa54997c",
   "metadata": {},
   "outputs": [],
   "source": [
    "# argv1 = 1\n",
    "# from glob import glob\n",
    "# import re"
   ]
  },
  {
   "cell_type": "code",
   "execution_count": 32,
   "id": "c999e37c-bb2b-4df2-8755-01bac5e04908",
   "metadata": {},
   "outputs": [
    {
     "name": "stdout",
     "output_type": "stream",
     "text": [
      "load_path:  /work/bd1179/b309215/ClimSimKaggle/leap-climsim-kaggle-5th/training/save_models/hr_expandcnv_0.54M_2d1-ponlyres_diffloss_42vlvl_nophysconstr-42lvl_residualout_relu-pr_confrelu_precision32_1gpu_25Msamples_seed1_20250415-110358_pinnweightNone_seed1_20250421-104131/val_score=0.9026-best_model.ckpt\n",
      "val_score:  0.9026\n"
     ]
    }
   ],
   "source": [
    "# for \"engression\"\n",
    "# save_dirpath=f\"/work/bd1179/b309215/ClimSimKaggle/leap-climsim-kaggle-5th/training/save_models/\"\n",
    "\n",
    "r2_reduction = 0.1#0.03#0.05#\n",
    "# init_noise = 0.2#0.02#0.07#\n",
    "\n",
    "# if argv1 == 0:\n",
    "    # # 0.17 M\n",
    "    # load_paths = sorted(glob(save_dirpath + '*0.17M*/*.ckpt'), key=lambda x: re.search(r'_(\\d*-\\d*)/', x).group(1))\n",
    "    # load_path = [p for p in load_paths if 'noise' not in p][-1]\n",
    "    # val_score = float(re.search(r'/val_score=(\\d\\.\\d*)-', load_path).group(1))\n",
    "# if argv1 == 1:\n",
    "    # # 0.54 Model\n",
    "    # # load_paths = sorted(glob(save_dirpath + '*0.54M*/*.ckpt'), key=lambda x: re.search(r'_(\\d*-\\d*)/', x).group(1))\n",
    "    # # load_path = [p for p in load_paths if 'noise' not in p][-1]\n",
    "    # load_path = '/work/bd1179/b309215/ClimSimKaggle/leap-climsim-kaggle-5th/training/save_models/hr_expandcnv_0.54M_2d1-ponlyres_diffloss_42vlvl_nophysconstr-42lvl_residualout_relu-pr_confrelu_precision32_1gpu_25Msamples_seed1_20250415-110358_pinnweightNone_seed1_20250421-104131/val_score=0.9026-best_model.ckpt'\n",
    "    # val_score = float(re.search(r'/val_score=(\\d\\.\\d*)-', load_path).group(1))\n",
    "    # init_noise = 0.4                                                                                                             > # if argv1 == 2:                                                                                                                   >     # # 0.98M model\n",
    "    # load_paths = sorted(glob(save_dirpath + '*0.98M*/*.ckpt'), key=lambda x: re.search(r'_(\\d*-\\d*)/', x).group(1))\n",
    "    # load_path = [p for p in load_paths if 'noise' not in p][-1]\n",
    "    # val_score = float(re.search(r'/val_score=(\\d\\.\\d*)-', load_path).group(1))\n",
    "# if argv1 == 3:\n",
    "    # # 1.6M model\n",
    "    # load_paths = sorted(glob(save_dirpath + '*1.6M*/*.ckpt'), key=lambda x: re.search(r'_(\\d*-\\d*)/', x).group(1))\n",
    "    # load_path = [p for p in load_paths if 'noise' not in p][-1]\n",
    "    # val_score = float(re.search(r'/val_score=(\\d\\.\\d*)-', load_path).group(1))\n",
    "\n",
    "if argv2 == 0:\n",
    "    # 0.54 Model\n",
    "    # load_paths = sorted(glob(save_dirpath + '*0.54M*/*.ckpt'), key=lambda x: re.search(r'_(\\d*-\\d*)/', x).group(1))\n",
    "    # load_path = [p for p in load_paths if 'noise' not in p][-1]\n",
    "    load_path = '/work/bd1179/b309215/ClimSimKaggle/leap-climsim-kaggle-5th/training/save_models/hr_expandcnv_0.54M_2d1-ponlyres_diffloss_42vlvl_nophysconstr-42lvl_residualout_relu-pr_confrelu_precision32_1gpu_25Msamples_seed1_20250415-110358_pinnweightNone_seed1_20250421-104131/val_score=0.9026-best_model.ckpt'\n",
    "    # load_path = '/work/bd1179/b309215/ClimSimKaggle/leap-climsim-kaggle-5th/training/save_models/hr_expandcnv_0.54M_2d1-ponlyres_diffloss_42vlvl_nophysconstr-42lvl_residualout_relu-pr_confrelu_precision32_1gpu_25Msamples_seed1_20250415-110358_pinnweightNone_seed1_20250421-104131_addnoise-adaptive0.05-init0.07_seed6_20250704-032523/val_score=0.8553-last_model.ckpt'''\n",
    "    val_score = float(re.search(r'/val_score=(\\d\\.\\d*)-', load_path).group(1))\n",
    "    init_noise = 0.4\n",
    "if argv2 == 2:\n",
    "    # 0.54 Model\n",
    "    # load_paths = sorted(glob(save_dirpath + '*0.54M*/*.ckpt'), key=lambda x: re.search(r'_(\\d*-\\d*)/', x).group(1))\n",
    "    # load_path = [p for p in load_paths if 'noise' not in p][-1]\n",
    "    #alpha=0.01\n",
    "    # load_path = '/work/bd1179/b309215/ClimSimKaggle/leap-climsim-kaggle-5th/training/save_models/hr_expandcnv_0.54M_2d1-ponlyres_diffloss_42vlvl_nophysconstr-42lvl_residualout_relu-pr_confrelu_precision32_1gpu_25Msamples_seed1_20250415-110358_pinnweight0.01_residual-mul385_seed25_20250430-000204/val_score=0.9004-best_model.ckpt'\n",
    "    #alpha=0.1\n",
    "    load_path = '/work/bd1179/b309215/ClimSimKaggle/leap-climsim-kaggle-5th/training/save_models/hr_expandcnv_0.54M_2d1-ponlyres_diffloss_42vlvl_nophysconstr-42lvl_residualout_relu-pr_confrelu_precision32_1gpu_25Msamples_seed1_20250415-110358_pinnweight0.1_residual-mul385_seed81_20250430-000025/val_score=0.8997-best_model.ckpt'\n",
    "    #alpha=0.5\n",
    "    # load_path = '/work/bd1179/b309215/ClimSimKaggle/leap-climsim-kaggle-5th/training/save_models/hr_expandcnv_0.54M_2d1-ponlyres_diffloss_42vlvl_nophysconstr-42lvl_residualout_relu-pr_confrelu_precision32_1gpu_25Msamples_seed1_20250415-110358_pinnweight0.5_residual-mul385_seed57_20250430-164854/val_score=0.8896-best_model.ckpt'\n",
    "    #alpha=0.9\n",
    "    # load_path = '/work/bd1179/b309215/ClimSimKaggle/leap-climsim-kaggle-5th/training/save_models/hr_expandcnv_0.54M_2d1-ponlyres_diffloss_42vlvl_nophysconstr-42lvl_residualout_relu-pr_confrelu_precision32_1gpu_25Msamples_seed1_20250415-110358_pinnweight0.9_residual-mul385_seed83_20250430-230737/val_score=0.6321-best_model.ckpt'\n",
    "    val_score = float(re.search(r'/val_score=(\\d\\.\\d*)-', load_path).group(1))\n",
    "    init_noise = 0.2\n",
    "    \n",
    "print('load_path: ', load_path)\n",
    "print('val_score: ', val_score)"
   ]
  },
  {
   "cell_type": "code",
   "execution_count": 33,
   "id": "9a9263e9-6722-4bd8-bdcd-fb85714515d0",
   "metadata": {},
   "outputs": [],
   "source": [
    "# load_path = \"/work/bd1179/b309215/ClimSimKaggle/leap-climsim-kaggle-5th/training/save_models/hr_expandcnv_1.6M_wlatwpmid_nophysconstr-35lvl_residualout_relu-pr_confrelu_precision32_1gpu_5Msamples_seed3_20250317-224140_addnoise-adaptive0.05-init0.1_seed3_20250319-231230/val_score=0.8617-last_model.ckpt\"\n",
    "# val_score = float(re.search(r'/val_score=(\\d\\.\\d*)-', load_path).group(1))"
   ]
  },
  {
   "cell_type": "code",
   "execution_count": 37,
   "id": "6519f09c-405f-4bdb-990b-80eb6e7f68d7",
   "metadata": {
    "tags": []
   },
   "outputs": [
    {
     "name": "stdout",
     "output_type": "stream",
     "text": [
      "(757,) (757,)\n",
      "(254,)\n",
      "Physical Scales:\n",
      "g: 9.80665 m\n",
      "Time: 10 s\n",
      "rho: 1000.0 K\n",
      "cpd 1004.64 J/kg/K\n",
      "\n",
      "Derived Physical Scales:\n",
      "Length: 980.665 m\n",
      "Energy: 9617.03842225 J/kg\n",
      "Temperature: 9.572621458681716 K\n",
      "Pressure 9617038.422249999 Pa\n",
      "Normalized Constants:\n",
      "alv: 260.0384744449127\n",
      "als: 294.737306387598\n"
     ]
    },
    {
     "data": {
      "text/plain": [
       "HighResLeapModelPhysicsConstraint(\n",
       "  (network): FFNN_LSTM_6_AVG(\n",
       "    (LSTM_1): LSTM(280, 60, num_layers=4, batch_first=True, dropout=0.02, bidirectional=True)\n",
       "    (Linear_1): Linear(in_features=17, out_features=280, bias=True)\n",
       "    (Linear_2): Linear(in_features=640, out_features=120, bias=True)\n",
       "    (Linear_3): Linear(in_features=120, out_features=12, bias=True)\n",
       "    (Linear_4_0): Linear(in_features=120, out_features=240, bias=True)\n",
       "    (Linear_4): Linear(in_features=240, out_features=4, bias=True)\n",
       "    (avg_pool_1): AvgPool1d(kernel_size=(3,), stride=(1,), padding=(1,))\n",
       "  )\n",
       "  (criterion): HuberLoss()\n",
       ")"
      ]
     },
     "execution_count": 37,
     "metadata": {},
     "output_type": "execute_result"
    }
   ],
   "source": [
    "from BiLSTM import HighResLeapModelPhysicsConstraint\n",
    "\n",
    "params = {\n",
    "    \"input_dim\": 25,\n",
    "    \"hidden_dim\": 512,\n",
    "    \"output_dim\": 368,\n",
    "    \"num_layers\": 3,\n",
    "    \"max_epochs\": NUM_EPOCHS,\n",
    "    \"accelerator\": \"gpu\",\n",
    "    \"devices\": [0],#[argv1],#,1,2,3],\n",
    "    # 'data_length' : len(ds_data),\n",
    "    # 'weight_decay' : 2e-3,\n",
    "    # 'dropout' : 0.0\n",
    "}\n",
    "\n",
    "# model = LeapModel(\n",
    "#     input_dim=params[\"input_dim\"],\n",
    "#     hidden_dim=params[\"hidden_dim\"],\n",
    "#     output_dim=params[\"output_dim\"],\n",
    "#     num_layers=params[\"num_layers\"],\n",
    "# )\n",
    "\n",
    "# inp_sub = np.loadtxt('/scratch/b/b309215/e3sm-climsim_sandbox.sif/storage/shared_e3sm/saved_models/v5/v5cnv_conv_cons/inp_sub.txt')\n",
    "# inp_div = np.loadtxt('/scratch/b/b309215/e3sm-climsim_sandbox.sif/storage/shared_e3sm/saved_models/v5/v5cnv_conv_cons/inp_div.txt')\n",
    "# inp_sub = np.loadtxt('/scratch/b/b309215/e3sm-climsim_sandbox.sif/storage/shared_e3sm/saved_models/v5/v5cnv_phalf_conv_cons/inp_sub.txt')\n",
    "# inp_div = np.loadtxt('/scratch/b/b309215/e3sm-climsim_sandbox.sif/storage/shared_e3sm/saved_models/v5/v5cnv_phalf_conv_cons/inp_div_zeroptop.txt')\n",
    "# inp_sub = np.loadtxt('/scratch/b/b309215/e3sm-climsim_sandbox.sif/storage/shared_e3sm/saved_models/v5/v5cnv_nols_phalf/inp_sub.txt')#, delimiter=',')\n",
    "# inp_div = np.loadtxt('/scratch/b/b309215/e3sm-climsim_sandbox.sif/storage/shared_e3sm/saved_models/v5/v5cnv_nols_phalf/inp_div.txt')#, delimiter=',')\n",
    "# inp_sub = np.loadtxt('/scratch/b/b309215/e3sm-climsim_sandbox.sif/storage/shared_e3sm/saved_models/v5/v5cnvqcqi_nols/inp_sub.txt')\n",
    "# inp_div = np.loadtxt('/scratch/b/b309215/e3sm-climsim_sandbox.sif/storage/shared_e3sm/saved_models/v5/v5cnvqcqi_nols/inp_div.txt')\n",
    "# todo: change if working with 2dpreslat inputs\n",
    "inp_sub = np.loadtxt('/work/bd1179/b309215/shared_e3sm/saved_models/v5/v5cnvqcqi_nols/inp_sub.txt')\n",
    "inp_sub = inp_sub[combined_in_mask]\n",
    "# inp_sub = inp_sub[only_ps_lat_2d_mask]\n",
    "inp_div = np.loadtxt('/work/bd1179/b309215/shared_e3sm/saved_models/v5/v5cnvqcqi_nols/inp_div_qcqifromoutscale.txt')\n",
    "inp_div = inp_div[combined_in_mask]\n",
    "# inp_div = inp_div[only_ps_lat_2d_mask]\n",
    "print(inp_sub.shape, inp_div.shape)\n",
    "# qn_lbd = np.loadtxt('/work/bd1179/b309215/ClimSim/preprocessing/normalizations/inputs/qn_exp_lambda_large.txt', delimiter=',')\n",
    "p_sub = inp_sub[17*NLEV:18*NLEV+1]#[840:901]# +1 because of surface pressure\n",
    "p_div = inp_div[17*NLEV:18*NLEV+1]#[840:901]#\n",
    "# t_sub = inp_sub[0:60]\n",
    "# t_div = inp_div[0:60]\n",
    "# qn_sub = inp_sub[120:180]\n",
    "# qn_div = inp_div[120:180]\n",
    "in_indices = [17,28]#[14]# # p index\n",
    "# out_indices = [0, 60, 120, 180, 240, 300, 360, 361]#[0,0,0,0,0,0,0,0]# # indices of t_phy, qv_phy, qn_phy, u_phy, v_phy, rain, snow in output\n",
    "out_indices = [i*NLEV for i in range(n_column_targets)] + [NLEV*n_column_targets+i for i in range(n_scalar_targets)]\n",
    "out_scale = np.loadtxt('/work/bd1179/b309215/shared_e3sm/saved_models/v5/v5cnv_conv_cons/out_scale.txt')\n",
    "out_scale = out_scale[vertical_outmask]\n",
    "# out_scale = np.loadtxt('/scratch/b/b309215/e3sm-climsim_sandbox.sif/storage/shared_e3sm/saved_models/v5/v5cnv/out_scale.txt')\n",
    "print(out_scale.shape)\n",
    "# norm_constants = [dP_sub, dP_div, t_sub, t_div, qn_sub, qn_div, qn_lbd, out_scale]\n",
    "norm_constants = [p_sub, p_div, out_scale]\n",
    "\n",
    "feature_target_lengths = [n_column_features, n_scalar_features, n_column_targets, n_scalar_targets]\n",
    "\n",
    "# conservation = False #(argv1 == 0 or argv1 == 2)\n",
    "# ncorr_lvls=40\n",
    "# vertical_weighting='none'\n",
    "\n",
    "# load_path = '/work/bd1179/b309215/ClimSimKaggle/leap-climsim-kaggle-5th/training/save_models/hr_expandcnv_3.3M-2_wlatwpmid_nolargescalef_physconstr-35lvl_weightedlearned_residualout_relu-pr_confrelu_precision32_1gpu_5Msamples_seed42_20250227-224221/val_score=0.9082-best_model.ckpt'\n",
    "\n",
    "# for \"engression\"\n",
    "noise_scheduler = AdaptiveNoiseScheduler(threshold=val_score-r2_reduction, initial_noise_std=init_noise)\n",
    "# otherwise\n",
    "# noise_scheduler = None\n",
    "\n",
    "# noncons\n",
    "# load_path = '/work/bd1179/b309215/ClimSimKaggle/leap-climsim-kaggle-5th/training/save_models/hr_expandcnv_1.6M_wlatwpmid_nophysconstr-0lvl_residualout_relu-pr_confrelu_precision32_1gpu_5Msamples_seed42_20250305-194746/val_score=0.9140-best_model.ckpt'\n",
    "# cons\n",
    "# load_path = '/work/bd1179/b309215/ClimSimKaggle/leap-climsim-kaggle-5th/training/save_models/hr_expandcnv_1.6M_wlatwpmid_physconstr-35lvl_weightedlearned_residualout_relu-pr_confrelu_precision32_1gpu_5Msamples_seed42_20250304-203840/val_score=0.9111-best_model.ckpt'\n",
    "# pinn\n",
    "# load_path = '/work/bd1179/b309215/ClimSimKaggle/leap-climsim-kaggle-5th/training/save_models/hr_expandcnv_1.6M_wlatwpmid_pinn-35lvl_pinnweight0.7_residualout_relu-pr_confrelu_precision32_1gpu_5Msamples_seed42_20250304-203840/val_score=0.9145-best_model.ckpt'\n",
    "# 2dablated\n",
    "# load_path = '/work/bd1179/b309215/ClimSimKaggle/leap-climsim-kaggle-5th/training/save_models/hr_expandcnv_1.6M_wlatwpmid_2dpslat_nophysconstr-35lvl_residualout_relu-pr_confrelu_precision32_1gpu_5Msamples_seed3_20250321-174359/val_score=0.9138-best_model.ckpt'\n",
    "\n",
    "# load_path = '/work/bd1179/b309215/ClimSimKaggle/leap-climsim-kaggle-5th/training/save_models/hr_expandcnv_1.6M_wlatwpmid_42vlvl_nophysconstr-35lvl_residualout_relu-pr_confrelu_precision32_1gpu_5Msamples_seed3_20250329-134334/val_score=0.9044-last_model.ckpt'\n",
    "# load_path = '/work/bd1179/b309215/ClimSimKaggle/leap-climsim-kaggle-5th/training/save_models/hr_expandcnv_1.6M_wlatwpmid_42vlvl_nophysconstr-35lvl_residualout_relu-pr_confrelu_precision32_1gpu_1Msamples_seed3_20250404-124342/val_score=0.8969-last_model.ckpt'\n",
    "# load_path = '/work/bd1179/b309215/ClimSimKaggle/leap-climsim-kaggle-5th/training/save_models/hr_expandcnv_5.1M_wlatwpmid_42vlvl_nophysconstr-35lvl_residualout_relu-pr_confrelu_precision32_1gpu_1Msamples_seed4_20250404-131343/val_score=0.8937-last_model.ckpt'\n",
    "\n",
    "# load_path = '/work/bd1179/b309215/ClimSimKaggle/leap-climsim-kaggle-5th/training/save_models/hr_expandcnv_0.54M_2d1-ponlyres_diffloss_42vlvl_nophysconstr-42lvl_residualout_relu-pr_confrelu_precision32_1gpu_25Msamples_seed1_20250415-110358/val_score=0.9005-best_model.ckpt'\n",
    "# load_path = '/work/bd1179/b309215/ClimSimKaggle/leap-climsim-kaggle-5th/training/save_models/hr_expandcnv_0.54M_2d1-ponlyres_diffloss_42vlvl_nophysconstr-42lvl_residualout_relu-pr_confrelu_precision32_1gpu_25Msamples_seed12_20250425-095130/val_score=0.9010-best_model.ckpt'\n",
    "# load_path = '/work/bd1179/b309215/ClimSimKaggle/leap-climsim-kaggle-5th/training/save_models/hr_expandcnv_0.99M_2d1-ponlyres_diffloss_42vlvl_nophysconstr-42lvl_residualout_relu-pr_confrelu_precision32_1gpu_25Msamples_seed11_20250426-003730/val_score=0.9118-last_model.ckpt'\n",
    "# load_path = '/work/bd1179/b309215/ClimSimKaggle/leap-climsim-kaggle-5th/training/save_models/hr_expandcnv_0.99M_2d1-ponlyres_diffloss_42vlvl_nophysconstr-42lvl_residualout_relu-pr_confrelu_precision32_1gpu_25Msamples_seed29_20250426-003638/val_score=0.9119-best_model.ckpt'\n",
    "\n",
    "# load_path = '/work/bd1179/b309215/ClimSimKaggle/leap-climsim-kaggle-5th/training/save_models/hr_expandcnv_0.54M_2d1-ponlyres_diffloss_42vlvl_nophysconstr-42lvl_residualout_relu-pr_confrelu_precision32_1gpu_25Msamples_seed1_20250415-110358_pinnweightNone_seed1_20250421-104131/val_score=0.9026-best_model.ckpt'\n",
    "\n",
    "# change for \"engression\"\n",
    "model = HighResLeapModelPhysicsConstraint.load_from_checkpoint(\n",
    "    checkpoint_path=load_path,\n",
    "# model = HighResLeapModelPhysicsConstraint(#.load_from_checkpoint(\n",
    "    # checkpoint_path=load_path,\n",
    "    # input_size=params[\"input_dim\"],\n",
    "    # output_size=params[\"output_dim\"],\n",
    "    feature_target_lengths=feature_target_lengths,\n",
    "    norm_constants=norm_constants,\n",
    "    zeroout_index=zeroout_index,\n",
    "    in_indices=in_indices,\n",
    "    out_indices=out_indices,\n",
    "    # config=None,\n",
    "    # zeroout_mask=zeroout_mask,\n",
    "    ncorr_lvls=ncorr_lvls,\n",
    "    vertical_weighting=vertical_weighting,\n",
    "    use_confidence=True,\n",
    "    pinn=pinn,\n",
    "    pinn_weight=pinn_weight,\n",
    "    cons_energy=conservation,\n",
    "    cons_mass=conservation,\n",
    "    cons_uv=conservation,\n",
    "    noise_scheduler=noise_scheduler,\n",
    "    nlev=NLEV,\n",
    "    argv1=argv1,\n",
    "    argv2=argv2,\n",
    ")#.to(DEVICE)\n",
    "\n",
    "model"
   ]
  },
  {
   "cell_type": "code",
   "execution_count": 98,
   "id": "fba76e36-126d-43cf-aaf4-6a1c38244e9e",
   "metadata": {},
   "outputs": [
    {
     "name": "stdout",
     "output_type": "stream",
     "text": [
      "3\n",
      "Parameter containing:\n",
      "tensor([1., 1., 1.], device='cuda:0', requires_grad=True)\n",
      "tensor([0.3333, 0.3333, 0.3333], device='cuda:0', grad_fn=<DivBackward0>)\n"
     ]
    }
   ],
   "source": [
    "for p in model.parameters():\n",
    "    if p.requires_grad:\n",
    "        print(p.numel())\n",
    "        print(p)\n",
    "        relu_weights = F.relu(p)\n",
    "        print(relu_weights/torch.sum(relu_weights))\n",
    "        break"
   ]
  },
  {
   "cell_type": "code",
   "execution_count": 99,
   "id": "78bf6318-81af-4cd6-8c3b-215fe02de8d3",
   "metadata": {
    "tags": []
   },
   "outputs": [
    {
     "name": "stdout",
     "output_type": "stream",
     "text": [
      "540675\n"
     ]
    }
   ],
   "source": [
    "# for p in model.parameters():\n",
    "#     if p.requires_grad:\n",
    "#         print(p.numel())\n",
    "print(count_parameters(model)) # 1162429\n",
    "# 522412\n",
    "# 1599874"
   ]
  },
  {
   "cell_type": "code",
   "execution_count": 100,
   "id": "1b7b1c22-8e8a-4bcc-a74c-771311353ac9",
   "metadata": {
    "tags": []
   },
   "outputs": [
    {
     "data": {
      "text/plain": [
       "[18, 1, 6, 2]"
      ]
     },
     "execution_count": 100,
     "metadata": {},
     "output_type": "execute_result"
    }
   ],
   "source": [
    "# for b in train_loader:\n",
    "#     model.training_step(b, 0)\n",
    "#     x,y = b\n",
    "#     # x = x.to(DEVICE)\n",
    "#     # y = y.to(DEVICE)\n",
    "#     print(x.shape, y.shape)\n",
    "#     yhat = model(x)\n",
    "#     print(yhat.shape)\n",
    "#     # model.training_step((x,y), 0)\n",
    "#     break\n",
    "feature_target_lengths"
   ]
  },
  {
   "cell_type": "code",
   "execution_count": 101,
   "id": "595cb4f5",
   "metadata": {},
   "outputs": [],
   "source": [
    "# from torchviz import make_dot\n",
    "# make_dot(yhat, params=dict(model.named_parameters()))feature_target_lengths"
   ]
  },
  {
   "cell_type": "code",
   "execution_count": 102,
   "id": "bd1e25e1-f4c1-4f2f-8eb9-7b7acc173cd0",
   "metadata": {},
   "outputs": [
    {
     "data": {
      "text/plain": [
       "'20250821-140624'"
      ]
     },
     "execution_count": 102,
     "metadata": {},
     "output_type": "execute_result"
    }
   ],
   "source": [
    "import datetime\n",
    "now = datetime.datetime.now().strftime(\"%Y%m%d-%H%M%S\")\n",
    "now"
   ]
  },
  {
   "cell_type": "code",
   "execution_count": 103,
   "id": "1b87d839-dafc-442a-b54e-f6d280313f14",
   "metadata": {
    "scrolled": true,
    "tags": []
   },
   "outputs": [
    {
     "name": "stderr",
     "output_type": "stream",
     "text": [
      "WARNING:root:Malformed experiment '420948558510204702'. Detailed error Yaml file '/scratch/b/b309215/mlruns/420948558510204702/meta.yaml' does not exist.\n",
      "Traceback (most recent call last):\n",
      "  File \"/work/bd1179/b309215/mambaforge/envs/climlab/lib/python3.11/site-packages/mlflow/store/tracking/file_store.py\", line 327, in search_experiments\n",
      "    exp = self._get_experiment(exp_id, view_type)\n",
      "          ^^^^^^^^^^^^^^^^^^^^^^^^^^^^^^^^^^^^^^^\n",
      "  File \"/work/bd1179/b309215/mambaforge/envs/climlab/lib/python3.11/site-packages/mlflow/store/tracking/file_store.py\", line 421, in _get_experiment\n",
      "    meta = FileStore._read_yaml(experiment_dir, FileStore.META_DATA_FILE_NAME)\n",
      "           ^^^^^^^^^^^^^^^^^^^^^^^^^^^^^^^^^^^^^^^^^^^^^^^^^^^^^^^^^^^^^^^^^^^\n",
      "  File \"/work/bd1179/b309215/mambaforge/envs/climlab/lib/python3.11/site-packages/mlflow/store/tracking/file_store.py\", line 1367, in _read_yaml\n",
      "    return _read_helper(root, file_name, attempts_remaining=retries)\n",
      "           ^^^^^^^^^^^^^^^^^^^^^^^^^^^^^^^^^^^^^^^^^^^^^^^^^^^^^^^^^\n",
      "  File \"/work/bd1179/b309215/mambaforge/envs/climlab/lib/python3.11/site-packages/mlflow/store/tracking/file_store.py\", line 1360, in _read_helper\n",
      "    result = read_yaml(root, file_name)\n",
      "             ^^^^^^^^^^^^^^^^^^^^^^^^^^\n",
      "  File \"/work/bd1179/b309215/mambaforge/envs/climlab/lib/python3.11/site-packages/mlflow/utils/file_utils.py\", line 309, in read_yaml\n",
      "    raise MissingConfigException(f\"Yaml file '{file_path}' does not exist.\")\n",
      "mlflow.exceptions.MissingConfigException: Yaml file '/scratch/b/b309215/mlruns/420948558510204702/meta.yaml' does not exist.\n",
      "INFO: GPU available: True (cuda), used: True\n",
      "INFO:lightning.pytorch.utilities.rank_zero:GPU available: True (cuda), used: True\n",
      "INFO: TPU available: False, using: 0 TPU cores\n",
      "INFO:lightning.pytorch.utilities.rank_zero:TPU available: False, using: 0 TPU cores\n",
      "INFO: HPU available: False, using: 0 HPUs\n",
      "INFO:lightning.pytorch.utilities.rank_zero:HPU available: False, using: 0 HPUs\n"
     ]
    }
   ],
   "source": [
    "precision=32\n",
    "\n",
    "if conservation and not pinn:\n",
    "    cons_pinn = \"physconstr\"\n",
    "    vertical_weighting_str = f\"_weighted{vertical_weighting}\"\n",
    "elif pinn and not conservation:\n",
    "    cons_pinn = \"pinn\"\n",
    "    vertical_weighting_str = f\"_pinnweight{pinn_weight}\"\n",
    "elif not conservation and not pinn:\n",
    "    cons_pinn = \"nophysconstr\"\n",
    "    vertical_weighting_str = \"\"\n",
    "    \n",
    "if argv1 == 0:\n",
    "    # run_name = f'hr_expandcnv_3.3M-2_wlatwpmid_{cons_pinn}-{ncorr_lvls}lvl{vertical_weighting_str}_residualout_relu-pr_confrelu_precision{precision}_1gpu_5Msamples_seed{SEED}_{now}'\n",
    "    # run_name = f'hr_expandcnv_0.17M_wlatwpmid_2dpslat_{cons_pinn}-{ncorr_lvls}lvl{vertical_weighting_str}_residualout_relu-pr_confrelu_precision{precision}_1gpu_5Msamples_seed{SEED}_{now}'\n",
    "    # run_name = f'hr_expandcnv_0.17M_wlatwpmid_18topzeroinout_{cons_pinn}-{ncorr_lvls}lvl{vertical_weighting_str}_residualout_relu-pr_confrelu_precision{precision}_1gpu_5Msamples_seed{SEED}_{now}'\n",
    "    run_name = f'hr_expandcnv_0.17M_wlatwpmid_{NLEV}vlvl_{cons_pinn}-{ncorr_lvls}lvl{vertical_weighting_str}_residualout_relu-pr_confrelu_precision{precision}_1gpu_1Msamples_seed{SEED}_{now}'\n",
    "elif argv1 == 1:\n",
    "    # run_name = f'hr_expandcnv_3.3M-2_wlatwpmid_{cons_pinn}-{ncorr_lvls}lvl{vertical_weighting_str}_residualout_relu-pr_confrelu_precision{precision}_1gpu_5Msamples_seed{SEED}_{now}'\n",
    "    # run_name = f'hr_expandcnv_0.54M_wlatwpmid_2dpslat_{cons_pinn}-{ncorr_lvls}lvl{vertical_weighting_str}_residualout_relu-pr_confrelu_precision{precision}_1gpu_5Msamples_seed{SEED}_{now}'\n",
    "    # run_name = f'hr_expandcnv_0.54M_wlatwpmid_18topzeroinout_{cons_pinn}-{ncorr_lvls}lvl{vertical_weighting_str}_residualout_relu-pr_confrelu_precision{precision}_1gpu_5Msamples_seed{SEED}_{now}'\n",
    "    # run_name = f'hr_expandcnv_0.54M_wlatwpmid_{NLEV}vlvl_{cons_pinn}-{ncorr_lvls}lvl{vertical_weighting_str}_residualout_relu-pr_confrelu_precision{precision}_1gpu_1Msamples_seed{SEED}_{now}'\n",
    "    # run_name = f'hr_expandcnv_0.54M_wlatwpmid_diffloss_{NLEV}vlvl_{cons_pinn}-{ncorr_lvls}lvl{vertical_weighting_str}_residualout_relu-pr_confrelu_precision{precision}_1gpu_1Msamples_seed{SEED}_{now}'\n",
    "    # run_name = f'hr_expandcnv_0.54M_wolatwpmid_{NLEV}vlvl_{cons_pinn}-{ncorr_lvls}lvl{vertical_weighting_str}_residualout_relu-pr_confrelu_precision{precision}_1gpu_1Msamples_seed{SEED}_{now}'\n",
    "    # run_name = f'hr_expandcnv_0.54M_wolatwpmid_diffloss_{NLEV}vlvl_{cons_pinn}-{ncorr_lvls}lvl{vertical_weighting_str}_residualout_relu-pr_confrelu_precision{precision}_1gpu_1Msamples_seed{SEED}_{now}'\n",
    "    # run_name = f'hr_expandcnv_0.54M_wolatwpmid_{NLEV}vlvl_{cons_pinn}-{ncorr_lvls}lvl{vertical_weighting_str}_residualout_relu-pr_confrelu_precision{precision}_1gpu_1Msamples_seed{SEED}_{now}'\n",
    "    run_name = f'hr_expandcnv_0.54M_2d1-ponlyres_diffloss_{NLEV}vlvl_{cons_pinn}-{ncorr_lvls}lvl{vertical_weighting_str}_residualout_relu-pr_confrelu_precision{precision}_1gpu_25Msamples_seed{SEED}_{now}'\n",
    "elif argv1 == 2:\n",
    "    # run_name = f'hr_expandcnv_3.3M-2_wlatwpmid_{cons_pinn}-{ncorr_lvls}lvl{vertical_weighting_str}_residualout_relu-pr_confrelu_precision{precision}_1gpu_5Msamples_seed{SEED}_{now}'\n",
    "    # run_name = f'hr_expandcnv_0.98M_wlatwpmid_2dpslat_{cons_pinn}-{ncorr_lvls}lvl{vertical_weighting_str}_residualout_relu-pr_confrelu_precision{precision}_1gpu_5Msamples_seed{SEED}_{now}'\n",
    "    # run_name = f'hr_expandcnv_0.98M_wlatwpmid_18topzeroinout_{cons_pinn}-{ncorr_lvls}lvl{vertical_weighting_str}_residualout_relu-pr_confrelu_precision{precision}_1gpu_5Msamples_seed{SEED}_{now}'\n",
    "    run_name = f'hr_expandcnv_0.98M_wlatwpmid_{NLEV}vlvl_{cons_pinn}-{ncorr_lvls}lvl{vertical_weighting_str}_residualout_relu-pr_confrelu_precision{precision}_1gpu_1Msamples_seed{SEED}_{now}'\n",
    "elif argv1 == 3:\n",
    "    # run_name = f'hr_expandcnv_3.3M-2_wlatwpmid_{cons_pinn}-{ncorr_lvls}lvl{vertical_weighting_str}_residualout_relu-pr_confrelu_precision{precision}_1gpu_5Msamples_seed{SEED}_{now}'\n",
    "    # run_name = f'hr_expandcnv_1.6M_wlatwpmid_2dpslat_{cons_pinn}-{ncorr_lvls}lvl{vertical_weighting_str}_residualout_relu-pr_confrelu_precision{precision}_1gpu_5Msamples_seed{SEED}_{now}'\n",
    "    # run_name = f'hr_expandcnv_1.6M_wlatwpmid_18topzeroinout_{cons_pinn}-{ncorr_lvls}lvl{vertical_weighting_str}_residualout_relu-pr_confrelu_precision{precision}_1gpu_5Msamples_seed{SEED}_{now}'\n",
    "    # run_name = f'hr_expandcnv_1.6M_wlatwpmid_{NLEV}vlvl_{cons_pinn}-{ncorr_lvls}lvl{vertical_weighting_str}_residualout_relu-pr_confrelu_precision{precision}_1gpu_1Msamples_seed{SEED}_{now}'\n",
    "    run_name = f'hr_expandcnv_1.6M_2donlyps_{NLEV}vlvl_{cons_pinn}-{ncorr_lvls}lvl{vertical_weighting_str}_residualout_relu-pr_confrelu_precision{precision}_1gpu_1Msamples_seed{SEED}_{now}'\n",
    "    # run_name = f'hr_expandcnv_1.6M_only3d_{NLEV}vlvl_{cons_pinn}-{ncorr_lvls}lvl{vertical_weighting_str}_residualout_relu-pr_confrelu_precision{precision}_1gpu_1Msamples_seed{SEED}_{now}'\n",
    "elif argv1 == 4:\n",
    "    run_name = f'hr_expandcnv_5.1M_wlatwpmid_{NLEV}vlvl_{cons_pinn}-{ncorr_lvls}lvl{vertical_weighting_str}_residualout_relu-pr_confrelu_precision{precision}_1gpu_1Msamples_seed{SEED}_{now}'\n",
    "elif argv1 == 5:\n",
    "    run_name = f'hr_expandcnv_13.6M_wlatwpmid_{NLEV}vlvl_{cons_pinn}-{ncorr_lvls}lvl{vertical_weighting_str}_residualout_relu-pr_confrelu_precision{precision}_1gpu_1Msamples_seed{SEED}_{now}'\n",
    "elif argv1 == 6:\n",
    "    run_name = f'hr_expandcnv_8M_wlatwpmid_{NLEV}vlvl_{cons_pinn}-{ncorr_lvls}lvl{vertical_weighting_str}_residualout_relu-pr_confrelu_precision{precision}_1gpu_1Msamples_seed{SEED}_{now}'\n",
    "elif argv1 == 7:\n",
    "    run_name = f'hr_expandcnv_0.88M_2d1-ponlyres_diffloss_{NLEV}vlvl_{cons_pinn}-{ncorr_lvls}lvl{vertical_weighting_str}_residualout_relu-pr_confrelu_precision{precision}_1gpu_25Msamples_seed{SEED}_{now}'\n",
    "    \n",
    "## pinn warm restart\n",
    "#old_run_name = os.path.basename(os.path.dirname(load_path))\n",
    "## run_name = old_run_name + f'_pinnweight{pinn_weight}_seed{SEED}_{now}'\n",
    "## run_name = old_run_name + f'_pinnweight{pinn_weight}_check-residual-magnitude-mul385_seed{SEED}_{now}'\n",
    "#run_name = old_run_name + f'_addnoise-adaptive0.3_seed{SEED}_{now}'\n",
    "\n",
    "# \"engression\"\n",
    "old_run_name = os.path.basename(os.path.dirname(load_path))\n",
    "run_name = old_run_name + f'_addnoise-adaptive{r2_reduction}-init{init_noise}_seed{SEED}_{now}'\n",
    "# # run_name = old_run_name + f'_mulnoise-adaptive0.3_seed{SEED}_{now}'\n",
    "\n",
    "exp_name = \"ClimsimQcQiAllYears\"# \"ClimsimIconMix\"# \"FirstDayOneYear\"\n",
    "setup_mlflow_tracking(experiment_name=exp_name, run_name=run_name, params=params,\n",
    "                     uri='file:///scratch/b/b309215/mlruns')\n",
    "                     # uri='file:///work/bd1179/b309215/ClimSimKaggle/leap-climsim-kaggle-5th/mlruns')\n",
    "\n",
    "early_stopping_callback = EarlyStopping(\n",
    "    # monitor=\"val_score/dataloader_idx_0\", mode=\"max\", patience=3, verbose=True\n",
    "    monitor=\"val_score\",\n",
    "    mode=\"max\",\n",
    "    patience=6,#40,#8,#4,\n",
    "    verbose=True\n",
    ")\n",
    "\n",
    "checkpoint_callback = ModelCheckpoint(\n",
    "    # monitor=\"val_score/dataloader_idx_0\",\n",
    "    monitor=\"val_score\",\n",
    "    mode=\"max\",\n",
    "    save_top_k=1,\n",
    "    filename=\"{val_score:.4f}-best_model\",\n",
    "    # dirpath=f\"/work/bd1179/b309215/ClimSimKaggle/leap-climsim-kaggle-5th/training/save_models/{run_name}\"\n",
    "    dirpath=f\"/scratch/b/b309215/saved_models/{run_name}\"\n",
    ")\n",
    "\n",
    "# Also save last checkpoint in case of noise training\n",
    "checkpoint_callback_last = ModelCheckpoint(\n",
    "    every_n_epochs=1,   # Saves after every epoch\n",
    "    save_top_k=1,       # Keeps only the most recent model\n",
    "    filename=\"{val_score:.4f}-last_model\",\n",
    "    # dirpath=f\"/work/bd1179/b309215/ClimSimKaggle/leap-climsim-kaggle-5th/training/save_models/{run_name}\"\n",
    "    dirpath=f\"/scratch/b/b309215/saved_models/{run_name}\"\n",
    ")\n",
    "\n",
    "lr_monitor_callback = LearningRateMonitor(logging_interval='step')\n",
    "\n",
    "# Initialize the trainer\n",
    "trainer = Trainer(\n",
    "    # accumulate_grad_batches=8,\n",
    "    max_epochs=params[\"max_epochs\"],\n",
    "    accelerator=params[\"accelerator\"],\n",
    "    devices=params[\"devices\"],\n",
    "    enable_checkpointing=True,\n",
    "    precision=precision,#16,#32,#\n",
    "    callbacks=[early_stopping_callback, lr_monitor_callback, checkpoint_callback, checkpoint_callback_last], # change for \"engression\"\n",
    "    enable_progress_bar=prog_bar,\n",
    "    max_time=\"00:04:40:00\",\n",
    "    default_root_dir=\"/scratch/b/b309215/default_root_dir/\",\n",
    "    # detect_anomaly=True,\n",
    "    # callbacks=[early_stopping_callback, lr_monitor_callback],\n",
    "    # strategy='ddp_find_unused_parameters_true'\n",
    ")\n",
    "\n",
    "\n",
    "torch.set_float32_matmul_precision('medium')\n",
    "trainer.fit(model, train_loader, val_loader)\n",
    "# torch.save(model.state_dict(), './model_state_dict.pth')tracer_weights"
   ]
  },
  {
   "cell_type": "code",
   "execution_count": 49,
   "id": "efbeceb7-6028-4561-af0c-b4f4c57af2df",
   "metadata": {
    "scrolled": true,
    "tags": []
   },
   "outputs": [],
   "source": [
    "def save_loss_quantiles(model, load_path):\n",
    "    DEVICE='cuda:0'\n",
    "    \n",
    "    pred_loss = []\n",
    "    true_loss = []\n",
    "    model.eval()\n",
    "    model.to(DEVICE)\n",
    "    for batch in tqdm(val_loader, total=len(val_loader)):\n",
    "        x, y = batch\n",
    "        x = x.to(DEVICE)\n",
    "        y = y.to(DEVICE)\n",
    "        with torch.no_grad():\n",
    "            y_pred = model(x)\n",
    "            y_loss = model.criterion(y_pred[...,:n_targets], y)\n",
    "        \n",
    "        pred_loss.append(y_pred[:,n_targets:n_targets*2].mean(dim=-1).detach().cpu().numpy())\n",
    "        true_loss.append(y_loss.mean(dim=-1).detach().cpu().numpy())\n",
    "    \n",
    "    pred_loss = np.concatenate(pred_loss)\n",
    "    true_loss = np.concatenate(true_loss)\n",
    "    \n",
    "    def get_percentiles(data, q0=0, q1=1, n=101):\n",
    "        sorted_data = np.sort(data)\n",
    "        qs = np.linspace(q0, q1, n)\n",
    "        idx_quantiles = (qs*len(sorted_data)).astype(int)\n",
    "        idx_quantiles = np.minimum(idx_quantiles, len(sorted_data)-1)\n",
    "        quantiles = sorted_data[idx_quantiles]\n",
    "        return qs, quantiles\n",
    "    \n",
    "    pred_qs, pred_quantiles = get_percentiles(pred_loss)\n",
    "    true_qs, true_quantiles = get_percentiles(true_loss)\n",
    "    \n",
    "    df = pd.DataFrame(np.stack([true_qs, pred_quantiles, true_quantiles], axis=1), columns=['Quantile', 'True', 'Pred'], )\n",
    "    \n",
    "    # csv_save_path = os.path.join(load_path_dirname, 'loss_quantiles.csv')\n",
    "    csv_save_path = load_path.replace('.ckpt', '-loss_quantiles.csv')\n",
    "    df.to_csv(csv_save_path)\n",
    "    print('loss quantiles saved to: ', csv_save_path)"
   ]
  },
  {
   "cell_type": "code",
   "execution_count": 50,
   "id": "9509c196-91e9-4fdd-9d1d-9f858b6d134d",
   "metadata": {},
   "outputs": [],
   "source": [
    "# Tracing\n",
    "from WrapModels import WrappedModelQn, WrappedModelQcQi\n",
    "def save_traced_model(model, load_path):\n",
    "    model.eval()\n",
    "    model.network.LSTM_1.dropout = 0.0\n",
    "\n",
    "    qc_lbd = np.loadtxt('/work/bd1179/b309215/ClimSim/preprocessing/normalizations/inputs/qc_exp_lambda_large.txt', delimiter=',')\n",
    "    qi_lbd = np.loadtxt('/work/bd1179/b309215/ClimSim/preprocessing/normalizations/inputs/qi_exp_lambda_large.txt', delimiter=',')\n",
    "    qc_lbd = qc_lbd[-NLEV:]\n",
    "    qi_lbd = qi_lbd[-NLEV:]\n",
    "    model = model.to_torchscript()\n",
    "    wrapped_model = WrappedModelQcQi(model, inp_sub[:], inp_div[:], out_scale, qc_lbd, qi_lbd, feature_target_lengths[:2], NLEV)\n",
    "    wrapped_model.to('cpu')\n",
    "    test_in = torch.rand((16,n_features), dtype=torch.float32, device='cpu')\n",
    "    traced_wrapped_model = torch.jit.trace(wrapped_model.eval(), test_in)\n",
    "    traced_save_path = load_path.replace('.ckpt', '_meanerr-res-pred_traced_cpu_wrapped_nodo.pt')\n",
    "    traced_wrapped_model.save(traced_save_path)\n",
    "    print('Saving model to: ', traced_save_path)\n",
    "    frozen_traced_wrapped_model = torch.jit.freeze(traced_wrapped_model)\n",
    "    frozen_save_path = load_path.replace('.ckpt', '_meanerr-res-pred_frozen_traced_cpu_wrapped_nodo.pt')\n",
    "    frozen_traced_wrapped_model.save(frozen_save_path)\n",
    "    print('Saving model to: ', frozen_save_path)\n",
    "    optim_frozen_traced_wrapped_model = torch.jit.optimize_for_inference(frozen_traced_wrapped_model)\n",
    "    optim_save_path = load_path.replace('.ckpt', '_meanerr-res-pred_optim_frozen_traced_cpu_wrapped_nodo.pt')\n",
    "    optim_frozen_traced_wrapped_model.save(optim_save_path)\n",
    "    print('Saving model to: ', optim_save_path)"
   ]
  },
  {
   "cell_type": "code",
   "execution_count": null,
   "id": "5939e43a-ea35-4785-b6c5-916bfd6e9dec",
   "metadata": {},
   "outputs": [
    {
     "name": "stderr",
     "output_type": "stream",
     "text": [
      "100%|██████████████████████████████████████████████████████████████████████████████████████████████████████████████████████████████████████████████████████████████████████| 19532/19532 [06:11<00:00, 52.64it/s]\n"
     ]
    },
    {
     "name": "stdout",
     "output_type": "stream",
     "text": [
      "loss quantiles saved to:  /scratch/b/b309215/saved_models/hr_expandcnv_0.54M_2d1-ponlyres_diffloss_42vlvl_nophysconstr-42lvl_residualout_relu-pr_confrelu_precision32_1gpu_25Msamples_seed1_20250415-110358_pinnweightNone_seed1_20250421-104131_addnoise-adaptive0.1-init0.4_seed1_20250727-004138/val_score=0.8028-last_model-loss_quantiles.csv\n"
     ]
    },
    {
     "name": "stderr",
     "output_type": "stream",
     "text": [
      "/work/bd1179/b309215/ClimSimKaggle/leap-climsim-kaggle-5th/training/WrapModels.py:267: TracerWarning: torch.tensor results are registered as constants in the trace. You can safely ignore this warning if you use this function to create tensors out of constant variables that would be the same every time you call this function. In any other case, this might cause the trace to be incorrect.\n",
      "  x = torch.where(torch.isnan(x), torch.tensor(0.0, device=x.device), x)\n",
      "/work/bd1179/b309215/ClimSimKaggle/leap-climsim-kaggle-5th/training/WrapModels.py:268: TracerWarning: torch.tensor results are registered as constants in the trace. You can safely ignore this warning if you use this function to create tensors out of constant variables that would be the same every time you call this function. In any other case, this might cause the trace to be incorrect.\n",
      "  x = torch.where(torch.isinf(x), torch.tensor(0.0, device=x.device), x)\n"
     ]
    },
    {
     "name": "stdout",
     "output_type": "stream",
     "text": [
      "Saving model to:  /scratch/b/b309215/saved_models/hr_expandcnv_0.54M_2d1-ponlyres_diffloss_42vlvl_nophysconstr-42lvl_residualout_relu-pr_confrelu_precision32_1gpu_25Msamples_seed1_20250415-110358_pinnweightNone_seed1_20250421-104131_addnoise-adaptive0.1-init0.4_seed1_20250727-004138/val_score=0.8028-last_model_meanerr-res-pred_traced_cpu_wrapped_nodo.pt\n",
      "Saving model to:  /scratch/b/b309215/saved_models/hr_expandcnv_0.54M_2d1-ponlyres_diffloss_42vlvl_nophysconstr-42lvl_residualout_relu-pr_confrelu_precision32_1gpu_25Msamples_seed1_20250415-110358_pinnweightNone_seed1_20250421-104131_addnoise-adaptive0.1-init0.4_seed1_20250727-004138/val_score=0.8028-last_model_meanerr-res-pred_frozen_traced_cpu_wrapped_nodo.pt\n",
      "Saving model to:  /scratch/b/b309215/saved_models/hr_expandcnv_0.54M_2d1-ponlyres_diffloss_42vlvl_nophysconstr-42lvl_residualout_relu-pr_confrelu_precision32_1gpu_25Msamples_seed1_20250415-110358_pinnweightNone_seed1_20250421-104131_addnoise-adaptive0.1-init0.4_seed1_20250727-004138/val_score=0.8028-last_model_meanerr-res-pred_optim_frozen_traced_cpu_wrapped_nodo.pt\n",
      "Physical Scales:\n",
      "g: 9.80665 m\n",
      "Time: 10 s\n",
      "rho: 1000.0 K\n",
      "cpd 1004.64 J/kg/K\n",
      "\n",
      "Derived Physical Scales:\n",
      "Length: 980.665 m\n",
      "Energy: 9617.03842225 J/kg\n",
      "Temperature: 9.572621458681716 K\n",
      "Pressure 9617038.422249999 Pa\n",
      "alv: 260.0384744449127 J/kg\n",
      "als: 294.737306387598 J/kg\n"
     ]
    },
    {
     "name": "stderr",
     "output_type": "stream",
     "text": [
      "100%|██████████████████████████████████████████████████████████████████████████████████████████████████████████████████████████████████████████████████████████████████████| 19532/19532 [04:24<00:00, 73.84it/s]\n"
     ]
    },
    {
     "name": "stdout",
     "output_type": "stream",
     "text": [
      "loss quantiles saved to:  /scratch/b/b309215/saved_models/hr_expandcnv_0.54M_2d1-ponlyres_diffloss_42vlvl_nophysconstr-42lvl_residualout_relu-pr_confrelu_precision32_1gpu_25Msamples_seed1_20250415-110358_pinnweightNone_seed1_20250421-104131_addnoise-adaptive0.1-init0.4_seed1_20250727-004138/val_score=0.8070-best_model-loss_quantiles.csv\n",
      "Saving model to:  /scratch/b/b309215/saved_models/hr_expandcnv_0.54M_2d1-ponlyres_diffloss_42vlvl_nophysconstr-42lvl_residualout_relu-pr_confrelu_precision32_1gpu_25Msamples_seed1_20250415-110358_pinnweightNone_seed1_20250421-104131_addnoise-adaptive0.1-init0.4_seed1_20250727-004138/val_score=0.8070-best_model_meanerr-res-pred_traced_cpu_wrapped_nodo.pt\n",
      "Saving model to:  /scratch/b/b309215/saved_models/hr_expandcnv_0.54M_2d1-ponlyres_diffloss_42vlvl_nophysconstr-42lvl_residualout_relu-pr_confrelu_precision32_1gpu_25Msamples_seed1_20250415-110358_pinnweightNone_seed1_20250421-104131_addnoise-adaptive0.1-init0.4_seed1_20250727-004138/val_score=0.8070-best_model_meanerr-res-pred_frozen_traced_cpu_wrapped_nodo.pt\n",
      "Saving model to:  /scratch/b/b309215/saved_models/hr_expandcnv_0.54M_2d1-ponlyres_diffloss_42vlvl_nophysconstr-42lvl_residualout_relu-pr_confrelu_precision32_1gpu_25Msamples_seed1_20250415-110358_pinnweightNone_seed1_20250421-104131_addnoise-adaptive0.1-init0.4_seed1_20250727-004138/val_score=0.8070-best_model_meanerr-res-pred_optim_frozen_traced_cpu_wrapped_nodo.pt\n"
     ]
    }
   ],
   "source": [
    "# load_path = '/work/bd1179/b309215/ClimSimKaggle/leap-climsim-kaggle-5th/training/save_models/hr_expandcnv_0.99M_2d1-ponlyres_diffloss_42vlvl_nophysconstr-42lvl_residualout_relu-pr_confrelu_precision32_1gpu_25Msamples_seed11_20250426-003730/val_score=0.9118-last_model.ckpt'\n",
    "load_path = '/scratch/b/b309215/saved_models/hr_expandcnv_0.54M_2d1-ponlyres_diffloss_42vlvl_nophysconstr-42lvl_residualout_relu-pr_confrelu_precision32_1gpu_25Msamples_seed1_20250415-110358_pinnweightNone_seed1_20250421-104131_addnoise-adaptive0.1-init0.4_seed1_20250727-004138/val_score=0.8028-last_model.ckpt'\n",
    "# load_path = os.path.join(checkpoint_callback_last.dirpath, checkpoint_callback_last.best_model_path)\n",
    "save_loss_quantiles(model, load_path)\n",
    "save_traced_model(model, load_path)\n",
    "\n",
    "# load_path = '/work/bd1179/b309215/ClimSimKaggle/leap-climsim-kaggle-5th/training/save_models/hr_expandcnv_0.99M_2d1-ponlyres_diffloss_42vlvl_nophysconstr-42lvl_residualout_relu-pr_confrelu_precision32_1gpu_25Msamples_seed11_20250426-003730/val_score=0.9118-best_model.ckpt'\n",
    "load_path = '/scratch/b/b309215/saved_models/hr_expandcnv_0.54M_2d1-ponlyres_diffloss_42vlvl_nophysconstr-42lvl_residualout_relu-pr_confrelu_precision32_1gpu_25Msamples_seed1_20250415-110358_pinnweightNone_seed1_20250421-104131_addnoise-adaptive0.1-init0.4_seed1_20250727-004138/val_score=0.8070-best_model.ckpt'\n",
    "# load_path = os.path.join(checkpoint_callback.dirpath, checkpoint_callback.best_model_path)\n",
    "model = HighResLeapModelPhysicsConstraint.load_from_checkpoint(\n",
    "    checkpoint_path=load_path,\n",
    "    feature_target_lengths=feature_target_lengths,\n",
    "    norm_constants=norm_constants,\n",
    "    zeroout_index=zeroout_index,\n",
    "    in_indices=in_indices,\n",
    "    out_indices=out_indices,\n",
    "    ncorr_lvls=ncorr_lvls,\n",
    "    vertical_weighting=vertical_weighting,\n",
    "    use_confidence=True,\n",
    "    pinn=pinn,\n",
    "    pinn_weight=pinn_weight,\n",
    "    cons_energy=conservation,\n",
    "    cons_mass=conservation,\n",
    "    cons_uv=conservation,\n",
    "    noise_scheduler=noise_scheduler,\n",
    "    nlev=NLEV,\n",
    "    argv1=argv1,\n",
    "    argv2=argv2,\n",
    ")\n",
    "save_loss_quantiles(model, load_path)\n",
    "save_traced_model(model, load_path)"
   ]
  },
  {
   "cell_type": "code",
   "execution_count": null,
   "id": "9ca37f0e-4242-440b-95ad-49f3fed06086",
   "metadata": {},
   "outputs": [],
   "source": [
    "raise Exception(\"Produce error here so that we stop in pyscript mode\")"
   ]
  },
  {
   "cell_type": "markdown",
   "id": "b7552556-30f0-4db1-b48f-3a3265ed679d",
   "metadata": {
    "tags": []
   },
   "source": [
    "# Offline R2"
   ]
  },
  {
   "cell_type": "code",
   "execution_count": 104,
   "id": "0dcf80a2-7541-419b-bb6e-f03f9ba58915",
   "metadata": {},
   "outputs": [
    {
     "name": "stderr",
     "output_type": "stream",
     "text": [
      "LOCAL_RANK: 0 - CUDA_VISIBLE_DEVICES: [0]\n"
     ]
    },
    {
     "data": {
      "application/vnd.jupyter.widget-view+json": {
       "model_id": "5761724d76054ccc8da82f2a46b9a047",
       "version_major": 2,
       "version_minor": 0
      },
      "text/plain": [
       "Validation: |                                                                                                 …"
      ]
     },
     "metadata": {},
     "output_type": "display_data"
    },
    {
     "data": {
      "text/html": [
       "<pre style=\"white-space:pre;overflow-x:auto;line-height:normal;font-family:Menlo,'DejaVu Sans Mono',consolas,'Courier New',monospace\">┏━━━━━━━━━━━━━━━━━━━━━━━━━━━┳━━━━━━━━━━━━━━━━━━━━━━━━━━━┓\n",
       "┃<span style=\"font-weight: bold\">      Validate metric      </span>┃<span style=\"font-weight: bold\">       DataLoader 0        </span>┃\n",
       "┡━━━━━━━━━━━━━━━━━━━━━━━━━━━╇━━━━━━━━━━━━━━━━━━━━━━━━━━━┩\n",
       "│<span style=\"color: #008080; text-decoration-color: #008080\">     masked_val_score      </span>│<span style=\"color: #800080; text-decoration-color: #800080\">    0.6314232349395752     </span>│\n",
       "│<span style=\"color: #008080; text-decoration-color: #008080\">         val_loss          </span>│<span style=\"color: #800080; text-decoration-color: #800080\">   0.030863499268889427    </span>│\n",
       "│<span style=\"color: #008080; text-decoration-color: #008080\">       val_loss_yhat       </span>│<span style=\"color: #800080; text-decoration-color: #800080\">   4.945286402602278e-10   </span>│\n",
       "│<span style=\"color: #008080; text-decoration-color: #008080\">         val_score         </span>│<span style=\"color: #800080; text-decoration-color: #800080\">    0.6314232349395752     </span>│\n",
       "└───────────────────────────┴───────────────────────────┘\n",
       "</pre>\n"
      ],
      "text/plain": [
       "┏━━━━━━━━━━━━━━━━━━━━━━━━━━━┳━━━━━━━━━━━━━━━━━━━━━━━━━━━┓\n",
       "┃\u001b[1m \u001b[0m\u001b[1m     Validate metric     \u001b[0m\u001b[1m \u001b[0m┃\u001b[1m \u001b[0m\u001b[1m      DataLoader 0       \u001b[0m\u001b[1m \u001b[0m┃\n",
       "┡━━━━━━━━━━━━━━━━━━━━━━━━━━━╇━━━━━━━━━━━━━━━━━━━━━━━━━━━┩\n",
       "│\u001b[36m \u001b[0m\u001b[36m    masked_val_score     \u001b[0m\u001b[36m \u001b[0m│\u001b[35m \u001b[0m\u001b[35m   0.6314232349395752    \u001b[0m\u001b[35m \u001b[0m│\n",
       "│\u001b[36m \u001b[0m\u001b[36m        val_loss         \u001b[0m\u001b[36m \u001b[0m│\u001b[35m \u001b[0m\u001b[35m  0.030863499268889427   \u001b[0m\u001b[35m \u001b[0m│\n",
       "│\u001b[36m \u001b[0m\u001b[36m      val_loss_yhat      \u001b[0m\u001b[36m \u001b[0m│\u001b[35m \u001b[0m\u001b[35m  4.945286402602278e-10  \u001b[0m\u001b[35m \u001b[0m│\n",
       "│\u001b[36m \u001b[0m\u001b[36m        val_score        \u001b[0m\u001b[36m \u001b[0m│\u001b[35m \u001b[0m\u001b[35m   0.6314232349395752    \u001b[0m\u001b[35m \u001b[0m│\n",
       "└───────────────────────────┴───────────────────────────┘\n"
      ]
     },
     "metadata": {},
     "output_type": "display_data"
    },
    {
     "data": {
      "text/plain": [
       "[{'val_score': 0.6314232349395752,\n",
       "  'val_loss_yhat': 4.945286402602278e-10,\n",
       "  'val_loss': 0.030863499268889427,\n",
       "  'masked_val_score': 0.6314232349395752}]"
      ]
     },
     "execution_count": 104,
     "metadata": {},
     "output_type": "execute_result"
    }
   ],
   "source": [
    "trainer.validate(model, val_loader)\n",
    "# alpha=0\n",
    "# [{'val_score': 0.895715594291687,\n",
    "#   'val_loss_yhat': 1.411489675140487e-10,\n",
    "#   'val_loss': 0.01829167827963829,\n",
    "#   'masked_val_score': 0.895715594291687}]\n",
    "# alpha=0.01\n",
    "# [{'val_score': 0.8937228918075562,\n",
    "#   'val_loss_yhat': 1.4366670353371802e-10,\n",
    "#   'val_loss': 0.017436325550079346,\n",
    "#   'masked_val_score': 0.8937228918075562}]\n",
    "# alpha=0.1\n",
    "# [{'val_score': 0.8923537135124207,\n",
    "#   'val_loss_yhat': 1.439101476874427e-10,\n",
    "#   'val_loss': 0.018361741676926613,\n",
    "#   'masked_val_score': 0.8923537135124207}]\n",
    "# alpha=0.5\n",
    "# [{'val_score': 0.8837314248085022,\n",
    "#   'val_loss_yhat': 1.574644303836692e-10,\n",
    "#   'val_loss': 0.01707073673605919,\n",
    "#   'masked_val_score': 0.8837314248085022}]\n",
    "# alpha=0.9\n",
    "# [{'val_score': 0.6314232349395752,\n",
    "#   'val_loss_yhat': 4.945286402602278e-10,\n",
    "#   'val_loss': 0.030863499268889427,\n",
    "#   'masked_val_score': 0.6314232349395752}]"
   ]
  },
  {
   "cell_type": "markdown",
   "id": "5a7d48d8-6b6b-4e47-9947-f7dfd5ce6997",
   "metadata": {
    "tags": []
   },
   "source": [
    "# Test conservative property"
   ]
  },
  {
   "cell_type": "code",
   "execution_count": 41,
   "id": "ccb2b38e-a6b5-44ec-9b1e-fe1debe78139",
   "metadata": {
    "scrolled": true,
    "tags": []
   },
   "outputs": [
    {
     "name": "stderr",
     "output_type": "stream",
     "text": [
      "100%|█████████████████████████████████████████████████████████████████████████████████████████████████████████████████████████████████████████████████████████████████████| 19532/19532 [01:48<00:00, 179.82it/s]\n"
     ]
    },
    {
     "name": "stdout",
     "output_type": "stream",
     "text": [
      "CPU times: user 1min 41s, sys: 22.3 s, total: 2min 3s\n",
      "Wall time: 2min 12s\n"
     ]
    },
    {
     "data": {
      "text/plain": [
       "((5000000, 254),\n",
       " (5000000, 509),\n",
       " (5000000, 254),\n",
       " (5000000, 254),\n",
       " -9.651178383416188e+35,\n",
       " 0.8109780872116683)"
      ]
     },
     "execution_count": 41,
     "metadata": {},
     "output_type": "execute_result"
    }
   ],
   "source": [
    "%%time\n",
    "from sklearn.metrics import r2_score as sk_r2\n",
    "DEVICE='cuda:0'\n",
    "\n",
    "# torch.set_float32_matmul_precision(\"medium\")\n",
    "# u_res, v_res, mass_res, energy_res = [], [], [], []\n",
    "nout = 6*NLEV+2\n",
    "y_trues = []\n",
    "modelout = []\n",
    "y_losses = []\n",
    "pmids = []\n",
    "ps = []\n",
    "mae_loss = nn.L1Loss(reduction='none')\n",
    "ymae_losses = []\n",
    "model.eval()\n",
    "model.to(DEVICE)\n",
    "for batch in tqdm(val_loader, total=len(val_loader)):\n",
    "    x, y = batch\n",
    "    x = x.to(DEVICE)\n",
    "    y = y.to(DEVICE)\n",
    "    # print(y.shape)\n",
    "    with torch.no_grad():#, torch.autocast(device_type=DEVICE, dtype=torch.float16, enabled=True):\n",
    "        # y_pred,ur,vr,mr,er = model(x)\n",
    "        y_pred = model(x)\n",
    "        y_loss = model.criterion(y_pred[...,:nout], y)\n",
    "        ymae_loss = mae_loss(y_pred[...,:nout], y)\n",
    "        \n",
    "    # u_res.append(ur.cpu().numpy())\n",
    "    # v_res.append(vr.cpu().numpy())\n",
    "    # mass_res.append(mr.cpu().numpy())\n",
    "    # energy_res.append(er.cpu().numpy())\n",
    "    \n",
    "    pmids.append(x[:,:,17].cpu().numpy())\n",
    "    ps.append(x[:,0,18].cpu().numpy())\n",
    "    modelout.append(y_pred.detach().cpu().numpy())\n",
    "    y_trues.append(y.detach().cpu().numpy())\n",
    "    y_losses.append(y_loss.detach().cpu().numpy())\n",
    "    ymae_losses.append(ymae_loss.detach().cpu().numpy())\n",
    "\n",
    "y_trues = np.concatenate(y_trues)\n",
    "modelout = np.concatenate(modelout)\n",
    "y_losses = np.concatenate(y_losses)\n",
    "ymae_losses = np.concatenate(ymae_losses)\n",
    "pmids = np.concatenate(pmids)\n",
    "ps = np.concatenate(ps)\n",
    "# u_res = np.concatenate(u_res)\n",
    "# v_res = np.concatenate(v_res)\n",
    "# mass_res = np.concatenate(mass_res)\n",
    "# energy_res = np.concatenate(energy_res)\n",
    "y_preds = modelout[:,:nout]\n",
    "y_conf = modelout[:,nout:2*nout]\n",
    "residuals = modelout[:,2*nout]\n",
    "y_trues.shape, modelout.shape, y_losses.shape, ymae_losses.shape, sk_r2(y_trues, y_preds), sk_r2(y_trues, y_preds, multioutput='variance_weighted')\n",
    "# Wall time: 4min 28s"
   ]
  },
  {
   "cell_type": "code",
   "execution_count": 39,
   "id": "f3d09773-5f94-4d81-b3ff-4f32219335ea",
   "metadata": {},
   "outputs": [],
   "source": [
    "from sklearn.metrics import r2_score as sk_r2\n",
    "np.savez('saved_model_outputs/20250808.npz', y_preds=y_preds, y_conf=y_conf, residuals=residuals, y_trues=y_trues, pmids=pmids, ps=ps)\n",
    "# file = np.load('saved_model_outputs/20250808.npz')\n",
    "# file.files\n",
    "# y_preds = file['y_preds']\n",
    "# y_conf = file['y_conf']\n",
    "# residuals = file['residuals']\n",
    "# y_trues = file['y_trues']\n",
    "# pmids = file['pmids']\n",
    "# ps = file['ps']"
   ]
  },
  {
   "cell_type": "code",
   "execution_count": 42,
   "id": "6c020501-7e8a-43c2-88b9-be05c1186b58",
   "metadata": {},
   "outputs": [
    {
     "name": "stdout",
     "output_type": "stream",
     "text": [
      "(254,)\n",
      "-9.651178383416188e+35\n",
      "0.8109780872116683\n"
     ]
    },
    {
     "data": {
      "text/plain": [
       "(0.979425518056124, 0.9841128965651527)"
      ]
     },
     "execution_count": 42,
     "metadata": {},
     "output_type": "execute_result"
    }
   ],
   "source": [
    "r2vals = sk_r2(y_trues, y_preds, multioutput='raw_values')\n",
    "print(r2vals.shape)\n",
    "print(np.mean(r2vals))\n",
    "print(sk_r2(y_trues, y_preds, multioutput='variance_weighted'))\n",
    "# print(np.mean(r2vals))\n",
    "r2vals[-2], r2vals[-1]"
   ]
  },
  {
   "cell_type": "code",
   "execution_count": 43,
   "id": "3ccaf8d0-1fd2-4e10-a7e9-e36e0137dd71",
   "metadata": {},
   "outputs": [
    {
     "data": {
      "text/plain": [
       "0.8134740591049194"
      ]
     },
     "execution_count": 43,
     "metadata": {},
     "output_type": "execute_result"
    }
   ],
   "source": [
    "r2_score(torch.tensor(y_preds), torch.tensor(y_trues))\n",
    "# 0.8885847330093384"
   ]
  },
  {
   "cell_type": "code",
   "execution_count": 39,
   "id": "63d10373-6588-4f93-bf3f-6223c949df2a",
   "metadata": {
    "scrolled": true,
    "tags": []
   },
   "outputs": [
    {
     "name": "stderr",
     "output_type": "stream",
     "text": [
      "100%|█████████████████████████████████████████████████████████████████████████████████████████████████████████████████████████████████████████████████████████████████████| 19532/19532 [02:18<00:00, 140.62it/s]\n"
     ]
    },
    {
     "name": "stdout",
     "output_type": "stream",
     "text": [
      "CPU times: user 1min 39s, sys: 23.2 s, total: 2min 2s\n",
      "Wall time: 2min 45s\n"
     ]
    },
    {
     "data": {
      "text/plain": [
       "((5000000, 254),\n",
       " (5000000, 509),\n",
       " (5000000, 254),\n",
       " (5000000, 254),\n",
       " -5.16371019503927e+34,\n",
       " 0.8261724444640366)"
      ]
     },
     "execution_count": 39,
     "metadata": {},
     "output_type": "execute_result"
    }
   ],
   "source": [
    "%%time\n",
    "from sklearn.metrics import r2_score as sk_r2\n",
    "DEVICE='cuda:0'\n",
    "\n",
    "# torch.set_float32_matmul_precision(\"medium\")\n",
    "# u_res, v_res, mass_res, energy_res = [], [], [], []\n",
    "y_trues = []\n",
    "modelout = []\n",
    "y_losses = []\n",
    "pmids = []\n",
    "ps = []\n",
    "mae_loss = nn.L1Loss(reduction='none')\n",
    "ymae_losses = []\n",
    "model.eval()\n",
    "model.to(DEVICE)\n",
    "for batch in tqdm(val_loader, total=len(val_loader)):\n",
    "    x, y = batch\n",
    "    x = x.to(DEVICE)\n",
    "    y = y.to(DEVICE)\n",
    "    with torch.no_grad():#, torch.autocast(device_type=DEVICE, dtype=torch.float16, enabled=True):\n",
    "        # y_pred,ur,vr,mr,er = model(x)\n",
    "        y_pred = model(x)\n",
    "        y_loss = model.criterion(y_pred[...,:254], y)\n",
    "        ymae_loss = mae_loss(y_pred[...,:254], y)\n",
    "        \n",
    "    # u_res.append(ur.cpu().numpy())\n",
    "    # v_res.append(vr.cpu().numpy())\n",
    "    # mass_res.append(mr.cpu().numpy())\n",
    "    # energy_res.append(er.cpu().numpy())\n",
    "    \n",
    "    pmids.append(x[:,:,17].cpu().numpy())\n",
    "    ps.append(x[:,0,18].cpu().numpy())\n",
    "    modelout.append(y_pred.detach().cpu().numpy())\n",
    "    y_trues.append(y.detach().cpu().numpy())\n",
    "    y_losses.append(y_loss.detach().cpu().numpy())\n",
    "    ymae_losses.append(ymae_loss.detach().cpu().numpy())\n",
    "\n",
    "y_trues = np.concatenate(y_trues)\n",
    "modelout = np.concatenate(modelout)\n",
    "y_losses = np.concatenate(y_losses)\n",
    "ymae_losses = np.concatenate(ymae_losses)\n",
    "pmids = np.concatenate(pmids)\n",
    "ps = np.concatenate(ps)\n",
    "# u_res = np.concatenate(u_res)\n",
    "# v_res = np.concatenate(v_res)\n",
    "# mass_res = np.concatenate(mass_res)\n",
    "# energy_res = np.concatenate(energy_res)\n",
    "y_preds = modelout[:,:254]\n",
    "y_conf = modelout[:,254:254*2]\n",
    "residuals = modelout[:,254*2]\n",
    "y_trues.shape, modelout.shape, y_losses.shape, ymae_losses.shape, sk_r2(y_trues, y_preds), sk_r2(y_trues, y_preds, multioutput='variance_weighted')\n",
    "# Wall time: 4min 28s"
   ]
  },
  {
   "cell_type": "code",
   "execution_count": 44,
   "id": "7187c0d7-e7aa-46d5-b1b9-a230afc48045",
   "metadata": {},
   "outputs": [
    {
     "name": "stdout",
     "output_type": "stream",
     "text": [
      "(5000000, 254) (5000000, 254)\n"
     ]
    }
   ],
   "source": [
    "print(y_losses.shape, y_conf.shape)\n",
    "# y_loss_agg = np.mean(y_losses, axis=1)\n",
    "# y_conf_agg = np.mean(y_conf, axis=1)\n",
    "y_loss_agg = y_losses.ravel()\n",
    "y_conf_agg = y_conf.ravel()"
   ]
  },
  {
   "cell_type": "code",
   "execution_count": 43,
   "id": "49e55ba3-aa33-4e85-a24f-a12cb7773ee3",
   "metadata": {},
   "outputs": [
    {
     "data": {
      "image/png": "[encoded data removed]",
      "text/plain": [
       "<Figure size 640x480 with 2 Axes>"
      ]
     },
     "metadata": {},
     "output_type": "display_data"
    }
   ],
   "source": [
    "from matplotlib.colors import LogNorm\n",
    "# plt.scatter(y_loss_agg, y_conf_agg);\n",
    "# plt.hist2d(y_loss_agg, y_conf_agg, norm=LogNorm());\n",
    "plt.hexbin(y_loss_agg, y_conf_agg, norm=LogNorm(), cmap='Blues');\n",
    "plt.colorbar(label='Counts')\n",
    "plt.axline((0,0), slope=1, ls='--', color='black', lw=1, label='y=x')\n",
    "plt.xlabel('Predicted Loss')\n",
    "plt.ylabel('Loss')\n",
    "# plt.xscale('log')\n",
    "# plt.yscale('log')\n",
    "plt.legend()\n",
    "# plt.savefig('../../Figures/offline_loss_vs_predloss.png', dpi=300)\n",
    "plt.show()"
   ]
  },
  {
   "cell_type": "code",
   "execution_count": null,
   "id": "cee9658c-d151-41af-964e-8091e068f2f5",
   "metadata": {},
   "outputs": [],
   "source": []
  },
  {
   "cell_type": "code",
   "execution_count": 49,
   "id": "e96e7b4c-6384-4727-a26a-ca7ee083be5a",
   "metadata": {},
   "outputs": [
    {
     "name": "stdout",
     "output_type": "stream",
     "text": [
      "0.00071427436\n"
     ]
    },
    {
     "data": {
      "image/png": "[encoded data removed]",
      "text/plain": [
       "<Figure size 640x480 with 1 Axes>"
      ]
     },
     "metadata": {},
     "output_type": "display_data"
    },
    {
     "data": {
      "image/png": "[encoded data removed]",
      "text/plain": [
       "<Figure size 640x480 with 1 Axes>"
      ]
     },
     "metadata": {},
     "output_type": "display_data"
    }
   ],
   "source": [
    "# plt.hist(np.abs(residuals), bins=100)\n",
    "plt.hist(residuals, bins=100)\n",
    "plt.yscale('log')\n",
    "plt.figure()\n",
    "sorted_tot_residual = np.sort(np.abs(residuals))\n",
    "plot_quantiles = np.linspace(0,0.99,1000)\n",
    "plot_idx_quantiles = (plot_quantiles*len(sorted_tot_residual)).astype(int)\n",
    "plt.plot(plot_quantiles, sorted_tot_residual[plot_idx_quantiles])\n",
    "print(sorted_tot_residual[int(len(sorted_tot_residual)*0.75)])\n",
    "\n",
    "# plt.hist(tot_residual, bins=100, histtype='step', cumulative=True, density=True, ls='--', lw=2)\n",
    "\n",
    "plt.show()"
   ]
  },
  {
   "cell_type": "code",
   "execution_count": 72,
   "id": "8c07628a-d8a5-4c16-a675-253a0b53f026",
   "metadata": {},
   "outputs": [],
   "source": [
    "def reconstruct_dp_np(pmid, ps):\n",
    "    phalf = np.empty((pmid.shape[0], pmid.shape[1]+1), dtype=pmid.dtype)\n",
    "    phalf[:,-1] = ps\n",
    "    for i in range(pmid.shape[1])[::-1]:\n",
    "        phalf[:,i] = 2*pmid[:,i] - phalf[:,i+1]\n",
    "    \n",
    "    dp = phalf[:,1:] - phalf[:,:-1]\n",
    "    \n",
    "    return dp"
   ]
  },
  {
   "cell_type": "code",
   "execution_count": 73,
   "id": "81192c2e-5eda-4140-99b0-0163187acdf3",
   "metadata": {},
   "outputs": [],
   "source": [
    "pmids = (pmids * p_div[:-1]) + p_sub[:-1]\n",
    "ps = (ps * p_div[-1]) + p_sub[-1]\n",
    "\n",
    "dps = reconstruct_dp_np(pmids, ps)\n",
    "\n",
    "y_preds /= out_scale\n",
    "y_trues /= out_scale"
   ]
  },
  {
   "cell_type": "code",
   "execution_count": 74,
   "id": "4d5bb9ac-7f79-46ec-af98-730fcd5d0de4",
   "metadata": {},
   "outputs": [],
   "source": [
    "grav = 9.80665 # m s-2\n",
    "rho_h2o = 1e3 # kg m-3\n",
    "alv   = 2.5008e6 #J/kg\n",
    "als   = 2.8345e6 #J/kg\n",
    "cpd   = 1004.64 # J K-1 kg-1\n",
    "\n",
    "y_test_cons = y_preds\n",
    "\n",
    "t_phy  = y_test_cons[:,0:60]\n",
    "qv_phy = y_test_cons[:,60:120]\n",
    "qc_phy = y_test_cons[:,120:180]\n",
    "qi_phy = y_test_cons[:,180:240]\n",
    "u_phy  = y_test_cons[:,240:300]\n",
    "v_phy  = y_test_cons[:,300:360]\n",
    "rain   = y_test_cons[:,360]\n",
    "snow   = y_test_cons[:,361]\n",
    "\n",
    "idx = np.s_[:,25:]\n",
    "\n",
    "water_budget_residual = np.sum((qv_phy[idx] + qc_phy[idx] + qi_phy[idx]) * dps[idx] / grav, axis=1) + rain * rho_h2o + snow * rho_h2o\n",
    "energy_budget_residual = np.sum((t_phy[idx] * cpd - qc_phy[idx]*alv - qi_phy[idx]*als) * dps[idx] / grav, axis=1) - \\\n",
    "                                rain * rho_h2o * alv - \\\n",
    "                                snow * rho_h2o * als\n",
    "momentum_u_budget_residual = np.sum(u_phy[idx] * dps[idx] / grav, axis=1)\n",
    "momentum_v_budget_residual = np.sum(v_phy[idx] * dps[idx] / grav, axis=1)"
   ]
  },
  {
   "cell_type": "code",
   "execution_count": 75,
   "id": "828c7bc1-bd5a-4d3f-bd8c-1fad5266fec9",
   "metadata": {},
   "outputs": [],
   "source": [
    "# dP_sum = np.sum(dP, axis=-1)[:,None]\n",
    "# t_phy2 = t_phy - energy_budget_residual[:,None] / dP_sum * grav / cpd\n",
    "# rain2 = rain - energy_budget_residual / rho_h2o / alv\n",
    "# energy_budget_residual2 = np.sum((t_phy2 * cpd - qc_phy*alv - qi_phy*als) * dP / grav, axis=1) - \\\n",
    "#                                 rain * rho_h2o * alv - \\\n",
    "#                                 snow * rho_h2o * als\n",
    "# # energy_budget_residual2 = np.sum((t_phy * cpd - qc_phy*alv - qi_phy*als) * dP / grav, axis=1) - \\\n",
    "# #                                 rain * rho_h2o * alv - \\\n",
    "# #                                 snow * rho_h2o * als - \\\n",
    "# #                                 energy_budget_residual"
   ]
  },
  {
   "cell_type": "code",
   "execution_count": 76,
   "id": "1533d4f3-3458-4397-970d-6c201f1f97f3",
   "metadata": {
    "scrolled": true
   },
   "outputs": [
    {
     "data": {
      "image/png": "[encoded data removed]",
      "text/plain": [
       "<Figure size 640x480 with 1 Axes>"
      ]
     },
     "metadata": {},
     "output_type": "display_data"
    },
    {
     "data": {
      "image/png": "[encoded data removed]",
      "text/plain": [
       "<Figure size 640x480 with 1 Axes>"
      ]
     },
     "metadata": {},
     "output_type": "display_data"
    },
    {
     "data": {
      "image/png": "[encoded data removed]",
      "text/plain": [
       "<Figure size 640x480 with 1 Axes>"
      ]
     },
     "metadata": {},
     "output_type": "display_data"
    },
    {
     "data": {
      "image/png": "[encoded data removed]",
      "text/plain": [
       "<Figure size 640x480 with 1 Axes>"
      ]
     },
     "metadata": {},
     "output_type": "display_data"
    }
   ],
   "source": [
    "plt.figure()\n",
    "plt.hist(water_budget_residual, bins=100, label='mass / kg m-2 s-1')\n",
    "plt.yscale('log')\n",
    "plt.legend()\n",
    "\n",
    "plt.figure()\n",
    "plt.hist(energy_budget_residual, bins=100, label='energy / J m-2 s-1')\n",
    "plt.yscale('log')\n",
    "plt.legend()\n",
    "# plt.plot(energy_budget_residual2, 'o')\n",
    "plt.figure()\n",
    "plt.hist(momentum_u_budget_residual, bins=100, label='u-momentum / kg m-1 s-2')\n",
    "plt.yscale('log')\n",
    "plt.legend()\n",
    "plt.figure()\n",
    "plt.hist(momentum_v_budget_residual, bins=100, label='v-momentum / kg m-1 s-2')\n",
    "plt.yscale('log')\n",
    "plt.legend()\n",
    "\n",
    "plt.show()"
   ]
  },
  {
   "cell_type": "code",
   "execution_count": 164,
   "id": "4f15b5bf-f6d9-45d2-b942-b58eb558bb68",
   "metadata": {},
   "outputs": [
    {
     "data": {
      "image/png": "[encoded data removed]",
      "text/plain": [
       "<Figure size 640x480 with 1 Axes>"
      ]
     },
     "metadata": {},
     "output_type": "display_data"
    }
   ],
   "source": [
    "plt.hist(rain, bins=100);\n",
    "plt.yscale('log')\n",
    "plt.grid()"
   ]
  },
  {
   "cell_type": "code",
   "execution_count": null,
   "id": "f703344e-56b3-42b4-9859-0f83840f9996",
   "metadata": {},
   "outputs": [],
   "source": [
    "np.savez(os.path.join(os.path.dirname(load_path), 'residuals.npz'),\n",
    "         mass=water_budget_residual,\n",
    "         energy=energy_budget_residual,\n",
    "         u=momentum_u_budget_residual,\n",
    "         v=momentum_v_budget_residual)"
   ]
  },
  {
   "cell_type": "code",
   "execution_count": null,
   "id": "76c5c317-d16a-4330-af80-0be112019155",
   "metadata": {},
   "outputs": [],
   "source": []
  },
  {
   "cell_type": "markdown",
   "id": "7ad5edee-42a6-4baa-b6d0-51ce810f2849",
   "metadata": {
    "tags": []
   },
   "source": [
    "# End test conservative property"
   ]
  },
  {
   "cell_type": "code",
   "execution_count": 98,
   "id": "87358fad-f942-4322-bf11-c71b356aaa09",
   "metadata": {},
   "outputs": [
    {
     "data": {
      "image/png": "[encoded data removed]",
      "text/plain": [
       "<Figure size 640x480 with 1 Axes>"
      ]
     },
     "metadata": {},
     "output_type": "display_data"
    }
   ],
   "source": [
    "len(model.lrs)\n",
    "plt.plot(model.lrs);"
   ]
  },
  {
   "cell_type": "code",
   "execution_count": null,
   "id": "30870120-3b92-4194-aeca-910e21decc11",
   "metadata": {},
   "outputs": [],
   "source": [
    "!scancel 10579250"
   ]
  },
  {
   "cell_type": "markdown",
   "id": "bfc96d40-6113-4b23-a03a-80964c2ca230",
   "metadata": {},
   "source": [
    "# Evaluate"
   ]
  },
  {
   "cell_type": "code",
   "execution_count": 22,
   "id": "1997831e-58e2-479a-a732-3bcd1bc8fbd0",
   "metadata": {
    "tags": []
   },
   "outputs": [
    {
     "name": "stderr",
     "output_type": "stream",
     "text": [
      "/work/bd1179/b309215/mambaforge/envs/py3.10_torch/lib/python3.10/site-packages/pytorch_lightning/utilities/migration/utils.py:56: The loaded checkpoint was produced with Lightning v2.4.0, which is newer than your current Lightning version: v2.3.3\n",
      "/tmp/ipykernel_1029532/786681540.py:34: UserWarning: nn.init.xavier_uniform is now deprecated in favor of nn.init.xavier_uniform_.\n",
      "  torch.nn.init.xavier_uniform(self.weight)\n",
      "/tmp/ipykernel_1029532/786681540.py:35: UserWarning: nn.init.xavier_uniform is now deprecated in favor of nn.init.xavier_uniform_.\n",
      "  torch.nn.init.xavier_uniform(self.bias)\n"
     ]
    }
   ],
   "source": [
    "# model = HighResLeapModel.load_from_checkpoint(checkpoint_path='/work/bd1179/b309215/ClimSimKaggle/leap-climsim-kaggle-5th/training/my_base_model_bestmodels_v5mlexpandcnv_1.2e6params/val_score=0.8249-best_model.ckpt',\n",
    "model = HighResLeapModel.load_from_checkpoint(checkpoint_path='/work/bd1179/b309215/ClimSimKaggle/leap-climsim-kaggle-5th/training/my_base_model_bestmodels_v5mlexpandcnv_1.2e6params/val_score=0.8249-best_model.ckpt',\n",
    "                                              input_size=params[\"input_dim\"],\n",
    "                                              output_size=params[\"output_dim\"])"
   ]
  },
  {
   "cell_type": "code",
   "execution_count": 30,
   "id": "cc541155-984b-48ba-af9d-967ae5de6eea",
   "metadata": {},
   "outputs": [
    {
     "name": "stderr",
     "output_type": "stream",
     "text": [
      "/tmp/ipykernel_27097/573738443.py:70: UserWarning: nn.init.xavier_uniform is now deprecated in favor of nn.init.xavier_uniform_.\n",
      "  torch.nn.init.xavier_uniform(self.weight)\n",
      "/tmp/ipykernel_27097/573738443.py:71: UserWarning: nn.init.xavier_uniform is now deprecated in favor of nn.init.xavier_uniform_.\n",
      "  torch.nn.init.xavier_uniform(self.bias)\n"
     ]
    }
   ],
   "source": [
    "load_path = '/work/bd1179/b309215/ClimSimKaggle/leap-climsim-kaggle-5th/training/hr_expandcnv_3.3M-2_wolatpres_nolargescalef_nosched_confrelu_train-loss-split_1gpu_2Msamples/val_score=0.7464-best_model.ckpt'\n",
    "\n",
    "model = HighResLeapModel.load_from_checkpoint(checkpoint_path=load_path,\n",
    "                                              # input_size=params[\"input_dim\"],\n",
    "                                              feature_target_lengths=feature_target_lengths,\n",
    "                                              zeroout_index=zeroout_index,\n",
    "                                              use_confidence=True,\n",
    "                                              map_location=torch.device('cpu'))"
   ]
  },
  {
   "cell_type": "code",
   "execution_count": 32,
   "id": "ce80f9f4-f5c9-4246-8576-8a2b1d751b43",
   "metadata": {},
   "outputs": [
    {
     "data": {
      "text/plain": [
       "HighResLeapModel(\n",
       "  (network): FFNN_LSTM_6_AVG(\n",
       "    (LSTM_1): LSTM(150, 150, num_layers=4, batch_first=True, dropout=0.01, bidirectional=True)\n",
       "    (Linear_1): Linear(in_features=29, out_features=150, bias=True)\n",
       "    (Linear_2): Linear(in_features=1050, out_features=600, bias=True)\n",
       "    (Linear_3): Linear(in_features=600, out_features=10, bias=True)\n",
       "    (Linear_4_0): Linear(in_features=600, out_features=1200, bias=True)\n",
       "    (Linear_4): Linear(in_features=1200, out_features=4, bias=True)\n",
       "    (avg_pool_1): AvgPool1d(kernel_size=(3,), stride=(1,), padding=(1,))\n",
       "  )\n",
       "  (criterion): HuberLoss()\n",
       "  (mae_loss): L1Loss()\n",
       ")"
      ]
     },
     "execution_count": 32,
     "metadata": {},
     "output_type": "execute_result"
    }
   ],
   "source": [
    "model.to('cuda')"
   ]
  },
  {
   "cell_type": "markdown",
   "id": "13a65db6-863e-467f-9e59-768a70404f30",
   "metadata": {},
   "source": [
    "# Investigate high loss for one sample?"
   ]
  },
  {
   "cell_type": "code",
   "execution_count": 44,
   "id": "615a8587-f2b3-4d07-a064-8dd78a9c5f86",
   "metadata": {
    "tags": []
   },
   "outputs": [
    {
     "name": "stderr",
     "output_type": "stream",
     "text": [
      "  0%|▎                                                                                                                                                                        | 4/2000 [00:17<2:13:14,  4.01s/it]Exception ignored in: <function _MultiProcessingDataLoaderIter.__del__ at 0x149045738540>\n",
      "Traceback (most recent call last):\n",
      "  File \"/p/project/icon-a-ml/mambaforge/envs/heuer1_climlab/lib/python3.11/site-packages/torch/utils/data/dataloader.py\", line 1478, in __del__\n",
      "    self._shutdown_workers()\n",
      "  File \"/p/project/icon-a-ml/mambaforge/envs/heuer1_climlab/lib/python3.11/site-packages/torch/utils/data/dataloader.py\", line 1442, in _shutdown_workers\n",
      "    w.join(timeout=_utils.MP_STATUS_CHECK_INTERVAL)\n",
      "  File \"/p/project/icon-a-ml/mambaforge/envs/heuer1_climlab/lib/python3.11/multiprocessing/process.py\", line 149, in join\n",
      "    res = self._popen.wait(timeout)\n",
      "          ^^^^^^^^^^^^^^^^^^^^^^^^^\n",
      "  File \"/p/project/icon-a-ml/mambaforge/envs/heuer1_climlab/lib/python3.11/multiprocessing/popen_fork.py\", line 40, in wait\n",
      "    if not wait([self.sentinel], timeout):\n",
      "           ^^^^^^^^^^^^^^^^^^^^^^^^^^^^^^\n",
      "  File \"/p/project/icon-a-ml/mambaforge/envs/heuer1_climlab/lib/python3.11/multiprocessing/connection.py\", line 947, in wait\n",
      "    ready = selector.select(timeout)\n",
      "            ^^^^^^^^^^^^^^^^^^^^^^^^\n",
      "  File \"/p/project/icon-a-ml/mambaforge/envs/heuer1_climlab/lib/python3.11/selectors.py\", line 415, in select\n",
      "    fd_event_list = self._selector.poll(timeout)\n",
      "                    ^^^^^^^^^^^^^^^^^^^^^^^^^^^^\n",
      "KeyboardInterrupt: \n",
      "  0%|▎                                                                                                                                                                        | 4/2000 [00:19<2:40:20,  4.82s/it]\n"
     ]
    },
    {
     "ename": "KeyboardInterrupt",
     "evalue": "",
     "output_type": "error",
     "traceback": [
      "\u001b[0;31m---------------------------------------------------------------------------\u001b[0m",
      "\u001b[0;31mKeyboardInterrupt\u001b[0m                         Traceback (most recent call last)",
      "File \u001b[0;32m<timed exec>:9\u001b[0m\n",
      "File \u001b[0;32m/p/project/icon-a-ml/mambaforge/envs/heuer1_climlab/lib/python3.11/site-packages/torch/nn/modules/module.py:1518\u001b[0m, in \u001b[0;36mModule._wrapped_call_impl\u001b[0;34m(self, *args, **kwargs)\u001b[0m\n\u001b[1;32m   1516\u001b[0m     \u001b[38;5;28;01mreturn\u001b[39;00m \u001b[38;5;28mself\u001b[39m\u001b[38;5;241m.\u001b[39m_compiled_call_impl(\u001b[38;5;241m*\u001b[39margs, \u001b[38;5;241m*\u001b[39m\u001b[38;5;241m*\u001b[39mkwargs)  \u001b[38;5;66;03m# type: ignore[misc]\u001b[39;00m\n\u001b[1;32m   1517\u001b[0m \u001b[38;5;28;01melse\u001b[39;00m:\n\u001b[0;32m-> 1518\u001b[0m     \u001b[38;5;28;01mreturn\u001b[39;00m \u001b[38;5;28;43mself\u001b[39;49m\u001b[38;5;241;43m.\u001b[39;49m\u001b[43m_call_impl\u001b[49m\u001b[43m(\u001b[49m\u001b[38;5;241;43m*\u001b[39;49m\u001b[43margs\u001b[49m\u001b[43m,\u001b[49m\u001b[43m \u001b[49m\u001b[38;5;241;43m*\u001b[39;49m\u001b[38;5;241;43m*\u001b[39;49m\u001b[43mkwargs\u001b[49m\u001b[43m)\u001b[49m\n",
      "File \u001b[0;32m/p/project/icon-a-ml/mambaforge/envs/heuer1_climlab/lib/python3.11/site-packages/torch/nn/modules/module.py:1527\u001b[0m, in \u001b[0;36mModule._call_impl\u001b[0;34m(self, *args, **kwargs)\u001b[0m\n\u001b[1;32m   1522\u001b[0m \u001b[38;5;66;03m# If we don't have any hooks, we want to skip the rest of the logic in\u001b[39;00m\n\u001b[1;32m   1523\u001b[0m \u001b[38;5;66;03m# this function, and just call forward.\u001b[39;00m\n\u001b[1;32m   1524\u001b[0m \u001b[38;5;28;01mif\u001b[39;00m \u001b[38;5;129;01mnot\u001b[39;00m (\u001b[38;5;28mself\u001b[39m\u001b[38;5;241m.\u001b[39m_backward_hooks \u001b[38;5;129;01mor\u001b[39;00m \u001b[38;5;28mself\u001b[39m\u001b[38;5;241m.\u001b[39m_backward_pre_hooks \u001b[38;5;129;01mor\u001b[39;00m \u001b[38;5;28mself\u001b[39m\u001b[38;5;241m.\u001b[39m_forward_hooks \u001b[38;5;129;01mor\u001b[39;00m \u001b[38;5;28mself\u001b[39m\u001b[38;5;241m.\u001b[39m_forward_pre_hooks\n\u001b[1;32m   1525\u001b[0m         \u001b[38;5;129;01mor\u001b[39;00m _global_backward_pre_hooks \u001b[38;5;129;01mor\u001b[39;00m _global_backward_hooks\n\u001b[1;32m   1526\u001b[0m         \u001b[38;5;129;01mor\u001b[39;00m _global_forward_hooks \u001b[38;5;129;01mor\u001b[39;00m _global_forward_pre_hooks):\n\u001b[0;32m-> 1527\u001b[0m     \u001b[38;5;28;01mreturn\u001b[39;00m \u001b[43mforward_call\u001b[49m\u001b[43m(\u001b[49m\u001b[38;5;241;43m*\u001b[39;49m\u001b[43margs\u001b[49m\u001b[43m,\u001b[49m\u001b[43m \u001b[49m\u001b[38;5;241;43m*\u001b[39;49m\u001b[38;5;241;43m*\u001b[39;49m\u001b[43mkwargs\u001b[49m\u001b[43m)\u001b[49m\n\u001b[1;32m   1529\u001b[0m \u001b[38;5;28;01mtry\u001b[39;00m:\n\u001b[1;32m   1530\u001b[0m     result \u001b[38;5;241m=\u001b[39m \u001b[38;5;28;01mNone\u001b[39;00m\n",
      "Cell \u001b[0;32mIn[16], line 147\u001b[0m, in \u001b[0;36mHighResLeapModel.forward\u001b[0;34m(self, x)\u001b[0m\n\u001b[1;32m    146\u001b[0m \u001b[38;5;28;01mdef\u001b[39;00m \u001b[38;5;21mforward\u001b[39m(\u001b[38;5;28mself\u001b[39m, x):\n\u001b[0;32m--> 147\u001b[0m     output \u001b[38;5;241m=\u001b[39m \u001b[38;5;28;43mself\u001b[39;49m\u001b[38;5;241;43m.\u001b[39;49m\u001b[43mnetwork\u001b[49m\u001b[43m(\u001b[49m\u001b[43mx\u001b[49m\u001b[43m)\u001b[49m\n\u001b[1;32m    148\u001b[0m     \u001b[38;5;28;01mif\u001b[39;00m \u001b[38;5;28mself\u001b[39m\u001b[38;5;241m.\u001b[39muse_confidence:\n\u001b[1;32m    149\u001b[0m         output[:,\u001b[38;5;28mself\u001b[39m\u001b[38;5;241m.\u001b[39moutput_size:] \u001b[38;5;241m=\u001b[39m F\u001b[38;5;241m.\u001b[39mrelu(output[:,\u001b[38;5;28mself\u001b[39m\u001b[38;5;241m.\u001b[39moutput_size:])\n",
      "File \u001b[0;32m/p/project/icon-a-ml/mambaforge/envs/heuer1_climlab/lib/python3.11/site-packages/torch/nn/modules/module.py:1518\u001b[0m, in \u001b[0;36mModule._wrapped_call_impl\u001b[0;34m(self, *args, **kwargs)\u001b[0m\n\u001b[1;32m   1516\u001b[0m     \u001b[38;5;28;01mreturn\u001b[39;00m \u001b[38;5;28mself\u001b[39m\u001b[38;5;241m.\u001b[39m_compiled_call_impl(\u001b[38;5;241m*\u001b[39margs, \u001b[38;5;241m*\u001b[39m\u001b[38;5;241m*\u001b[39mkwargs)  \u001b[38;5;66;03m# type: ignore[misc]\u001b[39;00m\n\u001b[1;32m   1517\u001b[0m \u001b[38;5;28;01melse\u001b[39;00m:\n\u001b[0;32m-> 1518\u001b[0m     \u001b[38;5;28;01mreturn\u001b[39;00m \u001b[38;5;28;43mself\u001b[39;49m\u001b[38;5;241;43m.\u001b[39;49m\u001b[43m_call_impl\u001b[49m\u001b[43m(\u001b[49m\u001b[38;5;241;43m*\u001b[39;49m\u001b[43margs\u001b[49m\u001b[43m,\u001b[49m\u001b[43m \u001b[49m\u001b[38;5;241;43m*\u001b[39;49m\u001b[38;5;241;43m*\u001b[39;49m\u001b[43mkwargs\u001b[49m\u001b[43m)\u001b[49m\n",
      "File \u001b[0;32m/p/project/icon-a-ml/mambaforge/envs/heuer1_climlab/lib/python3.11/site-packages/torch/nn/modules/module.py:1527\u001b[0m, in \u001b[0;36mModule._call_impl\u001b[0;34m(self, *args, **kwargs)\u001b[0m\n\u001b[1;32m   1522\u001b[0m \u001b[38;5;66;03m# If we don't have any hooks, we want to skip the rest of the logic in\u001b[39;00m\n\u001b[1;32m   1523\u001b[0m \u001b[38;5;66;03m# this function, and just call forward.\u001b[39;00m\n\u001b[1;32m   1524\u001b[0m \u001b[38;5;28;01mif\u001b[39;00m \u001b[38;5;129;01mnot\u001b[39;00m (\u001b[38;5;28mself\u001b[39m\u001b[38;5;241m.\u001b[39m_backward_hooks \u001b[38;5;129;01mor\u001b[39;00m \u001b[38;5;28mself\u001b[39m\u001b[38;5;241m.\u001b[39m_backward_pre_hooks \u001b[38;5;129;01mor\u001b[39;00m \u001b[38;5;28mself\u001b[39m\u001b[38;5;241m.\u001b[39m_forward_hooks \u001b[38;5;129;01mor\u001b[39;00m \u001b[38;5;28mself\u001b[39m\u001b[38;5;241m.\u001b[39m_forward_pre_hooks\n\u001b[1;32m   1525\u001b[0m         \u001b[38;5;129;01mor\u001b[39;00m _global_backward_pre_hooks \u001b[38;5;129;01mor\u001b[39;00m _global_backward_hooks\n\u001b[1;32m   1526\u001b[0m         \u001b[38;5;129;01mor\u001b[39;00m _global_forward_hooks \u001b[38;5;129;01mor\u001b[39;00m _global_forward_pre_hooks):\n\u001b[0;32m-> 1527\u001b[0m     \u001b[38;5;28;01mreturn\u001b[39;00m \u001b[43mforward_call\u001b[49m\u001b[43m(\u001b[49m\u001b[38;5;241;43m*\u001b[39;49m\u001b[43margs\u001b[49m\u001b[43m,\u001b[49m\u001b[43m \u001b[49m\u001b[38;5;241;43m*\u001b[39;49m\u001b[38;5;241;43m*\u001b[39;49m\u001b[43mkwargs\u001b[49m\u001b[43m)\u001b[49m\n\u001b[1;32m   1529\u001b[0m \u001b[38;5;28;01mtry\u001b[39;00m:\n\u001b[1;32m   1530\u001b[0m     result \u001b[38;5;241m=\u001b[39m \u001b[38;5;28;01mNone\u001b[39;00m\n",
      "\u001b[0;31mKeyboardInterrupt\u001b[0m: "
     ]
    }
   ],
   "source": [
    "%%time\n",
    "losses = []\n",
    "model.eval()\n",
    "for batch in tqdm(train_loader):\n",
    "    x, y = batch\n",
    "    x = x.to('cuda')\n",
    "    y = y.to('cuda')\n",
    "    for i in range(x.shape[0]):\n",
    "        with torch.no_grad():\n",
    "            y_pred = model(x[i][None,...])\n",
    "            y_pred = y_pred[...,:302]\n",
    "            loss = torch.mean(model.criterion(y_pred, y[i][None,...]))\n",
    "        losses.append(loss.detach().cpu().numpy())\n",
    "\n",
    "losses = np.concatenate(losses)\n",
    "losses.shape"
   ]
  },
  {
   "cell_type": "code",
   "execution_count": 57,
   "id": "467448d8-fcf4-401a-8b1b-89f4c119a2a9",
   "metadata": {
    "tags": []
   },
   "outputs": [
    {
     "name": "stderr",
     "output_type": "stream",
     "text": [
      "100%|██████████████████████████████████████████████████████████████████████████████████████████████████████████████████████████████████████████████████████████████████████████| 204/204 [00:28<00:00,  7.19it/s]\n"
     ]
    },
    {
     "name": "stdout",
     "output_type": "stream",
     "text": [
      "CPU times: user 25.5 s, sys: 174 ms, total: 25.6 s\n",
      "Wall time: 28.7 s\n"
     ]
    },
    {
     "data": {
      "text/plain": [
       "((203040, 308), (203040, 308))"
      ]
     },
     "execution_count": 57,
     "metadata": {},
     "output_type": "execute_result"
    }
   ],
   "source": [
    "%%time\n",
    "y_trues = []\n",
    "y_preds = []\n",
    "model.eval()\n",
    "for batch in tqdm(val_loader):\n",
    "    x, y = batch\n",
    "    # print(x.size(), y.size())\n",
    "    # y = y.view(y.size(1)*y.size(0), y.size(2))\n",
    "    # x = x.view(x.size(1)*x.size(0), x.size(2), x.size(3))\n",
    "    with torch.no_grad():\n",
    "        y_pred = model(x)\n",
    "\n",
    "    y_preds.append(y_pred.detach().cpu().numpy())\n",
    "    y_trues.append(y.detach().cpu().numpy())\n",
    "    \n",
    "y_trues = np.concatenate(y_trues)\n",
    "y_preds = np.concatenate(y_preds)\n",
    "y_trues.shape, y_preds.shape\n",
    "# Wall time: 24.9 s"
   ]
  },
  {
   "cell_type": "code",
   "execution_count": 58,
   "id": "0e2bfcdf-0eea-482b-9126-340e28994115",
   "metadata": {
    "tags": []
   },
   "outputs": [
    {
     "data": {
      "text/plain": [
       "(0.7726353901250259, 0.7726420410358735, 0.8181337986645204)"
      ]
     },
     "execution_count": 58,
     "metadata": {},
     "output_type": "execute_result"
    }
   ],
   "source": [
    "from sklearn.metrics import r2_score as sk_r2\n",
    "\n",
    "r2vals = sk_r2(y_trues, y_preds, multioutput='raw_values')\n",
    "r2score = np.mean(r2vals)\n",
    "\n",
    "y_std = Y_STD.numpy()\n",
    "y_mean = Y_MEAN.numpy()\n",
    "\n",
    "y_trues = (y_trues * y_std) + y_mean\n",
    "y_preds[:, y_std < (1.1 * ERR)] = 0\n",
    "y_preds = (y_preds * y_std) + y_mean\n",
    "\n",
    "r2vals_capped = sk_r2(y_trues, y_preds, multioutput='raw_values')\n",
    "r2score_capped = np.mean(r2vals_capped)\n",
    "\n",
    "# y_preds[:, ADJUSTMENT_MASK==0] = y[:, ADJUSTMENT_MASK==0]\n",
    "# y_preds[:, MASK==0] = 0\n",
    "# y_trues[:, MASK==0] = 0\n",
    "y_preds[:, zeroout_index] = y_trues[:, zeroout_index]\n",
    "y_preds[:, zeroout_index] = 0\n",
    "y_trues[:, zeroout_index] = 0\n",
    "\n",
    "r2score_masked = sk_r2(y_trues, y_preds)\n",
    "\n",
    "r2score, r2score_capped, r2score_masked"
   ]
  },
  {
   "cell_type": "code",
   "execution_count": 83,
   "id": "7000f5b8-d045-475a-a1de-b3941bc33d35",
   "metadata": {
    "tags": []
   },
   "outputs": [
    {
     "data": {
      "image/png": "[encoded data removed]",
      "text/plain": [
       "<Figure size 640x480 with 1 Axes>"
      ]
     },
     "metadata": {},
     "output_type": "display_data"
    }
   ],
   "source": [
    "v5vec_outputs = ['ptend_t',\n",
    "              'ptend_q0001',\n",
    "              'ptend_qn',\n",
    "              'ptend_u',\n",
    "              'ptend_v',\n",
    "]\n",
    "\n",
    "v5scal_outputs = [\n",
    "              'cam_out_NETSW',\n",
    "              'cam_out_FLWDS',\n",
    "              'cam_out_PRECSC',\n",
    "              'cam_out_PRECC',\n",
    "              'cam_out_SOLS',\n",
    "              'cam_out_SOLL',\n",
    "              'cam_out_SOLSD',\n",
    "              'cam_out_SOLLD',\n",
    "]\n",
    "\n",
    "plt.plot(r2vals, 'o-', ms=3)\n",
    "plt.ylim(0,1)\n",
    "plt.xlim(0,len(v5vec_outputs)*NLEV+len(v5scal_outputs))\n",
    "\n",
    "for i in range(len(v5vec_outputs)+1):\n",
    "    plt.axvline(i*NLEV, ls='--', c='black')\n",
    "\n",
    "\n",
    "plt.xticks([NLEV*i+30 for i in range(len(v5vec_outputs))] + [NLEV*len(v5vec_outputs)+4], v5vec_outputs+['scalars'])\n",
    "plt.text(0.01, 0.03, f'~R2 score: {r2score:.3f}', transform=plt.gca().transAxes, rotation='vertical')\n",
    "# for i,out in enumerate(v5scal_outputs):\n",
    "#     plt.axvline(len(v5vec_outputs)*NLEV+i, ls='--')\n",
    "plt.savefig(f'../../Figures/offline_r2_v5expandcnv_team5reduced.jpg', bbox_inches=\"tight\")\n",
    "\n",
    "plt.show()"
   ]
  },
  {
   "cell_type": "code",
   "execution_count": 64,
   "id": "aa85fe43-ec42-4e14-bb51-aea1405d6517",
   "metadata": {
    "tags": []
   },
   "outputs": [
    {
     "data": {
      "text/plain": [
       "'R2 score: 0.77'"
      ]
     },
     "execution_count": 64,
     "metadata": {},
     "output_type": "execute_result"
    }
   ],
   "source": [
    "f'R2 score: {r2score:.3f}'"
   ]
  },
  {
   "cell_type": "code",
   "execution_count": 63,
   "id": "c8806188-0889-4d38-bee6-6c1a066155e9",
   "metadata": {
    "tags": []
   },
   "outputs": [
    {
     "data": {
      "text/plain": [
       "<function __main__.r2_score(y_pred, y_true)>"
      ]
     },
     "execution_count": 63,
     "metadata": {},
     "output_type": "execute_result"
    }
   ],
   "source": [
    "r2_score"
   ]
  },
  {
   "cell_type": "markdown",
   "id": "41723583-419d-4338-9e77-7fe60829d16d",
   "metadata": {},
   "source": [
    "# Loss testing"
   ]
  },
  {
   "cell_type": "code",
   "execution_count": 24,
   "id": "295f4994-5dea-4d08-82fe-f0fb24b9193a",
   "metadata": {},
   "outputs": [],
   "source": [
    "def get_my_loss(reduction='mean'):\n",
    "    def my_loss(output, target):\n",
    "        absdiff = torch.abs(output - target)\n",
    "        loss = torch.where(absdiff < 1, absdiff**2, absdiff)\n",
    "        if reduction == 'mean':\n",
    "            loss = torch.mean(loss)\n",
    "        return loss\n",
    "    return my_loss"
   ]
  },
  {
   "cell_type": "code",
   "execution_count": 37,
   "id": "6ae118ec-83ca-4805-846e-e2198273e039",
   "metadata": {},
   "outputs": [
    {
     "data": {
      "image/png": "[encoded data removed]",
      "text/plain": [
       "<Figure size 640x480 with 1 Axes>"
      ]
     },
     "metadata": {},
     "output_type": "display_data"
    }
   ],
   "source": [
    "test_loss = nn.HuberLoss(delta=1, reduction='none')\n",
    "# test_loss = get_my_loss(reduction='none')\n",
    "\n",
    "x1test = torch.linspace(0,10,100)[None,:].reshape(1,-1)\n",
    "x2test = torch.zeros_like(x1test)\n",
    "\n",
    "ytest = test_loss(x1test, x2test)\n",
    "\n",
    "plt.plot(x1test.squeeze(), ytest.squeeze())\n",
    "ytest2 = torch.where(x1test<1, torch.sqrt(ytest+0.), ytest+0.5)\n",
    "plt.plot(x1test.squeeze(), ytest2.squeeze())\n",
    "plt.axline([0,0], slope=1, ls='--', color='black')\n",
    "plt.xlim(0,None)\n",
    "plt.ylim(0,None)\n",
    "plt.show()"
   ]
  }
 ],
 "metadata": {
  "kernelspec": {
   "display_name": "Python (climlab)",
   "language": "python",
   "name": "climlab"
  },
  "language_info": {
   "codemirror_mode": {
    "name": "ipython",
    "version": 3
   },
   "file_extension": ".py",
   "mimetype": "text/x-python",
   "name": "python",
   "nbconvert_exporter": "python",
   "pygments_lexer": "ipython3",
   "version": "3.11.8"
  }
 },
 "nbformat": 4,
 "nbformat_minor": 5
}
